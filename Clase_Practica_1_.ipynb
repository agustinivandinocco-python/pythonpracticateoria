{
  "cells": [
    {
      "cell_type": "markdown",
      "metadata": {
        "id": "view-in-github",
        "colab_type": "text"
      },
      "source": [
        "<a href=\"https://colab.research.google.com/github/agustinivandinocco-python/pythonpracticateoria/blob/main/Clase_Practica_1_.ipynb\" target=\"_parent\"><img src=\"https://colab.research.google.com/assets/colab-badge.svg\" alt=\"Open In Colab\"/></a>"
      ]
    },
    {
      "cell_type": "markdown",
      "metadata": {
        "id": "NNUxXCX5bTY9"
      },
      "source": [
        "# Python Para finanzas 2025\n",
        "\n",
        "EJERCICIOS CLASE TEORICA 1"
      ]
    },
    {
      "cell_type": "markdown",
      "metadata": {
        "id": "UE0F4f3Obil8"
      },
      "source": [
        "1)\n",
        "\n",
        "pedir al usuario su nombre y edad. Imprimir en pantalla un saludo a este usuario, recordandole la edad que tiene.\n",
        "imprimir de forma concatenada  y tambien utlizando fstring!\n",
        "\n",
        "imprimir la edad del hijo del usuario, que asumimos que tiene un tercio de la edad de este."
      ]
    },
    {
      "cell_type": "code",
      "source": [],
      "metadata": {
        "id": "ub8a-oxH13-C"
      },
      "execution_count": null,
      "outputs": []
    },
    {
      "cell_type": "code",
      "source": [],
      "metadata": {
        "id": "JsolPOmJ13vU"
      },
      "execution_count": null,
      "outputs": []
    },
    {
      "cell_type": "markdown",
      "metadata": {
        "id": "cFPZDFdPcQ8Z"
      },
      "source": [
        "2)\n",
        "\n",
        "pedir al usuario su apellido, guardarlo en variable \"last_name\", asegurar que el mismo se encuentre con mayuscula en su letra inicial.\n",
        "\n",
        "como me aseguro cumplir con las mayusculas si tengo un apellido con mas de una palabra (compuesto)?\n",
        "\n"
      ]
    },
    {
      "cell_type": "code",
      "source": [],
      "metadata": {
        "id": "EKROECkK1577"
      },
      "execution_count": null,
      "outputs": []
    },
    {
      "cell_type": "code",
      "source": [],
      "metadata": {
        "id": "_r2bTWxG15xC"
      },
      "execution_count": null,
      "outputs": []
    },
    {
      "cell_type": "markdown",
      "metadata": {
        "id": "M0YRNBIOcVvS"
      },
      "source": [
        "3) practiquemos algunas operaciones matematicas para refrescar!!\n",
        "\n",
        "  defina cada variable y responda las siguientes preguntas:  \n",
        "  * a = 3\n",
        "  * b = 5\n",
        "  * c = 4\n",
        "\n",
        "  3.1) el resultado de la suma de a y c\n",
        "\n",
        "  3.2) el resultado de A menos B\n",
        "\n",
        "  3.3) la multiplicacion de A y C\n",
        "\n",
        "  3.4) cual es el cuadrado de B ?\n",
        "\n",
        "  3.5) dividir B en C veces es igual a.. ? y si la division es entera? cual es el resto?\n",
        "\n",
        "  3.6) cual es la raiz cuadrada de C ?\n",
        "\n",
        "  3.7) es A par? y C ?"
      ]
    },
    {
      "cell_type": "code",
      "source": [],
      "metadata": {
        "id": "Rqo-OHCY2H-T"
      },
      "execution_count": null,
      "outputs": []
    },
    {
      "cell_type": "code",
      "source": [],
      "metadata": {
        "id": "ma6M6PBL2IOb"
      },
      "execution_count": null,
      "outputs": []
    },
    {
      "cell_type": "markdown",
      "metadata": {
        "id": "jIOKS6j7cl-m"
      },
      "source": [
        "4)\n",
        "\n",
        "pedir al usuario el precio de cierre de GGAL y guardarla en variable \"ggal_price\". Si tengo la certeza que mañana no subira ni bajara mas de un X% (ingresar por consola tambien),entre que posibles precios se podra encontrar mañana? guardar los rangos minimos y maximos en dos variables."
      ]
    },
    {
      "cell_type": "code",
      "source": [],
      "metadata": {
        "id": "u_JScwr52LDy"
      },
      "execution_count": null,
      "outputs": []
    },
    {
      "cell_type": "code",
      "source": [],
      "metadata": {
        "id": "flVpi6Fk2K1j"
      },
      "execution_count": null,
      "outputs": []
    },
    {
      "cell_type": "markdown",
      "metadata": {
        "id": "zVZ67HyKgJ_U"
      },
      "source": [
        "### Formateos:\n",
        "Separador de miles ->       {precio: , }\n",
        "\n",
        "Decimales ->                {precio: .xf}\n",
        "\n",
        "Completar numero ->         {precio:0>4}"
      ]
    },
    {
      "cell_type": "code",
      "source": [],
      "metadata": {
        "id": "XPY2WmVl2Mh7"
      },
      "execution_count": null,
      "outputs": []
    },
    {
      "cell_type": "markdown",
      "metadata": {
        "id": "A5_v-cvwt8wy"
      },
      "source": [
        "##¿Qué son los Slicings en Python?\n",
        "es una técnica para extraer subcadenas de una **cadena de texto** o elementos de una lista o secuencia.\n",
        "\n",
        "\n",
        "Syntaxis:   \n",
        "\n",
        "            string [posicion]\n",
        "\n",
        "            string[start:end(exc)]\n",
        "\n",
        "            string [ start : end (exc) : step(opc)]\n",
        "            \n",
        "\n",
        "Si uso valores negativos, puedo invertir el string.\n",
        "\n",
        "\n"
      ]
    },
    {
      "cell_type": "code",
      "source": [],
      "metadata": {
        "id": "6He2mVTp2Par"
      },
      "execution_count": null,
      "outputs": []
    },
    {
      "cell_type": "markdown",
      "metadata": {
        "id": "uHf5h9bZ103Z"
      },
      "source": [
        "5)\n",
        "\n",
        "Cuantas palabras tiene la variable?\n",
        "\n",
        "Cual es el sexto caracter? y el doceavo? cual es la septima letra?\n",
        "\n",
        "Cual es la primer palabra?"
      ]
    },
    {
      "cell_type": "code",
      "execution_count": null,
      "metadata": {
        "id": "Ym-BZ7R20APq"
      },
      "outputs": [],
      "source": [
        "programa = \"Python para Finanzas \"\n"
      ]
    },
    {
      "cell_type": "code",
      "source": [],
      "metadata": {
        "id": "rCmNMTmO2WpT"
      },
      "execution_count": null,
      "outputs": []
    },
    {
      "cell_type": "markdown",
      "metadata": {
        "id": "3uIzew57c4H6"
      },
      "source": [
        "6) juguemos un rato con los slicing en strings!!\n",
        "* utilizando metodos de strings , capturar en una variable la frase \"es la mas alta de los ultimos años.\"\n",
        "* cual es la ultima palabra de la oración?"
      ]
    },
    {
      "cell_type": "code",
      "execution_count": null,
      "metadata": {
        "id": "oxjlHPWOdcW8"
      },
      "outputs": [],
      "source": [
        "oracion = \"\"\"    La inflación de EE.UU. es la más alta de los últimos años. ¿No sabés qué hacer para que tus dólares no pierdan valor?\n",
        "Te compartimos tres carteras de ONs y sus rendimientos anuales esperados para que puedas proteger tu capital    \"\"\"\n"
      ]
    },
    {
      "cell_type": "markdown",
      "metadata": {
        "id": "2RSJTFv9eQz8"
      },
      "source": [
        "7) pedir por consola al usuario un email y guardarlo en variable \"email\". Imprimir si cumple con alguna de las terminaciones existentes\n",
        " (supongamos que solo existen las terminaciones __@gmail.com__ y __@yahoo.com__ )\n",
        "\n",
        "\n",
        " imprimir de la forma  -->       \"es X que el mail termina en Z , y es Y que el mail termina en K\""
      ]
    },
    {
      "cell_type": "code",
      "source": [],
      "metadata": {
        "id": "iyRjwvkf2alT"
      },
      "execution_count": null,
      "outputs": []
    },
    {
      "cell_type": "markdown",
      "metadata": {
        "id": "XnAJYR76eSVk"
      },
      "source": [
        "8)\n",
        "\n",
        "* Limpiar el string de cotizaciones lo maximo posible.\n",
        "\n",
        "* La ultima cotizacion tuvo un error de tipeo, es imposible que COME supere los $3. Como puedo modificar su valor a 2.99 sin usar replace?"
      ]
    },
    {
      "cell_type": "code",
      "execution_count": null,
      "metadata": {
        "id": "MSpSLnZse975"
      },
      "outputs": [],
      "source": [
        "cotizaciones = \"\"\" BMA C $220,00\n",
        "BMA C $219,22\n",
        "BMA V $221,50\n",
        "CoME V $3,00\n",
        "GGAL c $190,95\n",
        "BMA V $220,25\n",
        "GGAL  v $187,20\n",
        "TS V $40,30\n",
        "TS C $45,20\n",
        "TS V $40,20\n",
        "COME C $3,01\"\"\"\n",
        "\n"
      ]
    },
    {
      "cell_type": "code",
      "execution_count": null,
      "metadata": {
        "id": "2XVDIagAPm8x"
      },
      "outputs": [],
      "source": []
    },
    {
      "cell_type": "markdown",
      "metadata": {
        "id": "PThtifvDfYuO"
      },
      "source": [
        "10) verificar si el contenido de las variables dadas son un palindromo  e imprimir todas las respuestas  utilizando UNA sola vez la funcion \"print\" asegurando que entre cada respuesta haya un salto de linea.\n",
        "\n",
        "imprimir en un formato similar al punto 1.\n",
        "\n",
        "a la variable __cuatro__ formatear con metodos para intentar asegurar no tener fallas a la hora de resolver."
      ]
    },
    {
      "cell_type": "code",
      "execution_count": null,
      "metadata": {
        "id": "vbnYhEinfi55"
      },
      "outputs": [],
      "source": [
        "uno = \"Python\"\n",
        "dos = \"Amor a Roma\"\n",
        "tres = \"Yo hago yoga hoy\"\n",
        "#cuatro = dejamos al usuario que"
      ]
    },
    {
      "cell_type": "markdown",
      "metadata": {
        "id": "Y0LUas2imZLq"
      },
      "source": [
        "11) Pida al usuario una frase, e informe cuantas vocales contiene. Al hacerlo, centre la respuesta en 10 caracteres."
      ]
    },
    {
      "cell_type": "code",
      "source": [],
      "metadata": {
        "id": "5FIxQu-fRfbb"
      },
      "execution_count": null,
      "outputs": []
    },
    {
      "cell_type": "code",
      "source": [],
      "metadata": {
        "id": "Jx6aJz-VRhMJ"
      },
      "execution_count": null,
      "outputs": []
    }
  ],
  "metadata": {
    "colab": {
      "provenance": [],
      "include_colab_link": true
    },
    "kernelspec": {
      "display_name": "Python 3 (ipykernel)",
      "language": "python",
      "name": "python3"
    },
    "language_info": {
      "codemirror_mode": {
        "name": "ipython",
        "version": 3
      },
      "file_extension": ".py",
      "mimetype": "text/x-python",
      "name": "python",
      "nbconvert_exporter": "python",
      "pygments_lexer": "ipython3",
      "version": "3.12.4"
    }
  },
  "nbformat": 4,
  "nbformat_minor": 0
}