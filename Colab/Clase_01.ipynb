{
  "cells": [
    {
      "cell_type": "markdown",
      "metadata": {
        "id": "view-in-github",
        "colab_type": "text"
      },
      "source": [
        "<a href=\"https://colab.research.google.com/github/agustinivandinocco-python/pythonpracticateoria/blob/main/Colab/Clase_01.ipynb\" target=\"_parent\"><img src=\"https://colab.research.google.com/assets/colab-badge.svg\" alt=\"Open In Colab\"/></a>"
      ]
    },
    {
      "cell_type": "markdown",
      "source": [
        "# Intro"
      ],
      "metadata": {
        "id": "CtufJstwUTr4"
      }
    },
    {
      "cell_type": "markdown",
      "source": [
        "* Primeras 12 clases:\n",
        "\n",
        "  *   Lunes Teoria\n",
        "  *   Miercoles Practica\n",
        "\n",
        "* Siguientes 4 clases: Lunes y Miercoles full teoria+practica\n",
        "\n",
        "\n",
        "* Clases __quedan grabadas__\n",
        "\n",
        "* No hace falta libros complementarios\n",
        "\n",
        "  Python para finanzas quant T0\n",
        "    https://drive.google.com/file/d/18coDstlcqX74wiuHp4poug_52AxbqMPd/view?usp=sharing\n",
        "\n",
        "  Libros para el que quiera hacer un doble click luego\n",
        "    https://drive.google.com/drive/folders/1K1p6vIkeC-CyHNnSIEmHv_SA-dQ6gVZ0?usp=sharing\n",
        "\n",
        "\n"
      ],
      "metadata": {
        "id": "Sc1H87m8UVz4"
      }
    },
    {
      "cell_type": "code",
      "source": [],
      "metadata": {
        "id": "0Agr7RicU3ct"
      },
      "execution_count": null,
      "outputs": []
    },
    {
      "cell_type": "code",
      "source": [],
      "metadata": {
        "id": "AgQFP7M8U3Zf"
      },
      "execution_count": null,
      "outputs": []
    },
    {
      "cell_type": "code",
      "source": [],
      "metadata": {
        "id": "MS-I_qgBU3WW"
      },
      "execution_count": null,
      "outputs": []
    },
    {
      "cell_type": "markdown",
      "metadata": {
        "id": "YZ7FqLjw15ij"
      },
      "source": [
        "# Hola Mundo 2"
      ]
    },
    {
      "cell_type": "code",
      "execution_count": null,
      "metadata": {
        "colab": {
          "base_uri": "https://localhost:8080/"
        },
        "id": "QmeqnFLZ15io",
        "outputId": "2429e6ba-6ef8-496d-a928-53b2510ceb87"
      },
      "outputs": [
        {
          "output_type": "stream",
          "name": "stdout",
          "text": [
            "Hola Mundo\n",
            "Fin del mensaje\n"
          ]
        }
      ],
      "source": [
        "print('Hola Mundo')"
      ]
    },
    {
      "cell_type": "code",
      "source": [
        "print('Estamos codeando', sep='---', end='\\n*******\\n')\n",
        "print('Fin del mensaje')"
      ],
      "metadata": {
        "colab": {
          "base_uri": "https://localhost:8080/"
        },
        "id": "j0FKmx4j5x_r",
        "outputId": "1aa1a7ad-c03a-442b-e2db-7835b1c091cc"
      },
      "execution_count": null,
      "outputs": [
        {
          "output_type": "stream",
          "name": "stdout",
          "text": [
            "Estamos codeando\n",
            "*******\n",
            "Fin del mensaje\n"
          ]
        }
      ]
    },
    {
      "cell_type": "code",
      "source": [],
      "metadata": {
        "id": "Rea5ZW1uJVbx"
      },
      "execution_count": null,
      "outputs": []
    },
    {
      "cell_type": "code",
      "source": [],
      "metadata": {
        "id": "sw5It5XWJVYq"
      },
      "execution_count": null,
      "outputs": []
    },
    {
      "cell_type": "markdown",
      "metadata": {
        "id": "e8ApNtjc15is"
      },
      "source": [
        "# Variables I/O"
      ]
    },
    {
      "cell_type": "markdown",
      "source": [
        "Cada variable es un objeto o veanlo como un espacio de la memoria donde voy a guardar \"algo\"\n",
        "\n",
        "Ese \"algo\" como veremos mas adelante puede ser algo muy simple como un número o una frase, o bien puede ser una estructura de datos como una tabla entera o incluso una estructura de datos con \"funcionalidad propia\", como por ejemplo una tabla que tenga asociado un metodo para auto-ordenarse por cada columna"
      ],
      "metadata": {
        "id": "UdzRwPo9631C"
      }
    },
    {
      "cell_type": "code",
      "source": [],
      "metadata": {
        "id": "9InEvXik7WBG"
      },
      "execution_count": null,
      "outputs": []
    },
    {
      "cell_type": "code",
      "source": [],
      "metadata": {
        "id": "75Zq946-7V-P"
      },
      "execution_count": null,
      "outputs": []
    },
    {
      "cell_type": "code",
      "source": [],
      "metadata": {
        "id": "huWEB5527V7V"
      },
      "execution_count": null,
      "outputs": []
    },
    {
      "cell_type": "markdown",
      "metadata": {
        "id": "goZATj0G15iv"
      },
      "source": [
        "# Funciones básicas: Operaciones aritmeticas"
      ]
    },
    {
      "cell_type": "markdown",
      "source": [
        "## Print y salida nativa de jupyter"
      ],
      "metadata": {
        "id": "o7meY7mf8CY1"
      }
    },
    {
      "cell_type": "markdown",
      "source": [
        "En Jupyter no hace falta usar print() para imprimir lo que contiene una variable, porque simplemente con invocarla, me devuelve lo que la variable contiene\n",
        "\n",
        "En cambio en otros entornos va a ser necesario usar el print(variable), para ver que contiene la variable en consola, o usar herramientas de inspeccion de variable que ya veremos"
      ],
      "metadata": {
        "id": "lI2xKAuK8LOv"
      }
    },
    {
      "cell_type": "code",
      "source": [
        "a = 5\n",
        "a"
      ],
      "metadata": {
        "colab": {
          "base_uri": "https://localhost:8080/"
        },
        "id": "9ohAydyC8FTd",
        "outputId": "7e242859-7455-4ae1-f1b0-e9624b1a5d56"
      },
      "execution_count": null,
      "outputs": [
        {
          "output_type": "execute_result",
          "data": {
            "text/plain": [
              "5"
            ]
          },
          "metadata": {},
          "execution_count": 8
        }
      ]
    },
    {
      "cell_type": "code",
      "source": [
        "a = 5\n",
        "print(a)"
      ],
      "metadata": {
        "colab": {
          "base_uri": "https://localhost:8080/"
        },
        "id": "pGMtyqqj8HCZ",
        "outputId": "ff3dc540-fc2e-43d4-95db-fe6fcf844b36"
      },
      "execution_count": null,
      "outputs": [
        {
          "output_type": "stream",
          "name": "stdout",
          "text": [
            "5\n"
          ]
        }
      ]
    },
    {
      "cell_type": "markdown",
      "source": [
        "## Combinacion de operacion y print"
      ],
      "metadata": {
        "id": "B2AvAYiF7-GM"
      }
    },
    {
      "cell_type": "code",
      "execution_count": null,
      "metadata": {
        "colab": {
          "base_uri": "https://localhost:8080/"
        },
        "id": "tQ5YcuAp15iv",
        "outputId": "a999d50e-3839-4474-b9d6-3e3f8967e49d"
      },
      "outputs": [
        {
          "output_type": "stream",
          "name": "stdout",
          "text": [
            "13\n"
          ]
        }
      ],
      "source": [
        "print(a+b)"
      ]
    },
    {
      "cell_type": "code",
      "source": [
        "print('El resultado de sumar a y b da:', a+b)"
      ],
      "metadata": {
        "colab": {
          "base_uri": "https://localhost:8080/"
        },
        "id": "iH0gcDKFWrQ3",
        "outputId": "b2eeb464-7890-4761-c63c-bccd64ff0b6b"
      },
      "execution_count": null,
      "outputs": [
        {
          "output_type": "stream",
          "name": "stdout",
          "text": [
            "El resultado de sumar a y b da: 13\n"
          ]
        }
      ]
    },
    {
      "cell_type": "code",
      "source": [
        "print(f'El resultado de sumar a y b da: {a+b}')"
      ],
      "metadata": {
        "colab": {
          "base_uri": "https://localhost:8080/"
        },
        "id": "8mjHgg0BWwm4",
        "outputId": "1a08cbbc-849c-43a8-c1e5-313397802781"
      },
      "execution_count": null,
      "outputs": [
        {
          "output_type": "stream",
          "name": "stdout",
          "text": [
            "El resultado de sumar a y b da: 13\n"
          ]
        }
      ]
    },
    {
      "cell_type": "markdown",
      "source": [
        "# Otras operaciones"
      ],
      "metadata": {
        "id": "4iibzhN28xMe"
      }
    },
    {
      "cell_type": "code",
      "execution_count": null,
      "metadata": {
        "colab": {
          "base_uri": "https://localhost:8080/"
        },
        "id": "oAFDmuYq15i0",
        "outputId": "60e50307-aae3-4afd-e301-b77626024e72"
      },
      "outputs": [
        {
          "output_type": "stream",
          "name": "stdout",
          "text": [
            "125\n"
          ]
        }
      ],
      "source": [
        "print(a**3)"
      ]
    },
    {
      "cell_type": "code",
      "execution_count": null,
      "metadata": {
        "colab": {
          "base_uri": "https://localhost:8080/"
        },
        "id": "U807Mh9l15i1",
        "outputId": "31dd416e-c64f-4f18-8ead-72005ff4d446"
      },
      "outputs": [
        {
          "output_type": "execute_result",
          "data": {
            "text/plain": [
              "2"
            ]
          },
          "metadata": {},
          "execution_count": 29
        }
      ],
      "source": [
        "# Division entera\n",
        "a//2"
      ]
    },
    {
      "cell_type": "code",
      "execution_count": null,
      "metadata": {
        "colab": {
          "base_uri": "https://localhost:8080/"
        },
        "id": "ZaKFRAKG15i2",
        "outputId": "fda2d7bb-b7e1-455f-9575-657ac576d27c"
      },
      "outputs": [
        {
          "output_type": "execute_result",
          "data": {
            "text/plain": [
              "1"
            ]
          },
          "metadata": {},
          "execution_count": 30
        }
      ],
      "source": [
        "# modulo, el resto de la division entera\n",
        "a % 2"
      ]
    },
    {
      "cell_type": "code",
      "execution_count": null,
      "metadata": {
        "colab": {
          "base_uri": "https://localhost:8080/"
        },
        "id": "bYEZUGmu15i3",
        "outputId": "e16a7d42-ccc4-49a2-d353-d2c2a026ddac"
      },
      "outputs": [
        {
          "output_type": "execute_result",
          "data": {
            "text/plain": [
              "2.5"
            ]
          },
          "metadata": {},
          "execution_count": 31
        }
      ],
      "source": [
        "a / 2"
      ]
    },
    {
      "cell_type": "code",
      "execution_count": null,
      "metadata": {
        "colab": {
          "base_uri": "https://localhost:8080/"
        },
        "id": "29ssY00A15i4",
        "outputId": "a6c6ed5e-0195-4ad3-b7ea-41883572dac6"
      },
      "outputs": [
        {
          "output_type": "execute_result",
          "data": {
            "text/plain": [
              "3.0"
            ]
          },
          "metadata": {},
          "execution_count": 32
        }
      ],
      "source": [
        "raiz_9 = 9**0.5\n",
        "raiz_9"
      ]
    },
    {
      "cell_type": "markdown",
      "metadata": {
        "id": "MZBxOW9o15i5"
      },
      "source": [
        "# Funciones predefinidas"
      ]
    },
    {
      "cell_type": "raw",
      "metadata": {
        "id": "cO60zr3i15i6"
      },
      "source": [
        "Machete:\n",
        "\n",
        "    nombreFuncion(argumento1, argumento2... [argunmentoN])"
      ]
    },
    {
      "cell_type": "code",
      "execution_count": null,
      "metadata": {
        "colab": {
          "base_uri": "https://localhost:8080/"
        },
        "id": "YhItKi4E15i7",
        "outputId": "36bbab79-b199-4928-9e72-a89984804564"
      },
      "outputs": [
        {
          "output_type": "execute_result",
          "data": {
            "text/plain": [
              "3.14"
            ]
          },
          "metadata": {},
          "execution_count": 43
        }
      ],
      "source": [
        "flotante = 3.141592653589\n",
        "round(flotante, 2)"
      ]
    },
    {
      "cell_type": "code",
      "execution_count": null,
      "metadata": {
        "colab": {
          "base_uri": "https://localhost:8080/"
        },
        "id": "1hZuesmc15i8",
        "outputId": "11ddb81e-5482-4410-b047-134b768a2a2c"
      },
      "outputs": [
        {
          "output_type": "execute_result",
          "data": {
            "text/plain": [
              "3.1416"
            ]
          },
          "metadata": {},
          "execution_count": 47
        }
      ],
      "source": [
        "flotante"
      ]
    },
    {
      "cell_type": "code",
      "execution_count": null,
      "metadata": {
        "id": "oSloJSD015i9"
      },
      "outputs": [],
      "source": [
        "# asignacion destructiva\n",
        "flotante = round(flotante, 4)"
      ]
    },
    {
      "cell_type": "code",
      "execution_count": null,
      "metadata": {
        "colab": {
          "base_uri": "https://localhost:8080/"
        },
        "id": "Zyp3zsIv15i9",
        "outputId": "bbbef1d7-bdcf-46e2-e96d-c17bb75412b8"
      },
      "outputs": [
        {
          "output_type": "execute_result",
          "data": {
            "text/plain": [
              "3.1416"
            ]
          },
          "metadata": {},
          "execution_count": 46
        }
      ],
      "source": [
        "flotante"
      ]
    },
    {
      "cell_type": "code",
      "execution_count": null,
      "metadata": {
        "colab": {
          "base_uri": "https://localhost:8080/"
        },
        "id": "Rlev5nNO15i-",
        "outputId": "49fd9374-9436-4e76-effa-b02bccef3795"
      },
      "outputs": [
        {
          "output_type": "stream",
          "name": "stdout",
          "text": [
            "Juan 48\n"
          ]
        },
        {
          "output_type": "execute_result",
          "data": {
            "text/plain": [
              "('Juan', '48')"
            ]
          },
          "metadata": {},
          "execution_count": 4
        }
      ],
      "source": [
        "nombre = 'Juan'\n",
        "edad = \"48\"\n",
        "\n",
        "print(nombre, edad)\n",
        "nombre, edad"
      ]
    },
    {
      "cell_type": "code",
      "source": [],
      "metadata": {
        "id": "rBmBXBrm9xXF"
      },
      "execution_count": null,
      "outputs": []
    },
    {
      "cell_type": "code",
      "source": [],
      "metadata": {
        "id": "32xojiaR9xUS"
      },
      "execution_count": null,
      "outputs": []
    },
    {
      "cell_type": "code",
      "source": [],
      "metadata": {
        "id": "ztDYFgsC9xQ7"
      },
      "execution_count": null,
      "outputs": []
    },
    {
      "cell_type": "markdown",
      "metadata": {
        "id": "AufxuWiF15i_"
      },
      "source": [
        "# Ayuda de funciones"
      ]
    },
    {
      "cell_type": "code",
      "execution_count": null,
      "metadata": {
        "colab": {
          "base_uri": "https://localhost:8080/"
        },
        "id": "Q29Y_zha15i_",
        "outputId": "80490d97-815b-4716-a06a-3ba9a7b33de3"
      },
      "outputs": [
        {
          "output_type": "stream",
          "name": "stdout",
          "text": [
            "Help on built-in function print in module builtins:\n",
            "\n",
            "print(...)\n",
            "    print(value, ..., sep=' ', end='\\n', file=sys.stdout, flush=False)\n",
            "    \n",
            "    Prints the values to a stream, or to sys.stdout by default.\n",
            "    Optional keyword arguments:\n",
            "    file:  a file-like object (stream); defaults to the current sys.stdout.\n",
            "    sep:   string inserted between values, default a space.\n",
            "    end:   string appended after the last value, default a newline.\n",
            "    flush: whether to forcibly flush the stream.\n",
            "\n"
          ]
        }
      ],
      "source": [
        "help(print)"
      ]
    },
    {
      "cell_type": "code",
      "execution_count": null,
      "metadata": {
        "colab": {
          "base_uri": "https://localhost:8080/"
        },
        "id": "HkhMJIBW15i_",
        "outputId": "a12deec4-5b47-4ccb-959b-dc6eaa9696d1"
      },
      "outputs": [
        {
          "output_type": "stream",
          "name": "stdout",
          "text": [
            "Help on built-in function round in module builtins:\n",
            "\n",
            "round(number, ndigits=None)\n",
            "    Round a number to a given precision in decimal digits.\n",
            "    \n",
            "    The return value is an integer if ndigits is omitted or None.  Otherwise\n",
            "    the return value has the same type as the number.  ndigits may be negative.\n",
            "\n"
          ]
        }
      ],
      "source": [
        "help(round)"
      ]
    },
    {
      "cell_type": "markdown",
      "metadata": {
        "id": "SL3O1MVi15i_"
      },
      "source": [
        "# Tipos de Variables"
      ]
    },
    {
      "cell_type": "markdown",
      "metadata": {
        "id": "V4tndW2t15jA"
      },
      "source": [
        "## Entero"
      ]
    },
    {
      "cell_type": "code",
      "execution_count": null,
      "metadata": {
        "colab": {
          "base_uri": "https://localhost:8080/"
        },
        "id": "AZgbmXOK15jA",
        "outputId": "8774f175-ee6f-4f97-f841-20a3a56c795a"
      },
      "outputs": [
        {
          "output_type": "execute_result",
          "data": {
            "text/plain": [
              "int"
            ]
          },
          "metadata": {},
          "execution_count": 59
        }
      ],
      "source": [
        "a = 5\n",
        "type(a)"
      ]
    },
    {
      "cell_type": "markdown",
      "metadata": {
        "id": "CdVfetKC15jA"
      },
      "source": [
        "## Flotante"
      ]
    },
    {
      "cell_type": "code",
      "execution_count": null,
      "metadata": {
        "colab": {
          "base_uri": "https://localhost:8080/"
        },
        "id": "A-yOB5eQ15jA",
        "outputId": "085c0ce4-2855-4620-cbc4-15c481115bfa"
      },
      "outputs": [
        {
          "output_type": "execute_result",
          "data": {
            "text/plain": [
              "float"
            ]
          },
          "metadata": {},
          "execution_count": 60
        }
      ],
      "source": [
        "a = 0.1\n",
        "type(a)"
      ]
    },
    {
      "cell_type": "markdown",
      "metadata": {
        "id": "ZD6VooTk15jB"
      },
      "source": [
        "## Complejo?"
      ]
    },
    {
      "cell_type": "code",
      "execution_count": null,
      "metadata": {
        "colab": {
          "base_uri": "https://localhost:8080/"
        },
        "id": "iO21olCg15jB",
        "outputId": "755f2145-4e98-4d4e-d71f-0a21029939a4"
      },
      "outputs": [
        {
          "output_type": "execute_result",
          "data": {
            "text/plain": [
              "(1.2246467991473532e-16+2j)"
            ]
          },
          "metadata": {},
          "execution_count": 16
        }
      ],
      "source": [
        "complejo = (-4) **0.5\n",
        "complejo"
      ]
    },
    {
      "cell_type": "code",
      "execution_count": null,
      "metadata": {
        "colab": {
          "base_uri": "https://localhost:8080/"
        },
        "id": "OduP8kuJ15jB",
        "outputId": "846feedf-40a9-4174-bbae-6e5cc015856c"
      },
      "outputs": [
        {
          "output_type": "execute_result",
          "data": {
            "text/plain": [
              "complex"
            ]
          },
          "metadata": {},
          "execution_count": 63
        }
      ],
      "source": [
        "type(complejo)"
      ]
    },
    {
      "cell_type": "code",
      "execution_count": null,
      "metadata": {
        "id": "Y1NqKM3915jB"
      },
      "outputs": [],
      "source": []
    },
    {
      "cell_type": "markdown",
      "source": [
        "Tema punto flotante:\n",
        "\n",
        "https://0.30000000000000004.com/"
      ],
      "metadata": {
        "id": "NRKYk6HXBBJQ"
      }
    },
    {
      "cell_type": "code",
      "execution_count": null,
      "metadata": {
        "colab": {
          "base_uri": "https://localhost:8080/"
        },
        "id": "joMdBabo15jC",
        "outputId": "d1688273-ab23-4c69-b787-03fdfecfeeb4"
      },
      "outputs": [
        {
          "output_type": "stream",
          "name": "stdout",
          "text": [
            "0.1 0.2\n"
          ]
        }
      ],
      "source": [
        "a = 0.1\n",
        "b = 0.2\n",
        "print(a,b)"
      ]
    },
    {
      "cell_type": "code",
      "execution_count": null,
      "metadata": {
        "colab": {
          "base_uri": "https://localhost:8080/"
        },
        "id": "xQKVkSfp15jC",
        "outputId": "6c713d2a-8460-4ff8-f849-c35cb9b70306"
      },
      "outputs": [
        {
          "output_type": "execute_result",
          "data": {
            "text/plain": [
              "0.30000000000000004"
            ]
          },
          "metadata": {},
          "execution_count": 67
        }
      ],
      "source": [
        "a+b"
      ]
    },
    {
      "cell_type": "markdown",
      "metadata": {
        "id": "FYzKZn9M15jC"
      },
      "source": [
        "## Booleanos"
      ]
    },
    {
      "cell_type": "code",
      "execution_count": null,
      "metadata": {
        "colab": {
          "base_uri": "https://localhost:8080/"
        },
        "id": "sobLAbdL15jC",
        "outputId": "86ec4345-89ae-4496-abe4-e2a42d746434"
      },
      "outputs": [
        {
          "output_type": "execute_result",
          "data": {
            "text/plain": [
              "(True, False)"
            ]
          },
          "metadata": {},
          "execution_count": 11
        }
      ],
      "source": [
        "a = True\n",
        "b = False\n",
        "\n",
        "a,b"
      ]
    },
    {
      "cell_type": "code",
      "execution_count": null,
      "metadata": {
        "colab": {
          "base_uri": "https://localhost:8080/"
        },
        "id": "ZcZgy4tO15jD",
        "outputId": "3500418f-09df-4f31-be43-7b02e2c23c32"
      },
      "outputs": [
        {
          "output_type": "execute_result",
          "data": {
            "text/plain": [
              "bool"
            ]
          },
          "metadata": {},
          "execution_count": 12
        }
      ],
      "source": [
        "type(a)"
      ]
    },
    {
      "cell_type": "markdown",
      "metadata": {
        "id": "L3V5nkIX15jE"
      },
      "source": [
        "## No-Numéricos => Strings"
      ]
    },
    {
      "cell_type": "code",
      "source": [],
      "metadata": {
        "id": "dhdGL9_3-kuS"
      },
      "execution_count": null,
      "outputs": []
    },
    {
      "cell_type": "code",
      "source": [],
      "metadata": {
        "id": "c8T8TnaE-kjd"
      },
      "execution_count": null,
      "outputs": []
    },
    {
      "cell_type": "code",
      "source": [],
      "metadata": {
        "id": "4axP98mC-kgV"
      },
      "execution_count": null,
      "outputs": []
    },
    {
      "cell_type": "code",
      "source": [],
      "metadata": {
        "id": "ffPJoaAC-kc1"
      },
      "execution_count": null,
      "outputs": []
    },
    {
      "cell_type": "markdown",
      "source": [
        "# Operar con variables de distinto tipo\n",
        "\n",
        "\n",
        "Python es un lenguaje de tipado fuerte, es decir que no permite operar con variables de diferente tipo a menos que hagamos una conversion **explicita**"
      ],
      "metadata": {
        "id": "gfvGXBtF9ICe"
      }
    },
    {
      "cell_type": "code",
      "source": [],
      "metadata": {
        "id": "mkd_mQ-W-T0a"
      },
      "execution_count": null,
      "outputs": []
    },
    {
      "cell_type": "code",
      "source": [],
      "metadata": {
        "id": "GwOxptwu-TxJ"
      },
      "execution_count": null,
      "outputs": []
    },
    {
      "cell_type": "code",
      "source": [],
      "metadata": {
        "id": "tZOZIe2IgHon"
      },
      "execution_count": null,
      "outputs": []
    },
    {
      "cell_type": "markdown",
      "metadata": {
        "id": "-NRFloQ115jH"
      },
      "source": [
        "# Pasar de un tipo a otro"
      ]
    },
    {
      "cell_type": "code",
      "source": [],
      "metadata": {
        "id": "Draln_C1-SvR"
      },
      "execution_count": null,
      "outputs": []
    },
    {
      "cell_type": "code",
      "source": [],
      "metadata": {
        "id": "o9gV8enx-Ssd"
      },
      "execution_count": null,
      "outputs": []
    },
    {
      "cell_type": "code",
      "source": [],
      "metadata": {
        "id": "qbVbVWob-SpY"
      },
      "execution_count": null,
      "outputs": []
    },
    {
      "cell_type": "markdown",
      "metadata": {
        "id": "7uAXkFqT15jI"
      },
      "source": [
        "# Input por teclado"
      ]
    },
    {
      "cell_type": "code",
      "execution_count": null,
      "metadata": {
        "id": "9QNTOcvs15jI"
      },
      "outputs": [],
      "source": []
    },
    {
      "cell_type": "code",
      "source": [],
      "metadata": {
        "id": "cZ7s-DNM-ZWg"
      },
      "execution_count": null,
      "outputs": []
    },
    {
      "cell_type": "code",
      "source": [],
      "metadata": {
        "id": "zHxXILHV-ZTI"
      },
      "execution_count": null,
      "outputs": []
    },
    {
      "cell_type": "code",
      "source": [],
      "metadata": {
        "id": "hQkEa9Z4-ZQA"
      },
      "execution_count": null,
      "outputs": []
    },
    {
      "cell_type": "code",
      "source": [],
      "metadata": {
        "id": "nC3nwhvo-ZMy"
      },
      "execution_count": null,
      "outputs": []
    },
    {
      "cell_type": "markdown",
      "metadata": {
        "id": "mFKHJeC715jM"
      },
      "source": [
        "# Operaciones con Strings"
      ]
    },
    {
      "cell_type": "code",
      "execution_count": null,
      "metadata": {
        "colab": {
          "base_uri": "https://localhost:8080/",
          "height": 36
        },
        "id": "SiMA1Bz615jM",
        "outputId": "6f59fc00-d849-44fe-bcf6-068c56b697fe"
      },
      "outputs": [
        {
          "output_type": "execute_result",
          "data": {
            "text/plain": [
              "'5510'"
            ],
            "application/vnd.google.colaboratory.intrinsic+json": {
              "type": "string"
            }
          },
          "metadata": {},
          "execution_count": 87
        }
      ],
      "source": [
        "a = '55'\n",
        "b = \"10\"\n",
        "\n",
        "(a+b)"
      ]
    },
    {
      "cell_type": "code",
      "execution_count": null,
      "metadata": {
        "colab": {
          "base_uri": "https://localhost:8080/",
          "height": 36
        },
        "id": "O3GeKDMh15jN",
        "outputId": "fcf3d4c2-01f8-4316-afe3-06fb26ef95ad"
      },
      "outputs": [
        {
          "output_type": "execute_result",
          "data": {
            "text/plain": [
              "'1010101010'"
            ],
            "application/vnd.google.colaboratory.intrinsic+json": {
              "type": "string"
            }
          },
          "metadata": {},
          "execution_count": 88
        }
      ],
      "source": [
        "b*5"
      ]
    },
    {
      "cell_type": "markdown",
      "source": [
        "## Funciones de strings"
      ],
      "metadata": {
        "id": "AO1YDYMt-xiD"
      }
    },
    {
      "cell_type": "code",
      "source": [],
      "metadata": {
        "id": "udhq799o-56z"
      },
      "execution_count": null,
      "outputs": []
    },
    {
      "cell_type": "code",
      "source": [],
      "metadata": {
        "id": "ON62O4l3-53q"
      },
      "execution_count": null,
      "outputs": []
    },
    {
      "cell_type": "markdown",
      "metadata": {
        "id": "KhIMcROH15jP"
      },
      "source": [
        "# Format Strings"
      ]
    },
    {
      "cell_type": "code",
      "execution_count": null,
      "metadata": {
        "id": "-E7e4zRC15jQ",
        "outputId": "4dec1490-f104-49fa-b527-34b3dcf222df"
      },
      "outputs": [
        {
          "data": {
            "text/plain": [
              "'Hola Juan, tu accion preferida COME hoy varíó 1.25%'"
            ]
          },
          "execution_count": 39,
          "metadata": {},
          "output_type": "execute_result"
        }
      ],
      "source": [
        "nombre = 'Juan'\n",
        "accionPreferida = 'COME'\n",
        "variacion = 0.0125\n",
        "\n",
        "string  = f'Hola {nombre}, tu accion preferida {accionPreferida} hoy varíó {variacion:.2%}'\n",
        "string"
      ]
    },
    {
      "cell_type": "code",
      "execution_count": null,
      "metadata": {
        "id": "F_npwpRu15jQ"
      },
      "outputs": [],
      "source": []
    },
    {
      "cell_type": "code",
      "execution_count": null,
      "metadata": {
        "id": "1VgAvqfe15jR"
      },
      "outputs": [],
      "source": []
    },
    {
      "cell_type": "code",
      "execution_count": null,
      "metadata": {
        "id": "reEzT5q715jR"
      },
      "outputs": [],
      "source": []
    },
    {
      "cell_type": "code",
      "source": [],
      "metadata": {
        "id": "9amDylew_ByN"
      },
      "execution_count": null,
      "outputs": []
    },
    {
      "cell_type": "code",
      "source": [],
      "metadata": {
        "id": "NLVEQZpj_Buz"
      },
      "execution_count": null,
      "outputs": []
    },
    {
      "cell_type": "code",
      "source": [],
      "metadata": {
        "id": "JUtPXkJs_Br7"
      },
      "execution_count": null,
      "outputs": []
    },
    {
      "cell_type": "code",
      "execution_count": null,
      "metadata": {
        "id": "IjnYxc6y15jU"
      },
      "outputs": [],
      "source": []
    },
    {
      "cell_type": "markdown",
      "metadata": {
        "id": "UAkFiSyq15jV"
      },
      "source": [
        "# Librerias"
      ]
    },
    {
      "cell_type": "code",
      "execution_count": null,
      "metadata": {
        "id": "EG9GemNm15jV"
      },
      "outputs": [],
      "source": [
        "import math"
      ]
    },
    {
      "cell_type": "code",
      "execution_count": null,
      "metadata": {
        "colab": {
          "base_uri": "https://localhost:8080/"
        },
        "id": "ULxRe1_D15jV",
        "outputId": "b51684ab-ef3d-414b-b958-ed346f1fd36a"
      },
      "outputs": [
        {
          "output_type": "execute_result",
          "data": {
            "text/plain": [
              "3.141592653589793"
            ]
          },
          "metadata": {},
          "execution_count": 110
        }
      ],
      "source": [
        "math.pi"
      ]
    },
    {
      "cell_type": "code",
      "execution_count": null,
      "metadata": {
        "colab": {
          "base_uri": "https://localhost:8080/"
        },
        "id": "AJ3mXhgk15jV",
        "outputId": "611acb63-b855-4a46-e805-ec80df769477"
      },
      "outputs": [
        {
          "output_type": "execute_result",
          "data": {
            "text/plain": [
              "2.0"
            ]
          },
          "metadata": {},
          "execution_count": 111
        }
      ],
      "source": [
        "math.log(100, 10)"
      ]
    },
    {
      "cell_type": "markdown",
      "source": [],
      "metadata": {
        "id": "J9gkcHgZ_TP2"
      }
    },
    {
      "cell_type": "code",
      "execution_count": null,
      "metadata": {
        "id": "99URPcOf15jV",
        "outputId": "19b4161c-416a-4901-cbd1-6d5469d85275"
      },
      "outputs": [
        {
          "name": "stdout",
          "output_type": "stream",
          "text": [
            "Help on built-in function log in module math:\n",
            "\n",
            "log(...)\n",
            "    log(x, [base=math.e])\n",
            "    Return the logarithm of x to the given base.\n",
            "    \n",
            "    If the base not specified, returns the natural logarithm (base e) of x.\n",
            "\n"
          ]
        }
      ],
      "source": [
        "help(math.log)"
      ]
    },
    {
      "cell_type": "code",
      "source": [
        "import math\n",
        "\n",
        "# Valor en radianes para calcular su coseno\n",
        "x = 1\n",
        "\n",
        "# Calcular el coseno de x\n",
        "resultado = math.cos(x)\n",
        "\n",
        "# Imprimir el resultado\n",
        "print(\"El coseno de\", x, \"en radianes, es:\", resultado)\n"
      ],
      "metadata": {
        "colab": {
          "base_uri": "https://localhost:8080/"
        },
        "id": "XX3Z-z6KpcOp",
        "outputId": "4cc914f5-087f-496d-f16d-46b4668419b8"
      },
      "execution_count": null,
      "outputs": [
        {
          "output_type": "stream",
          "name": "stdout",
          "text": [
            "El coseno de 1 en radianes, es: 0.5403023058681398\n"
          ]
        }
      ]
    },
    {
      "cell_type": "markdown",
      "source": [
        "# Importaciones con alias y parciales"
      ],
      "metadata": {
        "id": "UdRkgp23_jhr"
      }
    },
    {
      "cell_type": "code",
      "source": [],
      "metadata": {
        "id": "z_H4VS5F_oQK"
      },
      "execution_count": null,
      "outputs": []
    },
    {
      "cell_type": "code",
      "source": [],
      "metadata": {
        "id": "FUMGhs4L_oNk"
      },
      "execution_count": null,
      "outputs": []
    },
    {
      "cell_type": "code",
      "source": [],
      "metadata": {
        "id": "uBhUj7Hs_nV_"
      },
      "execution_count": null,
      "outputs": []
    }
  ],
  "metadata": {
    "kernelspec": {
      "display_name": "Python 3 (ipykernel)",
      "language": "python",
      "name": "python3"
    },
    "language_info": {
      "codemirror_mode": {
        "name": "ipython",
        "version": 3
      },
      "file_extension": ".py",
      "mimetype": "text/x-python",
      "name": "python",
      "nbconvert_exporter": "python",
      "pygments_lexer": "ipython3",
      "version": "3.9.7"
    },
    "toc": {
      "base_numbering": 1,
      "nav_menu": {},
      "number_sections": true,
      "sideBar": true,
      "skip_h1_title": false,
      "title_cell": "Table of Contents",
      "title_sidebar": "Contents",
      "toc_cell": false,
      "toc_position": {},
      "toc_section_display": true,
      "toc_window_display": true
    },
    "colab": {
      "provenance": [],
      "include_colab_link": true
    }
  },
  "nbformat": 4,
  "nbformat_minor": 0
}