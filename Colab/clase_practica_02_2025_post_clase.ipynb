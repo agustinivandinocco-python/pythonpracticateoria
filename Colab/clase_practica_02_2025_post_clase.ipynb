{
  "nbformat": 4,
  "nbformat_minor": 0,
  "metadata": {
    "colab": {
      "provenance": [],
      "include_colab_link": true
    },
    "kernelspec": {
      "name": "python3",
      "display_name": "Python 3"
    },
    "language_info": {
      "name": "python"
    }
  },
  "cells": [
    {
      "cell_type": "markdown",
      "metadata": {
        "id": "view-in-github",
        "colab_type": "text"
      },
      "source": [
        "<a href=\"https://colab.research.google.com/github/agustinivandinocco-python/pythonpracticateoria/blob/main/Colab/clase_practica_02_2025_post_clase.ipynb\" target=\"_parent\"><img src=\"https://colab.research.google.com/assets/colab-badge.svg\" alt=\"Open In Colab\"/></a>"
      ]
    },
    {
      "cell_type": "markdown",
      "source": [
        "# Python Para finanzas 2025\n",
        "\n",
        "## EJERCICIOS CLASE TEORICA 2\n",
        "\n"
      ],
      "metadata": {
        "id": "1HcfZD3wBXVO"
      }
    },
    {
      "cell_type": "markdown",
      "source": [],
      "metadata": {
        "id": "KISHokDgBd1S"
      }
    },
    {
      "cell_type": "markdown",
      "source": [
        "## Comenzaremos con los ejercicios que quedaron pendientes de la Clase_Practica_01_2025 (ej,8,9,10)"
      ],
      "metadata": {
        "id": "_eckagVjB8oq"
      }
    },
    {
      "cell_type": "markdown",
      "source": [
        "8)\n",
        "\n",
        "Limpiar el string de cotizaciones lo maximo posible.\n",
        "\n",
        "La ultima cotizacion tuvo un error de tipeo, es imposible que COME supere los $3. Como puedo modificar su valor a 2.99 sin usar replace?"
      ],
      "metadata": {
        "id": "64mszX3eCWzR"
      }
    },
    {
      "cell_type": "code",
      "source": [
        "cotizaciones = \"\"\" BMA C $220,00\n",
        "BMA C $219,22\n",
        "BMA V $221,50\n",
        "CoME V $3,00\n",
        "GGAL c $190,95\n",
        "BMA V $220,25\n",
        "GGAL  v $187,20\n",
        "TS V $40,30\n",
        "TS C $45,20\n",
        "TS V $40,20\n",
        "COME C $3,01\"\"\""
      ],
      "metadata": {
        "id": "MliXdhjLCaGT"
      },
      "execution_count": null,
      "outputs": []
    },
    {
      "cell_type": "code",
      "source": [
        "#con upper pasamos todo a mayus y con lower a minus\n",
        "cotizaciones = cotizaciones.replace(\"  \" , \" \").replace(\"   \" , \" \")"
      ],
      "metadata": {
        "id": "V_9GtelaePYs"
      },
      "execution_count": null,
      "outputs": []
    },
    {
      "cell_type": "code",
      "source": [
        "cotizaciones = cotizaciones.upper()\n",
        "cotizaciones = cotizaciones.strip()\n",
        "cotizaciones = cotizaciones.replace(\",\" , \".\")"
      ],
      "metadata": {
        "id": "LcEYvZVvdAkj"
      },
      "execution_count": null,
      "outputs": []
    },
    {
      "cell_type": "code",
      "source": [
        "print(cotizaciones)"
      ],
      "metadata": {
        "colab": {
          "base_uri": "https://localhost:8080/"
        },
        "id": "ui_rpm-tfixO",
        "outputId": "47590d1e-7723-4533-f04d-0e9e5e23a76a"
      },
      "execution_count": null,
      "outputs": [
        {
          "output_type": "stream",
          "name": "stdout",
          "text": [
            "BMA C $220.00\n",
            "BMA C $219.22\n",
            "BMA V $221.50\n",
            "COME V $3.00\n",
            "GGAL C $190.95\n",
            "BMA V $220.25\n",
            "GGAL V $187.20\n",
            "TS V $40.30\n",
            "TS C $45.20\n",
            "TS V $40.20\n",
            "COME C $3.01\n"
          ]
        }
      ]
    },
    {
      "cell_type": "code",
      "source": [
        "nuevo_precio = 2.99\n",
        "nuevo_precio = str(nuevo_precio)\n"
      ],
      "metadata": {
        "id": "BtXPqhQOfiYG"
      },
      "execution_count": null,
      "outputs": []
    },
    {
      "cell_type": "code",
      "source": [
        "cotizaciones_invertido = cotizaciones[ : : -1]\n",
        "nuevo_precio_invertido = nuevo_precio[::-1]"
      ],
      "metadata": {
        "id": "tif8aoT0fiMP"
      },
      "execution_count": null,
      "outputs": []
    },
    {
      "cell_type": "code",
      "source": [
        "print(cotizaciones_invertido)"
      ],
      "metadata": {
        "colab": {
          "base_uri": "https://localhost:8080/"
        },
        "id": "zYR1GlgojODj",
        "outputId": "4ed06436-5d82-4159-b42c-6c041376c216"
      },
      "execution_count": null,
      "outputs": [
        {
          "output_type": "stream",
          "name": "stdout",
          "text": [
            "10.3$ C EMOC\n",
            "02.04$ V ST\n",
            "02.54$ C ST\n",
            "03.04$ V ST\n",
            "02.781$ V LAGG\n",
            "52.022$ V AMB\n",
            "59.091$ C LAGG\n",
            "00.3$ V EMOC\n",
            "05.122$ V AMB\n",
            "22.912$ C AMB\n",
            "00.022$ C AMB\n"
          ]
        }
      ]
    },
    {
      "cell_type": "code",
      "source": [
        "nuevo_precio_invertido"
      ],
      "metadata": {
        "colab": {
          "base_uri": "https://localhost:8080/",
          "height": 36
        },
        "id": "7rYHYbilkvdX",
        "outputId": "77a4bb02-467a-4e5d-93bf-e8764aa86622"
      },
      "execution_count": null,
      "outputs": [
        {
          "output_type": "execute_result",
          "data": {
            "text/plain": [
              "'99.2'"
            ],
            "application/vnd.google.colaboratory.intrinsic+json": {
              "type": "string"
            }
          },
          "metadata": {},
          "execution_count": 52
        }
      ]
    },
    {
      "cell_type": "code",
      "source": [
        "#como tarea podrian dividirlo en distintas variables para quede mas prolijo!\n",
        "print((nuevo_precio_invertido+cotizaciones_invertido[ cotizaciones_invertido.find(\"$\"): ])[ : : -1])"
      ],
      "metadata": {
        "colab": {
          "base_uri": "https://localhost:8080/"
        },
        "id": "dVan8JdVj3ZQ",
        "outputId": "9222d46d-5e21-490b-e127-8d488af4f2f4"
      },
      "execution_count": null,
      "outputs": [
        {
          "output_type": "stream",
          "name": "stdout",
          "text": [
            "BMA C $220.00\n",
            "BMA C $219.22\n",
            "BMA V $221.50\n",
            "COME V $3.00\n",
            "GGAL C $190.95\n",
            "BMA V $220.25\n",
            "GGAL V $187.20\n",
            "TS V $40.30\n",
            "TS C $45.20\n",
            "TS V $40.20\n",
            "COME C $2.99\n"
          ]
        }
      ]
    },
    {
      "cell_type": "code",
      "source": [],
      "metadata": {
        "id": "YJRvQdptlgOv"
      },
      "execution_count": null,
      "outputs": []
    },
    {
      "cell_type": "markdown",
      "source": [
        "9) verificar si el contenido de las variables dadas son un palindromo  e imprimir todas las respuestas  utilizando UNA sola vez la funcion \"print\" asegurando que entre cada respuesta haya un salto de linea.\n",
        "\n",
        "imprimir en un formato similar al punto 7.\n",
        "\n",
        "a la variable __cuatro__ formatear con metodos para intentar asegurar no tener fallas a la hora de resolver."
      ],
      "metadata": {
        "id": "TUfQtIviCe6d"
      }
    },
    {
      "cell_type": "code",
      "source": [
        "uno = \"Python\"\n",
        "dos = \"Amor a Roma\"\n",
        "tres = \"Yo hago yoga hoy\""
      ],
      "metadata": {
        "id": "QeFtImj1Cjq-"
      },
      "execution_count": null,
      "outputs": []
    },
    {
      "cell_type": "code",
      "source": [],
      "metadata": {
        "id": "AhpmzcGBCmcp"
      },
      "execution_count": null,
      "outputs": []
    },
    {
      "cell_type": "code",
      "source": [],
      "metadata": {
        "id": "hr4aoCcLCs0f"
      },
      "execution_count": null,
      "outputs": []
    },
    {
      "cell_type": "markdown",
      "source": [
        "10) Pida al usuario una frase, e informe cuantas vocales contiene. Al hacerlo, centre la respuesta en 10 caracteres."
      ],
      "metadata": {
        "id": "dkTVDQpTCs8P"
      }
    },
    {
      "cell_type": "code",
      "source": [],
      "metadata": {
        "id": "iD3_0IiFCuLg"
      },
      "execution_count": null,
      "outputs": []
    },
    {
      "cell_type": "code",
      "source": [],
      "metadata": {
        "id": "DjYYlhL_CuXR"
      },
      "execution_count": null,
      "outputs": []
    },
    {
      "cell_type": "markdown",
      "source": [
        "## Ahora si comencemos con los Ejercicios de la Clase Practica 02\n"
      ],
      "metadata": {
        "id": "3ZMbcnNpFEGS"
      }
    },
    {
      "cell_type": "markdown",
      "source": [
        "1)\n",
        "\n",
        "pedir al usuario el precio de cierre de GGAL y guardarla en variable \"ggal_price\". Si tengo la certeza que mañana no subira ni bajara mas de un X% (ingresar por consola tambien),entre que posibles precios se podra encontrar mañana? guardar los rangos minimos y maximos en dos variables."
      ],
      "metadata": {
        "id": "LIydr0JJFJSD"
      }
    },
    {
      "cell_type": "code",
      "source": [
        "ggal_price = float(input(\"Cual fue el precio de ggal: \"))\n",
        "variacion_porcentual = float(input(\"ingrese la variacion porcentual: \"))\n"
      ],
      "metadata": {
        "id": "NxFpbKmjFc6p",
        "colab": {
          "base_uri": "https://localhost:8080/"
        },
        "outputId": "c75a9688-e886-442d-95f7-d909e2f56796"
      },
      "execution_count": null,
      "outputs": [
        {
          "name": "stdout",
          "output_type": "stream",
          "text": [
            "Cual fue el precio de ggal: 7100\n",
            "ingrese la variacion porcentual: 4\n"
          ]
        }
      ]
    },
    {
      "cell_type": "code",
      "source": [
        "min_ggal_price = ggal_price * (1 - variacion_porcentual/100)\n",
        "max_ggal_price = ggal_price * (1 + variacion_porcentual/100)"
      ],
      "metadata": {
        "id": "kF69zYqzFdIg"
      },
      "execution_count": null,
      "outputs": []
    },
    {
      "cell_type": "code",
      "source": [],
      "metadata": {
        "id": "6UvG3oSgmFQ5"
      },
      "execution_count": null,
      "outputs": []
    },
    {
      "cell_type": "code",
      "source": [
        "min_ggal_price"
      ],
      "metadata": {
        "colab": {
          "base_uri": "https://localhost:8080/"
        },
        "id": "II1AD2SNmE25",
        "outputId": "d662236e-7afd-4782-c855-9c4a674d6746"
      },
      "execution_count": null,
      "outputs": [
        {
          "output_type": "execute_result",
          "data": {
            "text/plain": [
              "6816.0"
            ]
          },
          "metadata": {},
          "execution_count": 59
        }
      ]
    },
    {
      "cell_type": "code",
      "source": [
        "max_ggal_price"
      ],
      "metadata": {
        "colab": {
          "base_uri": "https://localhost:8080/"
        },
        "id": "4GYD7yZ9mI_Z",
        "outputId": "169f3979-10e3-4041-e043-fb167dcde153"
      },
      "execution_count": null,
      "outputs": [
        {
          "output_type": "execute_result",
          "data": {
            "text/plain": [
              "7384.0"
            ]
          },
          "metadata": {},
          "execution_count": 60
        }
      ]
    },
    {
      "cell_type": "markdown",
      "source": [
        "2) siguiendo con el ejercicio anterior.. imprimir nuevamente las variables \"ggal_price_max\" y \"ggal_price_min\". Supongamos que ahora tenemos la certeza de que el valor de mañana para ggal estara entre el rango de precios maximo y minimo...\n",
        "\n",
        "Generar aleatoriamente el precio de ggal de mañana asumiendo que cualquier valor entre el máximo y el mínimo tienen la misma probabilidad de ocurrencia"
      ],
      "metadata": {
        "id": "eYjI2cp8FgKq"
      }
    },
    {
      "cell_type": "code",
      "source": [
        "import random"
      ],
      "metadata": {
        "id": "s_DAjwxHGG5O"
      },
      "execution_count": null,
      "outputs": []
    },
    {
      "cell_type": "code",
      "source": [
        "random.uniform(min_ggal_price , max_ggal_price)"
      ],
      "metadata": {
        "id": "cqNnE2k3Gc2a",
        "colab": {
          "base_uri": "https://localhost:8080/"
        },
        "outputId": "26279400-04fb-4733-d9bd-29c28640bb26"
      },
      "execution_count": null,
      "outputs": [
        {
          "output_type": "execute_result",
          "data": {
            "text/plain": [
              "6822.168731675159"
            ]
          },
          "metadata": {},
          "execution_count": 91
        }
      ]
    },
    {
      "cell_type": "code",
      "source": [
        "#demostracion de distribucion uniforme , no tiene enunciado de ejercicio.\n",
        "\n",
        "precios = []\n",
        "\n",
        "for i in range(100000):\n",
        "  p = random.uniform(1 , 6)\n",
        "  precios.append(p)\n",
        "\n",
        "import seaborn as sns #libreria que vamos a ver al final del curso, al igual que matplotlib.pyplot (submodulo mas usado)\n",
        "\n",
        "sns.histplot(precios , bins=6)"
      ],
      "metadata": {
        "colab": {
          "base_uri": "https://localhost:8080/",
          "height": 447
        },
        "id": "gl_NtarknfjY",
        "outputId": "80ce8dca-c54f-4368-c9ae-49bf306fcbe3"
      },
      "execution_count": null,
      "outputs": [
        {
          "output_type": "execute_result",
          "data": {
            "text/plain": [
              "<Axes: ylabel='Count'>"
            ]
          },
          "metadata": {},
          "execution_count": 98
        },
        {
          "output_type": "display_data",
          "data": {
            "text/plain": [
              "<Figure size 640x480 with 1 Axes>"
            ],
            "image/png": "[encoded data removed]"
          },
          "metadata": {}
        }
      ]
    },
    {
      "cell_type": "markdown",
      "source": [
        "3) Idem al anterior pero asumir esta vez que el mínimo y maximo dados son los topes de 3 sigmas y que GGAL sigue una distribucion normal\n",
        "Se contempla que el valor de la media es 0.\n",
        "Imprimir el resultado en un fstring con 2 posiciones decimales"
      ],
      "metadata": {
        "id": "ICLu09H-GdCB"
      }
    },
    {
      "cell_type": "code",
      "source": [
        "import random as rn"
      ],
      "metadata": {
        "id": "n1wdrDaNGifE"
      },
      "execution_count": null,
      "outputs": []
    },
    {
      "cell_type": "code",
      "source": [
        "print(f\"precio minimo {min_ggal_price} y el maximo {max_ggal_price}\")"
      ],
      "metadata": {
        "id": "ck54EeqvLhAN",
        "colab": {
          "base_uri": "https://localhost:8080/"
        },
        "outputId": "6d87cc20-2d50-4b0f-a42f-06e4a6935079"
      },
      "execution_count": null,
      "outputs": [
        {
          "output_type": "stream",
          "name": "stdout",
          "text": [
            "precio minimo 6816.0 y el maximo 7384.0\n"
          ]
        }
      ]
    },
    {
      "cell_type": "code",
      "source": [
        "rango = max_ggal_price - min_ggal_price\n",
        "sigma = rango / 6"
      ],
      "metadata": {
        "id": "yH4EQ7dLpgI8"
      },
      "execution_count": null,
      "outputs": []
    },
    {
      "cell_type": "code",
      "source": [
        "simulacion_nominal = random.normalvariate(mu=0 , sigma=sigma) #probar con mu = ggal price como segunda opcion y entender la diferencia!"
      ],
      "metadata": {
        "id": "Mo25u_BtpCyB"
      },
      "execution_count": null,
      "outputs": []
    },
    {
      "cell_type": "code",
      "source": [
        "precio_simulado = ggal_price + simulacion_nominal"
      ],
      "metadata": {
        "id": "aFrTSIwHrRwy"
      },
      "execution_count": null,
      "outputs": []
    },
    {
      "cell_type": "code",
      "source": [
        "\n",
        "simulacion_nominal"
      ],
      "metadata": {
        "colab": {
          "base_uri": "https://localhost:8080/"
        },
        "id": "an1bEBM6rWVD",
        "outputId": "1cc5031e-f59f-41b4-a63b-1a6e6b234b2c"
      },
      "execution_count": null,
      "outputs": [
        {
          "output_type": "execute_result",
          "data": {
            "text/plain": [
              "-137.14859814144054"
            ]
          },
          "metadata": {},
          "execution_count": 120
        }
      ]
    },
    {
      "cell_type": "code",
      "source": [
        "\n",
        "precio_simulado\n"
      ],
      "metadata": {
        "colab": {
          "base_uri": "https://localhost:8080/"
        },
        "id": "rwUswxvWrUly",
        "outputId": "bbb0e30c-0935-4765-b10b-1fc290267617"
      },
      "execution_count": null,
      "outputs": [
        {
          "output_type": "execute_result",
          "data": {
            "text/plain": [
              "6962.851401858559"
            ]
          },
          "metadata": {},
          "execution_count": 119
        }
      ]
    },
    {
      "cell_type": "markdown",
      "source": [
        "4) Sabiendo que la accion de BMA cerro en $ 220, asumiendo que BMA tiene una volatilidad % diaria del 3% y en promedio sube un 0.027%\n",
        "\n",
        "Pedir al usuario que estime a que precio abrira mañana.\n",
        "Generar un precio aleatorio asumiendo una distribucion normal e indicar que tanta diferencia hubo en la estimacion del usuario con el precio aleatorio generado.\n"
      ],
      "metadata": {
        "id": "OyNT_easLhF7"
      }
    },
    {
      "cell_type": "code",
      "source": [
        "precio_bma = 220\n",
        "\n",
        "desvio = 3/100\n",
        "\n",
        "media = 0.027/100\n",
        "\n",
        "retorno = rn.normalvariate(sigma=desvio ,  mu=media) #aca ponemos los parametros al reves siempre seteando los nombres de estos antes de indicarles la variable!\n",
        "precio_t_1_simulado = precio_bma * (1+ retorno)\n",
        "retorno_porcentual = retorno* 100\n",
        "\n",
        "\n",
        "precio_usuario_estimado = float(input(\"ingrese un precio estimado para t+1 en BMA : \"))\n",
        "\n",
        "variacion_porcentual = ((precio_usuario_estimado - precio_t_1_simulado) / precio_t_1_simulado) * 100\n",
        "\n",
        "print(f\"el precio simulado es de {precio_t_1_simulado} , por lo que la diferencia es de {variacion_porcentual:.3f} %. \\n Siendo el retorno de {retorno_porcentual:.2f}%.  \")\n"
      ],
      "metadata": {
        "id": "g1TD4ZURLoRG",
        "colab": {
          "base_uri": "https://localhost:8080/"
        },
        "outputId": "92dfabbe-1014-4f13-c722-9d3b00cafbdc"
      },
      "execution_count": null,
      "outputs": [
        {
          "output_type": "stream",
          "name": "stdout",
          "text": [
            "ingrese un precio estimado para t+1 en BMA : 300\n",
            "el precio simulado es de 235.26079812468274 , por lo que la diferencia es de 27.518 %. \n",
            " Siendo el retorno de 6.94%.  \n"
          ]
        }
      ]
    },
    {
      "cell_type": "markdown",
      "source": [
        "5) Que fecha es hoy? imprimir la fecha y el tipo de dato a continuacion. Para finalizar guardar en la variable \"date_string\" la fecha en el tipo string utilizando el metodo visto en clase."
      ],
      "metadata": {
        "id": "mXH2Qk0jLo2m"
      }
    },
    {
      "cell_type": "code",
      "source": [
        "#otro ejemplo para que se entienda!\n",
        "from math import sqrt"
      ],
      "metadata": {
        "id": "rtWGFmjTzUnZ"
      },
      "execution_count": null,
      "outputs": []
    },
    {
      "cell_type": "code",
      "source": [
        "from datetime import datetime , date"
      ],
      "metadata": {
        "id": "3vLMlw3XL68z"
      },
      "execution_count": null,
      "outputs": []
    },
    {
      "cell_type": "code",
      "source": [
        "print(date.today())"
      ],
      "metadata": {
        "colab": {
          "base_uri": "https://localhost:8080/"
        },
        "id": "hH5nCn-F0T8x",
        "outputId": "8f857fb8-5e89-4545-87a2-8e25f8b774fd"
      },
      "execution_count": null,
      "outputs": [
        {
          "output_type": "stream",
          "name": "stdout",
          "text": [
            "2025-04-16\n"
          ]
        }
      ]
    },
    {
      "cell_type": "code",
      "source": [
        "date.today()"
      ],
      "metadata": {
        "id": "pv9ppmdDMMUA",
        "colab": {
          "base_uri": "https://localhost:8080/"
        },
        "outputId": "3b1cdbe3-4734-4a09-bb64-b831d5d75f0c"
      },
      "execution_count": null,
      "outputs": [
        {
          "output_type": "execute_result",
          "data": {
            "text/plain": [
              "datetime.date(2025, 4, 16)"
            ]
          },
          "metadata": {},
          "execution_count": 151
        }
      ]
    },
    {
      "cell_type": "code",
      "source": [
        "hoy = date.today()"
      ],
      "metadata": {
        "id": "9ubfuSeX1yxE"
      },
      "execution_count": null,
      "outputs": []
    },
    {
      "cell_type": "code",
      "source": [
        "date_string = date.strftime(hoy , \"%Y-%m-%d\")\n",
        "#date_string = date.strftime(hoy , \"hoy es %d de %B de %Y\") # \"hoy es el dia numero %j del año %Y\"\n",
        "#date_string = date.strftime(hoy , \"hoy es el dia numero %j del año %Y\")"
      ],
      "metadata": {
        "id": "oJ2G29E71q_k"
      },
      "execution_count": null,
      "outputs": []
    },
    {
      "cell_type": "code",
      "source": [
        "\n",
        "date_string"
      ],
      "metadata": {
        "colab": {
          "base_uri": "https://localhost:8080/",
          "height": 36
        },
        "id": "nE1uzhoH3-Vt",
        "outputId": "2ecd7e18-eac8-470d-c62e-6ecca3d7b957"
      },
      "execution_count": null,
      "outputs": [
        {
          "output_type": "execute_result",
          "data": {
            "text/plain": [
              "'2025-04-16'"
            ],
            "application/vnd.google.colaboratory.intrinsic+json": {
              "type": "string"
            }
          },
          "metadata": {},
          "execution_count": 172
        }
      ]
    },
    {
      "cell_type": "code",
      "source": [
        "str_a_datetime = datetime.strptime(date_string ,\"%Y-%m-%d\")\n",
        "#date_string"
      ],
      "metadata": {
        "id": "tSwOfNaR1_bt"
      },
      "execution_count": null,
      "outputs": []
    },
    {
      "cell_type": "code",
      "source": [
        "str_a_datetime"
      ],
      "metadata": {
        "colab": {
          "base_uri": "https://localhost:8080/"
        },
        "id": "EmneIce34MmP",
        "outputId": "2ce7c08b-5d5f-4af3-cb1a-984ff27686ca"
      },
      "execution_count": null,
      "outputs": [
        {
          "output_type": "execute_result",
          "data": {
            "text/plain": [
              "datetime.datetime(2025, 4, 16, 0, 0)"
            ]
          },
          "metadata": {},
          "execution_count": 175
        }
      ]
    },
    {
      "cell_type": "code",
      "source": [
        "str_a_datetime.day"
      ],
      "metadata": {
        "colab": {
          "base_uri": "https://localhost:8080/"
        },
        "id": "S91imxnv4KKW",
        "outputId": "bf81bb7c-750d-4faf-df26-0c09d9aa967e"
      },
      "execution_count": null,
      "outputs": [
        {
          "output_type": "execute_result",
          "data": {
            "text/plain": [
              "16"
            ]
          },
          "metadata": {},
          "execution_count": 176
        }
      ]
    },
    {
      "cell_type": "markdown",
      "source": [
        "6) Asignar el dia mes y año a las variables \"day\" , \"month\" y \"year\" respectivamente."
      ],
      "metadata": {
        "id": "RNdiMsnpMMfg"
      }
    },
    {
      "cell_type": "code",
      "source": [],
      "metadata": {
        "id": "tmcqz1PEMQJx"
      },
      "execution_count": null,
      "outputs": []
    },
    {
      "cell_type": "code",
      "source": [],
      "metadata": {
        "id": "kKAQPw24MQ2w"
      },
      "execution_count": null,
      "outputs": []
    },
    {
      "cell_type": "markdown",
      "source": [
        "7)\n",
        "\n",
        "pedir al usuario por consola su fecha de nacimiento (formato YYYY-MM-DD) y calcular cuantos años tiene hoy.\n",
        "\n",
        "\n",
        "como podria evitar dolores de cabeza en cuanto al formato a la hora de solicitar los datos?"
      ],
      "metadata": {
        "id": "CXf28gV6MRA4"
      }
    },
    {
      "cell_type": "code",
      "source": [],
      "metadata": {
        "id": "rke2vY3uNFtY"
      },
      "execution_count": null,
      "outputs": []
    },
    {
      "cell_type": "code",
      "source": [],
      "metadata": {
        "id": "E_OTV9DVNdgF"
      },
      "execution_count": null,
      "outputs": []
    },
    {
      "cell_type": "markdown",
      "source": [
        "8) cual es la fecha UNIX (tambien llamada timestamp) del primer segundo del actual milenio? verificar con lo visto en clase"
      ],
      "metadata": {
        "id": "xvnvESyMNdjs"
      }
    },
    {
      "cell_type": "code",
      "source": [],
      "metadata": {
        "id": "Lm8pvRpoNirO"
      },
      "execution_count": null,
      "outputs": []
    },
    {
      "cell_type": "code",
      "source": [],
      "metadata": {
        "id": "PCbydlinOm4K"
      },
      "execution_count": null,
      "outputs": []
    }
  ]
}