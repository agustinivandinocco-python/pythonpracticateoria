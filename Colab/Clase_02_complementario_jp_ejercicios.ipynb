{
  "cells": [
    {
      "cell_type": "markdown",
      "metadata": {
        "id": "view-in-github",
        "colab_type": "text"
      },
      "source": [
        "<a href=\"https://colab.research.google.com/github/agustinivandinocco-python/pythonpracticateoria/blob/main/Colab/Clase_02_complementario_jp_ejercicios.ipynb\" target=\"_parent\"><img src=\"https://colab.research.google.com/assets/colab-badge.svg\" alt=\"Open In Colab\"/></a>"
      ]
    },
    {
      "cell_type": "markdown",
      "id": "46c0dd85-9585-4502-ac2f-712e74140a03",
      "metadata": {
        "id": "46c0dd85-9585-4502-ac2f-712e74140a03"
      },
      "source": [
        "# Ejercicios calse 2"
      ]
    },
    {
      "cell_type": "markdown",
      "id": "8f8eb590-e84e-477a-9ab2-bb930adcec81",
      "metadata": {
        "id": "8f8eb590-e84e-477a-9ab2-bb930adcec81"
      },
      "source": [
        "## Con random"
      ]
    },
    {
      "cell_type": "markdown",
      "id": "48f7dfc7-58ea-4b9b-b447-86d3c318efa1",
      "metadata": {
        "id": "48f7dfc7-58ea-4b9b-b447-86d3c318efa1"
      },
      "source": [
        "### Ejercicio 1\n",
        "\n",
        "Hacer un script que me calcule en forma aleatoria ponderaciones para una cartera de tenencia en equity y cash\n",
        "\n",
        "   La tenencia en equity debe ser al menos 10% y como maximo 40%, y debe ser igual de probable cualquier valor en ese rango.\n",
        "\n",
        "   El script debe imprimir en pantalla luego de generar los valores aleatorios un mensaje del tipo:\n",
        "\n",
        "   \"La cartera generada contiene 25.4% de equity y 74.6% de cash\"\n",
        "\n",
        "   La impresion en pantala debe respetar ese formato y debe usarse format strings para ello\n"
      ]
    },
    {
      "cell_type": "markdown",
      "id": "608d54ba-6c1c-4df6-aff4-6a1983b4f34b",
      "metadata": {
        "id": "608d54ba-6c1c-4df6-aff4-6a1983b4f34b"
      },
      "source": [
        "### Ejercicio 2\n",
        "\n",
        "Hacer un script que genere una cartera aleatoria con META, AAPL y AMZN con sus ponderaciones\n",
        "\n",
        "  La suma de las ponderaciones debe dar 100%\n",
        "\n",
        "  El script debe generar esto aleatoriamente con igualdad de chances iniciales para cada accion mencionada\n",
        "\n",
        "  Al final debe imprimir algo como:\n",
        "\n",
        "   > La cartera generada contiene 52.7% de META, 34.5% de AAPL y 12.8% de AMZN"
      ]
    },
    {
      "cell_type": "markdown",
      "id": "2b7f0cd7-dc37-4277-ad3f-cb1e2d5c07c7",
      "metadata": {
        "id": "2b7f0cd7-dc37-4277-ad3f-cb1e2d5c07c7"
      },
      "source": [
        "### Ejercicio 3\n",
        "\n",
        "Hacer un script que genere una cartera aleatoria con META, AAPL y AMZN con sus ponderaciones\n",
        "\n",
        "  La suma de las ponderaciones debe dar 100%\n",
        "\n",
        "  El script debe generar esto aleatoriamente pero en forma sesgada de modo tal que si ejecutara miles veces el script y promediara las carteras:\n",
        "    \n",
        "    AMZN deberia tener el doble de peso que AAPL y META\n",
        "\n",
        "\n",
        "  Al final debe imprimir algo como:\n",
        "\n",
        "  > La cartera generada contiene 34.8% de META, 24.3% de AAPL y 40.9% de AMZN\n"
      ]
    },
    {
      "cell_type": "markdown",
      "id": "50e33084-b8e7-45c1-9923-6ab4705fc6a6",
      "metadata": {
        "id": "50e33084-b8e7-45c1-9923-6ab4705fc6a6"
      },
      "source": [
        "### Ejercicio 4\n",
        "\n",
        "Hacer un script que simule variaciones diarias de GGAL de la siguiente forma\n",
        "\n",
        "    1. Asumimos que los retornos diarios de GGAL siguen una distribucion nomal de media 0% y desvio estandar 2.3% diario\n",
        "\n",
        "    2. Vamos a simular 3 ruedas con estos datos partiendo del precio de $ 3925\n",
        "    \n",
        "    3. Es importante que el precio simulado este redondeado de a 5 centavos, es decir un precio como 3988.54 no es valido, pero 3988.55 si lo es\n",
        "\n",
        "    4. Imprimiremos el precio inicial y luego simularemos un dia con un sleep de 3 segundos y a continuacion imprimiremos el siguiente precio y el siguiente"
      ]
    },
    {
      "cell_type": "markdown",
      "id": "faa373a8-e59b-43f6-88f0-e02542d85470",
      "metadata": {
        "id": "faa373a8-e59b-43f6-88f0-e02542d85470"
      },
      "source": [
        "### Ejercicio 5\n",
        "\n",
        "Hacer un script que simule un precio y lo imprima en pantalla siguiendo la siguientes restricciones:\n",
        "\n",
        "    El precio minimo posible debe ser 3000\n",
        "\n",
        "    El precio maximo posible debe ser 10.000\n",
        "\n",
        "    A medida que voy de 3.000 a 10.000 la probabilidad de que el precio este en ese valor debe ir subiendo linealmente\n",
        "\n",
        "    El precio debe estar redondeado al centavo pero solo son validos precios con centavos pares... y porque si :)"
      ]
    },
    {
      "cell_type": "markdown",
      "id": "38eeab9a-3bf1-4cf6-8498-2a76f0e6460f",
      "metadata": {
        "id": "38eeab9a-3bf1-4cf6-8498-2a76f0e6460f"
      },
      "source": [
        "## Con fechas"
      ]
    },
    {
      "cell_type": "markdown",
      "id": "a619f0a1-0ab6-4f52-a9b4-15d62c34afbc",
      "metadata": {
        "id": "a619f0a1-0ab6-4f52-a9b4-15d62c34afbc"
      },
      "source": [
        "### Ejercicio 6\n",
        "\n",
        "Hacer un script al que le pase por teclado un precio spot CI (contado inmediato) y un precio T+1 de un activo y me cacule la TNA implicita de arbitraje de plazos\n",
        "\n",
        "    A fin del calculo usar año financiero de 365 dias\n",
        "   \n",
        "    Imprimir finalmente un mensaje al usuario con la TNA en % con 2 decimales"
      ]
    },
    {
      "cell_type": "markdown",
      "id": "dc8d3949-f036-4d0c-87eb-cf65de347547",
      "metadata": {
        "id": "dc8d3949-f036-4d0c-87eb-cf65de347547"
      },
      "source": [
        "### Ejercicio 7\n",
        "\n",
        "Hacer un script al que le pase por teclado un precio spot de dolar mayorista y el del Futuro de Rofex de DIC y me calcule la TNA implicita del futuro\n",
        "\n",
        "    A fin del calculo usar año financiero de 365 dias\n",
        "\n",
        "    Imprimir finalmente un mensaje al usuario con la TNA en % con 2 decimales\n",
        "\n",
        "    7 Bis) Calcular la TEM e imprimir un mensaje con la diferencia entre la TEM y el crawling peg del 2% vigente del esquema cambiario oficial (usar meses de 30 dias)\n",
        "\n",
        "   Para los que no son de finanzas, para ver como calcular una TEM: https://x.com/Adrian_Wibly/status/1784695729274900540\n",
        "\n",
        "   Linda cuenta de twitter de paso para seguir"
      ]
    },
    {
      "cell_type": "markdown",
      "id": "a9fe6c8e-7e97-4bc6-9448-24a6ab68999e",
      "metadata": {
        "id": "a9fe6c8e-7e97-4bc6-9448-24a6ab68999e"
      },
      "source": [
        "### Ejercicio 8\n",
        "\n",
        "Hacer un script que me devuelva un objeto date con el dia de semana del dia que nací\n",
        "\n",
        "   El script debe pedirle al usuario por teclado la fecha de nacimiento"
      ]
    },
    {
      "cell_type": "markdown",
      "id": "24272198-c4e3-46c0-b313-cd48ebdabde2",
      "metadata": {
        "id": "24272198-c4e3-46c0-b313-cd48ebdabde2"
      },
      "source": [
        "### Ejercicio 9\n",
        "\n",
        "Hacer un script que me devuelva un objeto date con el dia de semana de mi cumpleaños el año que viene.\n",
        "\n",
        "   El script debe pedirle al usuario por teclado la fecha de cumple (numero de dia y de mes)"
      ]
    },
    {
      "cell_type": "markdown",
      "id": "836eb24f-8251-4936-a322-8f8f26545854",
      "metadata": {
        "id": "836eb24f-8251-4936-a322-8f8f26545854"
      },
      "source": [
        "### Ejercicio 10\n",
        "\n",
        "Hacer un script, que diciendo el año y mes, me devuelva el objeto date del tercer viernes de ese año y mes"
      ]
    },
    {
      "cell_type": "markdown",
      "id": "4dfd29dd-32a3-4eea-ad46-4bbe53efdba9",
      "metadata": {
        "id": "4dfd29dd-32a3-4eea-ad46-4bbe53efdba9"
      },
      "source": [
        "### Ejercicio 11\n",
        "\n",
        "Desafio\n",
        "\n",
        "    Nota: Es muy dificil con lo poco que vimos hasta ahora, pero es \"resolvible\"\n",
        "    \n",
        "    Hacer un script, que sin que yo le diga nada, me calcule la cantidad de dias que faltan para el proximo OPEX de opciones del mercado argentino de mes par. Es decir que si estamos en Julio o Agosto me deberia calcular la cantidad de dias para el proximo opex de agosto, y si estamos en septiembre u octubre los dias para el proximo opex de octubre, y asi, el año lo debe calcular solo el script\n",
        "    \n",
        "    Nota: Los opex (fechas de expiracion de opciones en el mercado argentino son los terceros viernes de cada mes, los opex de meses pares son mucho mas operados)"
      ]
    },
    {
      "cell_type": "code",
      "execution_count": null,
      "id": "aad1cd5b-bac3-408a-818c-284d3d953aa9",
      "metadata": {
        "id": "aad1cd5b-bac3-408a-818c-284d3d953aa9"
      },
      "outputs": [],
      "source": []
    },
    {
      "cell_type": "code",
      "execution_count": null,
      "id": "560b4405-f1b1-49f5-bcae-463a38a9a711",
      "metadata": {
        "id": "560b4405-f1b1-49f5-bcae-463a38a9a711"
      },
      "outputs": [],
      "source": []
    },
    {
      "cell_type": "code",
      "execution_count": null,
      "id": "dbc724a0-8ded-4645-a278-05ca8ff3bf9b",
      "metadata": {
        "id": "dbc724a0-8ded-4645-a278-05ca8ff3bf9b"
      },
      "outputs": [],
      "source": []
    },
    {
      "cell_type": "code",
      "execution_count": null,
      "id": "f30d8d12-27d0-4670-abd8-9c14e04fdca8",
      "metadata": {
        "id": "f30d8d12-27d0-4670-abd8-9c14e04fdca8"
      },
      "outputs": [],
      "source": []
    },
    {
      "cell_type": "markdown",
      "id": "5a0368ba-1d96-45fc-b381-614165ab2be8",
      "metadata": {
        "id": "5a0368ba-1d96-45fc-b381-614165ab2be8"
      },
      "source": [
        "# Respuestas"
      ]
    },
    {
      "cell_type": "code",
      "execution_count": null,
      "id": "7a38c05f-a8b1-4c1a-9529-0fe268d17f28",
      "metadata": {
        "id": "7a38c05f-a8b1-4c1a-9529-0fe268d17f28",
        "outputId": "4ddcaf4f-fb80-49d6-d1a2-5ec7cb534041"
      },
      "outputs": [
        {
          "name": "stdout",
          "output_type": "stream",
          "text": [
            "La cartera generada contiene 38.0% de equity y 62.0% de cash\n"
          ]
        }
      ],
      "source": [
        "# RESPUESTA 1\n",
        "\n",
        "import random\n",
        "\n",
        "equity_w = random.uniform(0.1,0.4)\n",
        "cash_w = 1 - equity_w\n",
        "\n",
        "print(f\"La cartera generada contiene {equity_w:.1%} de equity y {cash_w:.1%} de cash\")"
      ]
    },
    {
      "cell_type": "code",
      "execution_count": null,
      "id": "97502e2a-58b4-48e4-a4ab-41b05ad644a5",
      "metadata": {
        "id": "97502e2a-58b4-48e4-a4ab-41b05ad644a5",
        "outputId": "8d544b0e-ffe5-4ffb-831c-73ced78f91f1"
      },
      "outputs": [
        {
          "name": "stdout",
          "output_type": "stream",
          "text": [
            "La cartera generada contiene 23.1% de META, 42.2% de AAPL y 34.7% de AMZN \n"
          ]
        }
      ],
      "source": [
        "# RESPUESTA 2\n",
        "\n",
        "import random\n",
        "\n",
        "w_meta = random.random()\n",
        "w_aapl = random.random()\n",
        "w_amzn = random.random()\n",
        "\n",
        "total = w_meta + w_aapl + w_amzn\n",
        "w_meta /= total\n",
        "w_aapl /= total\n",
        "w_amzn /= total\n",
        "\n",
        "print(f\"La cartera generada contiene {w_meta:.1%} de META, {w_aapl:.1%} de AAPL y {w_amzn:.1%} de AMZN \")"
      ]
    },
    {
      "cell_type": "code",
      "execution_count": null,
      "id": "1fc36fb6-e844-47fa-80ef-6028067662e5",
      "metadata": {
        "id": "1fc36fb6-e844-47fa-80ef-6028067662e5",
        "outputId": "3cee21b3-3433-4312-dcac-0b3ae17fbca8"
      },
      "outputs": [
        {
          "name": "stdout",
          "output_type": "stream",
          "text": [
            "La cartera generada contiene 32.3% de META, 32.4% de AAPL y 35.3% de AMZN \n"
          ]
        }
      ],
      "source": [
        "# RESPUESTA 3\n",
        "\n",
        "import random\n",
        "\n",
        "w_meta = random.random()\n",
        "w_aapl = 1 * w_meta * random.uniform(0.5, 1.5)\n",
        "w_amzn = 2 * w_meta * random.uniform(0.5, 1.5)\n",
        "total = w_meta + w_aapl + w_amzn\n",
        "w_meta /= total\n",
        "w_aapl /= total\n",
        "w_amzn /= total\n",
        "\n",
        "print(f\"La cartera generada contiene {w_meta:.1%} de META, {w_aapl:.1%} de AAPL y {w_amzn:.1%} de AMZN \")"
      ]
    },
    {
      "cell_type": "code",
      "execution_count": null,
      "id": "8fcd1bcb-e859-44d0-8b86-5b2c4be7f31e",
      "metadata": {
        "id": "8fcd1bcb-e859-44d0-8b86-5b2c4be7f31e",
        "outputId": "0c2d1337-ec6c-4e27-af85-212241029167"
      },
      "outputs": [
        {
          "name": "stdout",
          "output_type": "stream",
          "text": [
            "El precio de GGAL ahora es: 3925\n",
            "El precio de GGAL ahora es: 4012.15\n",
            "El precio de GGAL ahora es: 4055.35\n",
            "El precio de GGAL ahora es: 3963.85\n"
          ]
        }
      ],
      "source": [
        "# RESPUESTA 4\n",
        "\n",
        "import random\n",
        "import time\n",
        "\n",
        "precio = 3925\n",
        "print(f\"El precio de GGAL ahora es: {precio}\")\n",
        "\n",
        "# Simulacion dia 1:\n",
        "ret = random.normalvariate(0, 0.023)\n",
        "time.sleep(3)\n",
        "precio = round(precio * (1+ret) * 20)/20\n",
        "print(f\"El precio de GGAL ahora es: {precio}\")\n",
        "\n",
        "# Simulacion dia 2:\n",
        "ret = random.normalvariate(0, 0.023)\n",
        "time.sleep(3)\n",
        "precio = round(precio * (1+ret) * 20)/20\n",
        "print(f\"El precio de GGAL ahora es: {precio}\")\n",
        "\n",
        "# Simulacion dia 3:\n",
        "ret = random.normalvariate(0, 0.023)\n",
        "time.sleep(3)\n",
        "precio = round(precio * (1+ret) * 20)/20\n",
        "print(f\"El precio de GGAL ahora es: {precio}\")"
      ]
    },
    {
      "cell_type": "code",
      "execution_count": null,
      "id": "5fdfc239-add2-48e7-836b-513312f74531",
      "metadata": {
        "id": "5fdfc239-add2-48e7-836b-513312f74531",
        "outputId": "cd1a63ee-6b10-4329-ff1b-2911d2f6b25e"
      },
      "outputs": [
        {
          "name": "stdout",
          "output_type": "stream",
          "text": [
            "El precio simulado es $ 5018.28\n"
          ]
        }
      ],
      "source": [
        "# RESPUESTA 5\n",
        "\n",
        "import random\n",
        "\n",
        "precio_min = 3_000\n",
        "precio_max = 10_000\n",
        "factor = random.betavariate(2,1)\n",
        "precio_simulado = precio_min + factor * (precio_max - precio_min)\n",
        "precio_simulado = round(precio_simulado * 50) / 50\n",
        "print(f\"El precio simulado es $ {precio_simulado}\")"
      ]
    },
    {
      "cell_type": "code",
      "execution_count": null,
      "id": "f9a4c36f-9a50-4efd-8abe-4ad0aa1e531f",
      "metadata": {
        "id": "f9a4c36f-9a50-4efd-8abe-4ad0aa1e531f",
        "outputId": "9bcb8211-a269-44a5-83a2-f2d6408439eb"
      },
      "outputs": [
        {
          "name": "stdin",
          "output_type": "stream",
          "text": [
            "Ingrese el precio CI:  3950\n",
            "Ingrese el precio T+1:  3958\n"
          ]
        },
        {
          "name": "stdout",
          "output_type": "stream",
          "text": [
            "La TNA implicita de arbitraje entre CI y T+1 es: 73.92%\n"
          ]
        }
      ],
      "source": [
        "# RESPUESTA 6\n",
        "\n",
        "precio_ci = float(input(\"Ingrese el precio CI: \"))\n",
        "precio_t1 = float(input(\"Ingrese el precio T+1: \"))\n",
        "tna = (precio_t1 / precio_ci - 1) * 365\n",
        "print(f\"La TNA implicita de arbitraje entre CI y T+1 es: {tna:.2%}\")"
      ]
    },
    {
      "cell_type": "code",
      "execution_count": null,
      "id": "8f6c493f-7a10-4eff-b4d2-9c00204f7750",
      "metadata": {
        "id": "8f6c493f-7a10-4eff-b4d2-9c00204f7750",
        "outputId": "e8611326-986a-4382-e40f-8efd1c162010"
      },
      "outputs": [
        {
          "name": "stdin",
          "output_type": "stream",
          "text": [
            "Ingrese el precio spot:  917\n",
            "Ingrese el precio futuro de DIC:  1196\n"
          ]
        },
        {
          "name": "stdout",
          "output_type": "stream",
          "text": [
            "La TNA implicita de arbitraje entre CI y T+1 es: 63.82%\n",
            "La tasa efectiva mensual es: 4.69%, o sea un 2.69% mas alta que el crawling\n"
          ]
        }
      ],
      "source": [
        "# RESPUESTA 7\n",
        "\n",
        "import datetime\n",
        "\n",
        "precio_spot = float(input(\"Ingrese el precio spot: \"))\n",
        "precio_futuro = float(input(\"Ingrese el precio futuro de DIC: \"))\n",
        "hoy = datetime.date.today()\n",
        "vencimiento = datetime.date(hoy.year, 12, 30)\n",
        "dias = (vencimiento - hoy).days\n",
        "\n",
        "tna = (precio_futuro / precio_spot - 1)/dias  * 365\n",
        "print(f\"La TNA implicita de arbitraje entre CI y T+1 es: {tna:.2%}\")\n",
        "\n",
        "# 7 Bis\n",
        "tem = (precio_futuro / precio_spot) ** (30/dias) -1\n",
        "print(f\"La tasa efectiva mensual es: {tem:.2%}, o sea un {tem-0.02:.2%} mas alta que el crawling\")"
      ]
    },
    {
      "cell_type": "code",
      "execution_count": null,
      "id": "f4f3eea9-e965-468f-8acd-2b8d105676ff",
      "metadata": {
        "id": "f4f3eea9-e965-468f-8acd-2b8d105676ff",
        "outputId": "e6880d96-bdb6-41c1-c893-d3e7768bb714"
      },
      "outputs": [
        {
          "name": "stdin",
          "output_type": "stream",
          "text": [
            "Ingresa el numero de dia de tu nacimiento:  9\n",
            "Ingresa el numero de mes de tu nacimiento:  12\n",
            "Ingresa el año de tu nacimiento:  2018\n"
          ]
        },
        {
          "name": "stdout",
          "output_type": "stream",
          "text": [
            "Naciste un: Sunday\n"
          ]
        }
      ],
      "source": [
        "# RESPUESTA 8\n",
        "\n",
        "import datetime\n",
        "\n",
        "day_b = int(input(\"Ingresa el numero de dia de tu nacimiento: \"))\n",
        "month_b = int(input(\"Ingresa el numero de mes de tu nacimiento: \"))\n",
        "year_b = int(input(\"Ingresa el año de tu nacimiento: \"))\n",
        "\n",
        "birthday_nameday = datetime.date(year_b, month_b, day_b).strftime(\"%A\")\n",
        "print(f\"Naciste un: {birthday_nameday}\")"
      ]
    },
    {
      "cell_type": "code",
      "execution_count": null,
      "id": "b11c2950-fde7-4282-8029-7cf8ffd6f0fb",
      "metadata": {
        "id": "b11c2950-fde7-4282-8029-7cf8ffd6f0fb",
        "outputId": "d6f8457a-9e6f-4744-fbd2-17a6df4daffa"
      },
      "outputs": [
        {
          "name": "stdin",
          "output_type": "stream",
          "text": [
            "Ingresa el numero de dia de tu cumple:  9\n",
            "Ingresa el numero de mes de tu cumple:  12\n"
          ]
        },
        {
          "name": "stdout",
          "output_type": "stream",
          "text": [
            "Tu cumple el año que viene cae un: Tuesday\n"
          ]
        }
      ],
      "source": [
        "# RESPUESTA 9\n",
        "\n",
        "import datetime\n",
        "\n",
        "day_n = int(input(\"Ingresa el numero de dia de tu cumple: \"))\n",
        "month_n = int(input(\"Ingresa el numero de mes de tu cumple: \"))\n",
        "current_year = datetime.date.today().year\n",
        "birthday_nex_year = datetime.date(current_year+1, month_n, day_n)\n",
        "birthday_nex_year_nameday = birthday_nex_year.strftime(\"%A\")\n",
        "print(f\"Tu cumple el año que viene cae un: {birthday_nex_year_nameday}\")"
      ]
    },
    {
      "cell_type": "code",
      "execution_count": null,
      "id": "4170ddbd-59c3-4613-83c3-744a74d6c701",
      "metadata": {
        "id": "4170ddbd-59c3-4613-83c3-744a74d6c701",
        "outputId": "e16e7571-55a4-410e-9eb5-6746b7cc1332"
      },
      "outputs": [
        {
          "data": {
            "text/plain": [
              "datetime.date(2024, 12, 20)"
            ]
          },
          "execution_count": 10,
          "metadata": {},
          "output_type": "execute_result"
        }
      ],
      "source": [
        "# RESPUESTA 10\n",
        "\n",
        "from datetime import date, timedelta\n",
        "\n",
        "year = 2024\n",
        "month = 12\n",
        "\n",
        "primero_mes = date(year, month, 1)\n",
        "primero_mes_isoweekday = primero_mes.isoweekday() # 0 para domingo, 1 lunes, 2 martes, 3 miercoles, 4 jueves, 5 viernes, 6 sabado\n",
        "\n",
        "# El caso mas tardio es cuando el 1ro cae sabado, ahi le tengo que sumar 6\n",
        "# Luego si el 1ro del mes cae domingo, ahi le tengo que sumar 5\n",
        "# Y asi.. si cae lunes -> sumar 4, si cae martes -> sumar 3 .... si cae viernes => sumar 0\n",
        "\n",
        "# Tabla:   (primero_mes_isoweekday -> dias_a_sumar)\n",
        "# 6 -> 6    (12-6)%7 = 6\n",
        "# 0 -> 5    (12-0)%7 = 5\n",
        "# 1 -> 4    (12-1)%7 = 4\n",
        "# 2 -> 3    (12-2)%7 = 3\n",
        "# 3 -> 2    (12-3)%7 = 2\n",
        "# 4 -> 1    (12-4)%7 = 1\n",
        "# 5 -> 0    (12-5)%7 = 0\n",
        "\n",
        "dias_a_sumar =  (12 - primero_mes_isoweekday) % 7\n",
        "primer_viernes_mes = primero_mes + timedelta(days=dias_a_sumar)\n",
        "tercer_viernes_mes = primer_viernes_mes + timedelta(days=14)\n",
        "tercer_viernes_mes"
      ]
    },
    {
      "cell_type": "code",
      "execution_count": null,
      "id": "83cf778b-7f7e-4bd0-aa0c-18e7efae2410",
      "metadata": {
        "id": "83cf778b-7f7e-4bd0-aa0c-18e7efae2410",
        "outputId": "00ace2ec-5b26-402d-eb99-766d39b81223"
      },
      "outputs": [
        {
          "data": {
            "text/plain": [
              "38"
            ]
          },
          "execution_count": 11,
          "metadata": {},
          "output_type": "execute_result"
        }
      ],
      "source": [
        "# RESPUESTA 11\n",
        "\n",
        "from datetime import date, timedelta\n",
        "\n",
        "hoy = date.today()\n",
        "year = hoy.year\n",
        "month = hoy.month\n",
        "\n",
        "next_even_month = month  + (month % 2)   # Esto en los meses corrientes pares no cambia, y en los meses corrientes impares suma 1\n",
        "\n",
        "\n",
        "primero_mes = date(year, next_even_month, 1)\n",
        "primero_mes_isoweekday = primero_mes.isoweekday()\n",
        "dias_a_sumar =  (12 - primero_mes_isoweekday) % 7\n",
        "primer_viernes_mes = primero_mes + timedelta(days=dias_a_sumar)\n",
        "fecha_opex_par_sig = primer_viernes_mes + timedelta(days=14)\n",
        "dias_faltantes = (fecha_opex_par_sig - hoy).days\n",
        "dias_faltantes"
      ]
    },
    {
      "cell_type": "code",
      "execution_count": null,
      "id": "bdbaa52f-cef5-4f3e-88a0-dac9231f2c34",
      "metadata": {
        "id": "bdbaa52f-cef5-4f3e-88a0-dac9231f2c34"
      },
      "outputs": [],
      "source": []
    },
    {
      "cell_type": "code",
      "execution_count": null,
      "id": "8099c048-3289-4348-baa5-87cd34e84251",
      "metadata": {
        "id": "8099c048-3289-4348-baa5-87cd34e84251"
      },
      "outputs": [],
      "source": []
    },
    {
      "cell_type": "code",
      "execution_count": null,
      "id": "e2bbd6a5-2cea-4a35-8c79-30495f0c74d8",
      "metadata": {
        "id": "e2bbd6a5-2cea-4a35-8c79-30495f0c74d8"
      },
      "outputs": [],
      "source": []
    }
  ],
  "metadata": {
    "kernelspec": {
      "display_name": "Python 3 (ipykernel)",
      "language": "python",
      "name": "python3"
    },
    "language_info": {
      "codemirror_mode": {
        "name": "ipython",
        "version": 3
      },
      "file_extension": ".py",
      "mimetype": "text/x-python",
      "name": "python",
      "nbconvert_exporter": "python",
      "pygments_lexer": "ipython3",
      "version": "3.10.13"
    },
    "colab": {
      "provenance": [],
      "include_colab_link": true
    }
  },
  "nbformat": 4,
  "nbformat_minor": 5
}