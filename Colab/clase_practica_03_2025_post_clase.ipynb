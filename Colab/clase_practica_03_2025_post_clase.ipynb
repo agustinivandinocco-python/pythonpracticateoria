{
  "cells": [
    {
      "cell_type": "markdown",
      "metadata": {
        "id": "view-in-github",
        "colab_type": "text"
      },
      "source": [
        "<a href=\"https://colab.research.google.com/github/agustinivandinocco-python/pythonpracticateoria/blob/main/Colab/clase_practica_03_2025_post_clase.ipynb\" target=\"_parent\"><img src=\"https://colab.research.google.com/assets/colab-badge.svg\" alt=\"Open In Colab\"/></a>"
      ]
    },
    {
      "cell_type": "markdown",
      "metadata": {
        "id": "LStLEEGh9xZn"
      },
      "source": [
        "# Clase Practica 03 - 2025\n",
        "\n",
        " - Teoria __ciclo For__\n",
        " - Ejercitacion de temas vistos en clases teoricas 1, 2 y 3.\n"
      ]
    },
    {
      "cell_type": "markdown",
      "metadata": {
        "id": "cN0PIOiH9w_2"
      },
      "source": [
        "### Comenzaremos con un poco de teoria:"
      ]
    },
    {
      "cell_type": "markdown",
      "metadata": {
        "id": "nhjPk7S79w53"
      },
      "source": [
        "# Ciclo __For__:\n",
        "\n",
        "El ciclo __for__ se utiliza en programación para recorrer objetos __iterables__ , y ejecutar un bloque de codigo.\n",
        "\n",
        "Entonces.. Que es un Iterable? Bueno, un __iterable__ es un objeto que permite recorrer los elementos que lo componen, uno a uno.\n",
        "\n",
        "Nosotros venimos trabajando con algunos objetos que son iterables:\n",
        "\n",
        "- strings\n",
        "- listas\n",
        "-tuplas\n",
        "-sets\n",
        "-range() *\n",
        "\n",
        "\n",
        "## estructura de un ciclo __for__\n",
        "\n",
        "  for __elemento__ in __objeto_iterable__:\n",
        "\n"
      ]
    },
    {
      "cell_type": "code",
      "execution_count": null,
      "metadata": {
        "colab": {
          "base_uri": "https://localhost:8080/"
        },
        "id": "FUDSBchDEHQV",
        "outputId": "4e455501-63dc-41b4-faf0-7f8fc8729a0a"
      },
      "outputs": [
        {
          "output_type": "stream",
          "name": "stdout",
          "text": [
            "escriba su nombre: juan\n",
            "j\n",
            "u\n",
            "a\n",
            "n\n",
            "salio  del for\n"
          ]
        }
      ],
      "source": [
        "#Pedir al usuario su nombre e imprimirlo letra por letra con un salto de linea entre cada una\n",
        "nombre = input(\"escriba su nombre: \")\n",
        "#break corta el bloque\n",
        "\n",
        "for i in nombre: #aca podría ser for letra in nombre:\n",
        "  print(i)\n",
        "  #break\n",
        "  continue\n",
        "  print(\"hola\")\n",
        "\n",
        "print(\"salio  del for\")"
      ]
    },
    {
      "cell_type": "code",
      "execution_count": null,
      "metadata": {
        "id": "5BjW-RoKD2Rh"
      },
      "outputs": [],
      "source": [
        "lista_for = [1,2,3,4]\n",
        "#verificar si los elementos de la lista son pares, informandolo mediante un print con True o False según corresponda."
      ]
    },
    {
      "cell_type": "code",
      "execution_count": null,
      "metadata": {
        "colab": {
          "base_uri": "https://localhost:8080/"
        },
        "id": "UlwOWVm5D18i",
        "outputId": "536bce10-8b66-44d6-9076-c8bff85bd431"
      },
      "outputs": [
        {
          "output_type": "stream",
          "name": "stdout",
          "text": [
            "el numero 1 , es False que sea par\n",
            "el numero 2 , es True que sea par\n",
            "el numero 3 , es False que sea par\n",
            "el numero 4 , es True que sea par\n"
          ]
        }
      ],
      "source": [
        "for numero in lista_for:\n",
        "  es_par = numero%2 == 0\n",
        "  print(f\"el numero {numero} , es {es_par} que sea par\")"
      ]
    },
    {
      "cell_type": "markdown",
      "metadata": {
        "id": "bKh-7k4fzpn-"
      },
      "source": [
        "### 1)\n",
        "generar una lista que contenga todos los numeros del 0 al 10 con la funcion vista en clase. guardarla en la variable \"numeros\"."
      ]
    },
    {
      "cell_type": "code",
      "execution_count": null,
      "metadata": {
        "id": "6CLE6nCLFQD5"
      },
      "outputs": [],
      "source": [
        "numeros = list(range(11))"
      ]
    },
    {
      "cell_type": "code",
      "execution_count": null,
      "metadata": {
        "id": "MJ47QfXjFaQc",
        "colab": {
          "base_uri": "https://localhost:8080/"
        },
        "outputId": "220cf25a-7c69-4024-a4d1-7f8abc706b77"
      },
      "outputs": [
        {
          "output_type": "execute_result",
          "data": {
            "text/plain": [
              "[0, 1, 2, 3, 4, 5, 6, 7, 8, 9, 10]"
            ]
          },
          "metadata": {},
          "execution_count": 23
        }
      ],
      "source": [
        "numeros"
      ]
    },
    {
      "cell_type": "markdown",
      "metadata": {
        "id": "ww3GsCVvFajs"
      },
      "source": [
        "### 2)\n",
        "hacer slicing con la variable \"numeros\" e imprimir:\n",
        "\n",
        "* numeros pares\n",
        "* numeros del 7 al 10\n",
        "* numeros impares de mayor a menor\n",
        "* promedio de la sumatoria de los elementos\n",
        "* promedio de la sumatoria sin tener en cuenta el primer elemento"
      ]
    },
    {
      "cell_type": "code",
      "execution_count": null,
      "metadata": {
        "id": "ciON_Pc9Fy9A",
        "colab": {
          "base_uri": "https://localhost:8080/"
        },
        "outputId": "091e98ae-e60a-42c0-c052-a07bdcd1dd66"
      },
      "outputs": [
        {
          "output_type": "execute_result",
          "data": {
            "text/plain": [
              "[2, 4, 6, 8, 10]"
            ]
          },
          "metadata": {},
          "execution_count": 26
        }
      ],
      "source": [
        "#numeros pares\n",
        "numeros[ 2: :2 ]"
      ]
    },
    {
      "cell_type": "code",
      "source": [
        "numeros[7]"
      ],
      "metadata": {
        "colab": {
          "base_uri": "https://localhost:8080/"
        },
        "id": "1sNn9amhl1C5",
        "outputId": "7421c43e-2470-4402-b8ec-f9622f117a9d"
      },
      "execution_count": null,
      "outputs": [
        {
          "output_type": "execute_result",
          "data": {
            "text/plain": [
              "7"
            ]
          },
          "metadata": {},
          "execution_count": 29
        }
      ]
    },
    {
      "cell_type": "code",
      "source": [
        "palabras = \"del siete al diez\"\n",
        "palabras[palabras[7] : palabras[10]] # esto es equivalente a decir palabras[\"t\" : \"a\"]"
      ],
      "metadata": {
        "colab": {
          "base_uri": "https://localhost:8080/",
          "height": 158
        },
        "id": "gtz_V7tTmFTA",
        "outputId": "9164edb1-dfa8-4bcc-f9f9-031692f620a6"
      },
      "execution_count": null,
      "outputs": [
        {
          "output_type": "error",
          "ename": "TypeError",
          "evalue": "slice indices must be integers or None or have an __index__ method",
          "traceback": [
            "\u001b[0;31m---------------------------------------------------------------------------\u001b[0m",
            "\u001b[0;31mTypeError\u001b[0m                                 Traceback (most recent call last)",
            "\u001b[0;32m<ipython-input-31-bcceb24418a2>\u001b[0m in \u001b[0;36m<cell line: 0>\u001b[0;34m()\u001b[0m\n\u001b[1;32m      1\u001b[0m \u001b[0mpalabras\u001b[0m \u001b[0;34m=\u001b[0m \u001b[0;34m\"del siete al diez\"\u001b[0m\u001b[0;34m\u001b[0m\u001b[0;34m\u001b[0m\u001b[0m\n\u001b[0;32m----> 2\u001b[0;31m \u001b[0mpalabras\u001b[0m\u001b[0;34m[\u001b[0m\u001b[0mpalabras\u001b[0m\u001b[0;34m[\u001b[0m\u001b[0;36m7\u001b[0m\u001b[0;34m]\u001b[0m \u001b[0;34m:\u001b[0m \u001b[0mpalabras\u001b[0m\u001b[0;34m[\u001b[0m\u001b[0;36m10\u001b[0m\u001b[0;34m]\u001b[0m\u001b[0;34m]\u001b[0m\u001b[0;34m\u001b[0m\u001b[0;34m\u001b[0m\u001b[0m\n\u001b[0m",
            "\u001b[0;31mTypeError\u001b[0m: slice indices must be integers or None or have an __index__ method"
          ]
        }
      ]
    },
    {
      "cell_type": "code",
      "source": [
        "numeros"
      ],
      "metadata": {
        "colab": {
          "base_uri": "https://localhost:8080/"
        },
        "id": "LrSBMMxEmwHx",
        "outputId": "cdbd2d85-4249-4257-f5bf-409d260ecb92"
      },
      "execution_count": null,
      "outputs": [
        {
          "output_type": "execute_result",
          "data": {
            "text/plain": [
              "[0, 1, 2, 3, 4, 5, 6, 7, 8, 9, 10]"
            ]
          },
          "metadata": {},
          "execution_count": 32
        }
      ]
    },
    {
      "cell_type": "code",
      "source": [],
      "metadata": {
        "id": "OaqntEzfm-KA"
      },
      "execution_count": null,
      "outputs": []
    },
    {
      "cell_type": "code",
      "source": [
        "#del siete al diez\n",
        "numeros[7 : 10+1]\n",
        "numeros[numeros[7] : numeros[10] + 1  ]"
      ],
      "metadata": {
        "colab": {
          "base_uri": "https://localhost:8080/"
        },
        "id": "gFTPBfD-64l2",
        "outputId": "6c6cc6f1-1eeb-422e-b137-08e4a42e0416"
      },
      "execution_count": null,
      "outputs": [
        {
          "output_type": "execute_result",
          "data": {
            "text/plain": [
              "[7, 8, 9, 10]"
            ]
          },
          "metadata": {},
          "execution_count": 28
        }
      ]
    },
    {
      "cell_type": "code",
      "source": [
        "#promedio de los numeros\n",
        "sum(numeros) / len(numeros)"
      ],
      "metadata": {
        "colab": {
          "base_uri": "https://localhost:8080/"
        },
        "id": "YePtFmFYnF89",
        "outputId": "78eef806-0bad-44f9-f44b-ac923cafa0d4"
      },
      "execution_count": null,
      "outputs": [
        {
          "output_type": "execute_result",
          "data": {
            "text/plain": [
              "[0, 1, 2, 3, 4, 5, 6, 7, 8, 9, 10]"
            ]
          },
          "metadata": {},
          "execution_count": 34
        }
      ]
    },
    {
      "cell_type": "code",
      "source": [
        "#promedio sin tener en cuenta el primer elemento\n",
        "sum(numeros[ 1 : ]) / len(numeros[1:])"
      ],
      "metadata": {
        "colab": {
          "base_uri": "https://localhost:8080/"
        },
        "id": "LMM0-tbfnGH4",
        "outputId": "0a07f78b-14c8-4813-9f6a-fce32e696eb1"
      },
      "execution_count": null,
      "outputs": [
        {
          "output_type": "execute_result",
          "data": {
            "text/plain": [
              "5.5"
            ]
          },
          "metadata": {},
          "execution_count": 37
        }
      ]
    },
    {
      "cell_type": "code",
      "source": [],
      "metadata": {
        "id": "WHblWwbznGRp"
      },
      "execution_count": null,
      "outputs": []
    },
    {
      "cell_type": "markdown",
      "metadata": {
        "id": "J6Xwj_djFzB2"
      },
      "source": [
        "#### *ejecutar las siguientes listas cada vez que comienza los ejercicios de 3 a 5 inclusive:*\n"
      ]
    },
    {
      "cell_type": "code",
      "execution_count": null,
      "metadata": {
        "id": "HxGhVX4LF1Wh"
      },
      "outputs": [],
      "source": [
        "nyse = [\"KO\", \"TSLA\" , \"TS\" , \"AAPL\" , \"BRK.A\"]\n",
        "byma = [\"EDN\" , \"GGAL\" , \"YPFD\" , \"CTIO\"]"
      ]
    },
    {
      "cell_type": "code",
      "execution_count": null,
      "metadata": {
        "id": "kF676PR9F4ZI"
      },
      "outputs": [],
      "source": []
    },
    {
      "cell_type": "markdown",
      "metadata": {
        "id": "h7JRUO5RF46B"
      },
      "source": [
        "### 3)\n",
        "elegir un ticker aleatoriamente de byma y guardarlo en la variable \"ticker_para_nyse\". primero imprimir en pantalla y luego asignarlo a la lista de nyse, e imprimir esta ultima."
      ]
    },
    {
      "cell_type": "code",
      "execution_count": null,
      "metadata": {
        "id": "S6VvOOIlGMzE"
      },
      "outputs": [],
      "source": [
        "nyse = [\"KO\", \"TSLA\" , \"TS\" , \"AAPL\" , \"BRK.A\"]\n",
        "byma = [\"EDN\" , \"GGAL\" , \"YPFD\" , \"CTIO\"]"
      ]
    },
    {
      "cell_type": "code",
      "source": [
        "import random as rn"
      ],
      "metadata": {
        "id": "2E-D7E6joEVJ"
      },
      "execution_count": null,
      "outputs": []
    },
    {
      "cell_type": "code",
      "source": [
        "byma[rn.randint(0, len(byma)-1)] # rn.randint(  0   ,  len(byma)-1     )"
      ],
      "metadata": {
        "colab": {
          "base_uri": "https://localhost:8080/",
          "height": 35
        },
        "id": "nP9W73-boLFR",
        "outputId": "3c25cddb-e488-4cc0-fb2c-c2fb193ba72e"
      },
      "execution_count": null,
      "outputs": [
        {
          "output_type": "execute_result",
          "data": {
            "text/plain": [
              "'EDN'"
            ],
            "application/vnd.google.colaboratory.intrinsic+json": {
              "type": "string"
            }
          },
          "metadata": {},
          "execution_count": 81
        }
      ]
    },
    {
      "cell_type": "code",
      "source": [
        "#el error mas frecuente cuando estamos accediendo a una posicion de una secuencia!\n",
        "byma[4]"
      ],
      "metadata": {
        "colab": {
          "base_uri": "https://localhost:8080/",
          "height": 158
        },
        "id": "vZVenHw0pv7S",
        "outputId": "abf3ac56-3a12-457b-c159-85a2a337bda4"
      },
      "execution_count": null,
      "outputs": [
        {
          "output_type": "error",
          "ename": "IndexError",
          "evalue": "list index out of range",
          "traceback": [
            "\u001b[0;31m---------------------------------------------------------------------------\u001b[0m",
            "\u001b[0;31mIndexError\u001b[0m                                Traceback (most recent call last)",
            "\u001b[0;32m<ipython-input-82-886e14b20531>\u001b[0m in \u001b[0;36m<cell line: 0>\u001b[0;34m()\u001b[0m\n\u001b[1;32m      1\u001b[0m \u001b[0;31m#el error mas frecuente cuando estamos accediendo a una posicion de una secuencia!\u001b[0m\u001b[0;34m\u001b[0m\u001b[0;34m\u001b[0m\u001b[0m\n\u001b[0;32m----> 2\u001b[0;31m \u001b[0mbyma\u001b[0m\u001b[0;34m[\u001b[0m\u001b[0;36m4\u001b[0m\u001b[0;34m]\u001b[0m\u001b[0;34m\u001b[0m\u001b[0;34m\u001b[0m\u001b[0m\n\u001b[0m",
            "\u001b[0;31mIndexError\u001b[0m: list index out of range"
          ]
        }
      ]
    },
    {
      "cell_type": "code",
      "source": [
        "ticker_para_nyse = rn.choice(byma)"
      ],
      "metadata": {
        "id": "H3mtR6IvqQAz"
      },
      "execution_count": null,
      "outputs": []
    },
    {
      "cell_type": "code",
      "execution_count": null,
      "metadata": {
        "id": "QqzMcb8PGNLC",
        "colab": {
          "base_uri": "https://localhost:8080/"
        },
        "outputId": "ebee9557-bfd2-43d7-d0f4-02cdf8af9990"
      },
      "outputs": [
        {
          "output_type": "stream",
          "name": "stdout",
          "text": [
            "GGAL\n"
          ]
        }
      ],
      "source": [
        "print(ticker_para_nyse)\n",
        "nyse.append(ticker_para_nyse) #append retorna None , x lo que no se asigna a la variable"
      ]
    },
    {
      "cell_type": "code",
      "source": [],
      "metadata": {
        "colab": {
          "base_uri": "https://localhost:8080/"
        },
        "id": "OmU1H1ESq6Kr",
        "outputId": "a56b3a2b-bb9b-43a9-c95e-7b7f7d830519"
      },
      "execution_count": null,
      "outputs": [
        {
          "output_type": "execute_result",
          "data": {
            "text/plain": [
              "['KO', 'TSLA', 'TS', 'AAPL', 'BRK.A', 'GGAL']"
            ]
          },
          "metadata": {},
          "execution_count": 85
        }
      ]
    },
    {
      "cell_type": "markdown",
      "metadata": {
        "id": "00JlThhIGNPd"
      },
      "source": [
        "### 4)\n",
        "mezclar aleatoriamente la lista nyse e imprimirla. Luego agregar el anteultimo ticker de esta lista a la lista byma."
      ]
    },
    {
      "cell_type": "code",
      "source": [
        "import random as rn"
      ],
      "metadata": {
        "id": "ZP_5h5hzq5zD"
      },
      "execution_count": null,
      "outputs": []
    },
    {
      "cell_type": "code",
      "execution_count": null,
      "metadata": {
        "id": "mhvwIFIrGR4k"
      },
      "outputs": [],
      "source": [
        "nyse = [\"KO\", \"TSLA\" , \"TS\" , \"AAPL\" , \"BRK.A\"]\n",
        "byma = [\"EDN\" , \"GGAL\" , \"YPFD\" , \"CTIO\"]"
      ]
    },
    {
      "cell_type": "code",
      "execution_count": null,
      "metadata": {
        "id": "38HvGWJ1GUkl"
      },
      "outputs": [],
      "source": [
        "rn.shuffle(nyse) #otra funcion que retorna None"
      ]
    },
    {
      "cell_type": "code",
      "source": [
        "nyse"
      ],
      "metadata": {
        "colab": {
          "base_uri": "https://localhost:8080/"
        },
        "id": "DIhjwK-UsbPU",
        "outputId": "e247f668-57bd-4083-8a8f-129fae9ee0c6"
      },
      "execution_count": null,
      "outputs": [
        {
          "output_type": "execute_result",
          "data": {
            "text/plain": [
              "['TS', 'TSLA', 'AAPL', 'BRK.A', 'KO']"
            ]
          },
          "metadata": {},
          "execution_count": 100
        }
      ]
    },
    {
      "cell_type": "code",
      "source": [
        "#[23,4][-2] esto si funciona xq el slicing negativo comienza en -1 en lugar de 0"
      ],
      "metadata": {
        "colab": {
          "base_uri": "https://localhost:8080/"
        },
        "id": "YDuJSvzVs4EM",
        "outputId": "e5df63e8-c428-4953-e312-2ad86cf4d0a9"
      },
      "execution_count": null,
      "outputs": [
        {
          "output_type": "execute_result",
          "data": {
            "text/plain": [
              "23"
            ]
          },
          "metadata": {},
          "execution_count": 102
        }
      ]
    },
    {
      "cell_type": "code",
      "execution_count": null,
      "metadata": {
        "id": "RCAds8SiGgme"
      },
      "outputs": [],
      "source": [
        "byma.append(nyse[-2])"
      ]
    },
    {
      "cell_type": "code",
      "source": [
        "byma"
      ],
      "metadata": {
        "colab": {
          "base_uri": "https://localhost:8080/"
        },
        "id": "dcMrDBlQtF58",
        "outputId": "b7db20b4-2b41-48a4-c1ad-3f927cbe7b66"
      },
      "execution_count": null,
      "outputs": [
        {
          "output_type": "execute_result",
          "data": {
            "text/plain": [
              "['EDN', 'GGAL', 'YPFD', 'CTIO', 'BRK.A']"
            ]
          },
          "metadata": {},
          "execution_count": 107
        }
      ]
    },
    {
      "cell_type": "markdown",
      "metadata": {
        "id": "-nCqOhuBGgpu"
      },
      "source": [
        "### 5)\n",
        "fusionar las dos listas en una sola, luego cargar estos datos en una variable llamada \"lista_larga\". Acomodarla en orden alfabetico INVERSO (Z a A) , imprimir y luego:\n",
        "* elimilar el primer elemento utilizando el nombre del ticker (str) correspondiente.\n",
        "* eliminar el ultimo elemento utilizando el indice del mismo e imprimir cual fue el mismo.\n",
        "\n",
        "imprimir nuevamente la lista para verificar los cambios."
      ]
    },
    {
      "cell_type": "code",
      "execution_count": null,
      "metadata": {
        "id": "eBHNLGYRGoJx"
      },
      "outputs": [],
      "source": [
        "nyse = [\"KO\", \"TSLA\" , \"TS\" , \"AAPL\" , \"BRK.A\"]\n",
        "byma = [\"EDN\" , \"GGAL\" , \"YPFD\" , \"CTIO\"]"
      ]
    },
    {
      "cell_type": "code",
      "execution_count": null,
      "metadata": {
        "id": "S_7DAspFGp8A"
      },
      "outputs": [],
      "source": [
        "lista_larga = nyse + byma #nyse.extend(byma)"
      ]
    },
    {
      "cell_type": "code",
      "source": [
        "#esta seria una forma mas artesanal de hacer el extend\n",
        "for i in byma:\n",
        "  nyse.append(i)"
      ],
      "metadata": {
        "id": "QEDUQQt6trYt"
      },
      "execution_count": null,
      "outputs": []
    },
    {
      "cell_type": "code",
      "execution_count": null,
      "metadata": {
        "id": "z61hT70WGqAH"
      },
      "outputs": [],
      "source": [
        "lista_larga.sort(reverse=True)"
      ]
    },
    {
      "cell_type": "code",
      "source": [
        "print(lista_larga.sort()) #aca retorna none"
      ],
      "metadata": {
        "colab": {
          "base_uri": "https://localhost:8080/"
        },
        "id": "rU39ix1Tu0x1",
        "outputId": "a5ec29af-8ac5-4ad2-b4d5-e7dbfb7ab4f1"
      },
      "execution_count": null,
      "outputs": [
        {
          "output_type": "stream",
          "name": "stdout",
          "text": [
            "None\n"
          ]
        }
      ]
    },
    {
      "cell_type": "code",
      "source": [
        "print(lista_larga)"
      ],
      "metadata": {
        "colab": {
          "base_uri": "https://localhost:8080/"
        },
        "id": "6Nh9ecacvBzt",
        "outputId": "69256000-ea40-45a2-8cb0-bc0b4b5c79e2"
      },
      "execution_count": null,
      "outputs": [
        {
          "output_type": "stream",
          "name": "stdout",
          "text": [
            "['YPFD', 'TSLA', 'TS', 'KO', 'GGAL', 'EDN', 'CTIO', 'BRK.A', 'AAPL']\n"
          ]
        }
      ]
    },
    {
      "cell_type": "code",
      "source": [
        "lista_larga[0]"
      ],
      "metadata": {
        "colab": {
          "base_uri": "https://localhost:8080/",
          "height": 35
        },
        "id": "S578oLqIv-Nv",
        "outputId": "f46a9dff-9f00-4b91-eece-eda9d9147ad7"
      },
      "execution_count": null,
      "outputs": [
        {
          "output_type": "execute_result",
          "data": {
            "text/plain": [
              "'YPFD'"
            ],
            "application/vnd.google.colaboratory.intrinsic+json": {
              "type": "string"
            }
          },
          "metadata": {},
          "execution_count": 141
        }
      ]
    },
    {
      "cell_type": "code",
      "source": [
        "# lista_larga[0] = lista_larga[0].replace(\"YPFD\" , \"\") no estaria bien!"
      ],
      "metadata": {
        "id": "s3qqutNNwnte"
      },
      "execution_count": null,
      "outputs": []
    },
    {
      "cell_type": "code",
      "source": [
        "lista_larga.remove(lista_larga[0])"
      ],
      "metadata": {
        "id": "WdkqZuZfw0Uv"
      },
      "execution_count": null,
      "outputs": []
    },
    {
      "cell_type": "code",
      "source": [
        "lista_larga.pop()"
      ],
      "metadata": {
        "colab": {
          "base_uri": "https://localhost:8080/"
        },
        "id": "jEEpyD4Axeqr",
        "outputId": "1f46f838-40b9-405b-96ff-63cb3a185659"
      },
      "execution_count": null,
      "outputs": [
        {
          "output_type": "execute_result",
          "data": {
            "text/plain": [
              "['KO', 'GGAL', 'EDN', 'CTIO', 'BRK.A', 'AAPL']"
            ]
          },
          "metadata": {},
          "execution_count": 147
        }
      ]
    },
    {
      "cell_type": "markdown",
      "metadata": {
        "id": "mKRXPnzrP_56"
      },
      "source": [
        "### 6)\n",
        "Solicitar al usuario un valor entero para generar una tabla de multiplicación (1 al 10), presentando los resultados en pantalla y almacenándolos en una lista. ¿Como podría dejar almacenado dichos resultados en una tupla , en lugar de la lista?"
      ]
    },
    {
      "cell_type": "code",
      "execution_count": null,
      "metadata": {
        "id": "VzWDB7UMQJSN",
        "colab": {
          "base_uri": "https://localhost:8080/"
        },
        "outputId": "9431fb6d-dec8-49a2-dcb4-bd178e579458"
      },
      "outputs": [
        {
          "name": "stdout",
          "output_type": "stream",
          "text": [
            "dame un valor del 1 al 10:3\n"
          ]
        }
      ],
      "source": [
        "entero = int(input(\"dame un valor del 1 al 10:\"))\n",
        "resultados = []\n",
        "for i in range(1,11):\n",
        "  valor = i * entero\n",
        "  resultados.append(valor)"
      ]
    },
    {
      "cell_type": "code",
      "source": [
        "#demostración for anidado\n",
        "for i in range(1,11):\n",
        "\n",
        "  for x in range(5):\n",
        "\n",
        "    print( (i , x))"
      ],
      "metadata": {
        "id": "y_y5IkUc1qak"
      },
      "execution_count": null,
      "outputs": []
    },
    {
      "cell_type": "code",
      "execution_count": null,
      "metadata": {
        "id": "e5h3jEDMQJac",
        "colab": {
          "base_uri": "https://localhost:8080/"
        },
        "outputId": "9b58eee8-3d80-4c71-9811-525894bf6407"
      },
      "outputs": [
        {
          "name": "stdout",
          "output_type": "stream",
          "text": [
            "dame un valor del 1 al 10:3\n"
          ]
        }
      ],
      "source": [
        "entero = int(input(\"dame un valor del 1 al 10:\"))\n",
        "resultados = [ (i , x)  for i in range(1,11)   for x in range(5) ] #for anidado de demostración en listas x comprension"
      ]
    },
    {
      "cell_type": "code",
      "source": [],
      "metadata": {
        "id": "CSWt0WGJ3X1T"
      },
      "execution_count": null,
      "outputs": []
    },
    {
      "cell_type": "code",
      "source": [],
      "metadata": {
        "id": "xgQusud73Xn7"
      },
      "execution_count": null,
      "outputs": []
    },
    {
      "cell_type": "markdown",
      "metadata": {
        "id": "dUoh4UoMQJvk"
      },
      "source": [
        "### 7)\n",
        "Utilizando otro número para las tablas, genera una nueva tabla de multiplicar y aplique la misma lógica utilizada en el punto 6. Luego, compare la nueva lista resultante con la del punto 6 y determine qué valores están presentes en ambas listas."
      ]
    },
    {
      "cell_type": "code",
      "execution_count": null,
      "metadata": {
        "id": "15MUdYaYQz1y"
      },
      "outputs": [],
      "source": []
    },
    {
      "cell_type": "code",
      "execution_count": null,
      "metadata": {
        "id": "EGdQ91_8Q_bs"
      },
      "outputs": [],
      "source": []
    },
    {
      "cell_type": "markdown",
      "metadata": {
        "id": "D3uzF6MlQ_lF"
      },
      "source": [
        "###  8)\n",
        "solicitar al usuario cuantos elementos tendra nuestra lista.\n",
        "\n",
        "Utilizando ese dato, solicitar al usuario tantos numeros como longitud de la lista, dando la posibilidad de que sean numeros decimales.\n",
        "\n",
        "Guardar dichos numeros en una lista, y luego A MANO  calcular la media y la desviacion estandar.\n",
        "\n",
        "Verificar con alguna libreria, los resultados obtenidos."
      ]
    },
    {
      "cell_type": "code",
      "execution_count": null,
      "metadata": {
        "id": "4ZhlZ82vRah5",
        "colab": {
          "base_uri": "https://localhost:8080/"
        },
        "outputId": "e798c4a2-0d54-41b9-c40a-349c849a38af"
      },
      "outputs": [
        {
          "name": "stdout",
          "output_type": "stream",
          "text": [
            "cantidad de elementos que tendra mi lista: 3\n"
          ]
        }
      ],
      "source": [
        "cantidad_elementos = int(input(\"cantidad de elementos que tendra mi lista: \"))"
      ]
    },
    {
      "cell_type": "code",
      "execution_count": null,
      "metadata": {
        "id": "BL7ZEISGRawR",
        "colab": {
          "base_uri": "https://localhost:8080/"
        },
        "outputId": "ed67f239-b87d-4576-84a2-1cf6f2fb9c79"
      },
      "outputs": [
        {
          "name": "stdout",
          "output_type": "stream",
          "text": [
            "decime un decimal: 2\n",
            "decime un decimal: 3\n",
            "decime un decimal: 4\n"
          ]
        }
      ],
      "source": [
        "lista = []\n",
        "for i in range(cantidad_elementos):\n",
        "  numero_decimal = float(input(\"decime un decimal: \"))\n",
        "  lista.append(numero_decimal)\n"
      ]
    },
    {
      "cell_type": "code",
      "source": [],
      "metadata": {
        "id": "GHqgMFGD5Xxl"
      },
      "execution_count": null,
      "outputs": []
    },
    {
      "cell_type": "code",
      "source": [],
      "metadata": {
        "id": "_miELADY5XqT"
      },
      "execution_count": null,
      "outputs": []
    },
    {
      "cell_type": "code",
      "source": [
        "lista = [float(input(f\"decime el decimal nro {i+1}: \")) for i in range(cantidad_elementos)]\n",
        "#hay casos como este, donde la variable\n",
        "#interna del for no hace falta utilizar!\n"
      ],
      "metadata": {
        "colab": {
          "base_uri": "https://localhost:8080/"
        },
        "id": "cwtTBnEJ5I_z",
        "outputId": "51488ea7-a65e-46fb-b774-7111549a0de6"
      },
      "execution_count": null,
      "outputs": [
        {
          "name": "stdout",
          "output_type": "stream",
          "text": [
            "decime el decimal nro 1: 2\n",
            "decime el decimal nro 2: 3\n",
            "decime el decimal nro 3: 4\n"
          ]
        }
      ]
    },
    {
      "cell_type": "code",
      "source": [
        "#falta calcular el desvio estandar de forma \"manual\""
      ],
      "metadata": {
        "colab": {
          "base_uri": "https://localhost:8080/"
        },
        "id": "6_s8zosN5QWU",
        "outputId": "40a7dd8a-9524-4a19-a32b-6b3575afed17"
      },
      "execution_count": null,
      "outputs": [
        {
          "output_type": "execute_result",
          "data": {
            "text/plain": [
              "[3.0, 3.0]"
            ]
          },
          "metadata": {},
          "execution_count": 171
        }
      ]
    },
    {
      "cell_type": "markdown",
      "metadata": {
        "id": "uLW_FwF9Ra4o"
      },
      "source": [
        "###  9)\n",
        "\n",
        "Pedir al usuario 5 tickers y guardarlos en una lista.\n",
        "\n",
        "Usar la lista \"historial_de_operaciones\" para ver si he operado algun ticker de los pasados por el usuario.\n",
        "\n",
        "En el caso de hallar coincidencias , imprimir tales tickers en un texto minuscula como \"el ticker X ha sido operado por mi\"\n",
        "\n",
        "Para aquellos tickers que no se hallen coincidencias, eliminarlos de \"historial de operaciones\" y guardarlos en una tupla."
      ]
    },
    {
      "cell_type": "code",
      "execution_count": null,
      "metadata": {
        "id": "cMTpdDQCRbvJ"
      },
      "outputs": [],
      "source": [
        "historial_de_operaciones = [\"BMA\" , \"KO\" , \"TSLA\" , \"YPFD\"]"
      ]
    },
    {
      "cell_type": "code",
      "execution_count": null,
      "metadata": {
        "id": "PhRwgCG3Ryr8"
      },
      "outputs": [],
      "source": []
    },
    {
      "cell_type": "code",
      "execution_count": null,
      "metadata": {
        "id": "MQP8Xb4nRzf1"
      },
      "outputs": [],
      "source": []
    },
    {
      "cell_type": "markdown",
      "metadata": {
        "id": "ewZvFU2jRz7s"
      },
      "source": [
        "### 10)\n",
        "\n",
        "Con el String utilizado en la clase pasada, volverlo a limpiar para dejarlo normalizado, y luego generar una lista con las operaciones individuales (ticker operacion precio).\n",
        "\n",
        "\n",
        "Obtener el precio promedio de las operaciones."
      ]
    },
    {
      "cell_type": "code",
      "execution_count": null,
      "metadata": {
        "id": "MyIohZm5R0ll"
      },
      "outputs": [],
      "source": [
        "cotizaciones = \"\"\"BMA C 220,00\n",
        "BMA C $219,22\n",
        "BMA V $221,50\n",
        "COME V $3,00\n",
        "GGAL c $190,95\n",
        "BMA V $220,25\n",
        "GGAL v 187,20\n",
        "TS V $40,30\n",
        "TS C $45,20\n",
        "TS V 40,20\n",
        "COME C $3,01\"\"\""
      ]
    },
    {
      "cell_type": "code",
      "execution_count": null,
      "metadata": {
        "id": "4w8Wjp9NSI_R"
      },
      "outputs": [],
      "source": []
    },
    {
      "cell_type": "code",
      "execution_count": null,
      "metadata": {
        "id": "n4Uc262ISJSg"
      },
      "outputs": [],
      "source": []
    },
    {
      "cell_type": "markdown",
      "metadata": {
        "id": "-DcLh85FSK7x"
      },
      "source": [
        "### 11)\n",
        "\n",
        "Pedir al usuario sus 3 acciones favoritas, y sus precios actuales, guardando este par de datos dentro de una lista, y luego todas estas listas de pares, dentro de la tupla \"acciones_favs\"\n",
        "\n",
        "Con los datos de la tupla, generar dos listas. Una con los tickers y otra con los precios."
      ]
    },
    {
      "cell_type": "code",
      "execution_count": null,
      "metadata": {
        "id": "INXgTUdaSXrq"
      },
      "outputs": [],
      "source": []
    },
    {
      "cell_type": "code",
      "execution_count": null,
      "metadata": {
        "id": "RmyIJXHYSYB7"
      },
      "outputs": [],
      "source": []
    },
    {
      "cell_type": "markdown",
      "metadata": {
        "id": "b2v2xDH7SYPi"
      },
      "source": [
        "### 12)\n",
        "Se requiere saber cuales son los numeros que __NO__ se repiten dentro de la lista, para informarlos por consola.\n",
        "\n",
        "El informe debe ser del tipo __\"es X que Y se encuentra solo una vez en 'nums'   \"__"
      ]
    },
    {
      "cell_type": "code",
      "execution_count": null,
      "metadata": {
        "id": "nkUmwHvOcukH"
      },
      "outputs": [],
      "source": [
        "nums = [1, 2, 3, 1, 4, 2, 5, 6, 3]"
      ]
    },
    {
      "cell_type": "code",
      "execution_count": null,
      "metadata": {
        "id": "P0k9LBd3Sl_0"
      },
      "outputs": [],
      "source": []
    },
    {
      "cell_type": "code",
      "execution_count": null,
      "metadata": {
        "id": "61GGpMh5SmS1"
      },
      "outputs": [],
      "source": []
    },
    {
      "cell_type": "markdown",
      "metadata": {
        "id": "nk4aPBwSSmXk"
      },
      "source": [
        "### 13)\n",
        "### a)\n",
        "\n",
        "En base a la lista dada, imprimir en formato \"en fecha X se ha operado: una C/V del papel Y a un precio de P \"."
      ]
    },
    {
      "cell_type": "code",
      "execution_count": null,
      "metadata": {
        "id": "x2eTLDZyStY2"
      },
      "outputs": [],
      "source": [
        "fechas_a = [[\"2023-05-01\", \"C\" , \"BMA\" , 220] ,\n",
        "          [\"2023-05-02\" , \"V\" , \"COME\" , 3.00],\n",
        "          [\"2023-05-03\" , \"C\" , \"GGAL\" , 451.32] ]"
      ]
    },
    {
      "cell_type": "code",
      "execution_count": null,
      "metadata": {
        "id": "v2J2xMtCSwYe"
      },
      "outputs": [],
      "source": []
    },
    {
      "cell_type": "code",
      "execution_count": null,
      "metadata": {
        "id": "Zd-DfYO3TFf6"
      },
      "outputs": [],
      "source": []
    },
    {
      "cell_type": "markdown",
      "metadata": {
        "id": "iXTWS_zFTFkB"
      },
      "source": [
        "### b)\n",
        "En base a la lista dada, imprimir en formato \"en fecha X se ha operado: una C/V del papel Y a un precio de P \"."
      ]
    },
    {
      "cell_type": "code",
      "execution_count": null,
      "metadata": {
        "id": "4XQX5I-dTGMS"
      },
      "outputs": [],
      "source": [
        "fechas_b = [\"2023-05-01\", \"C\" , \"BMA\" , 220 ,\n",
        "          \"2023-05-02\" , \"V\" , \"COME\" , 3.00,\n",
        "          \"2023-05-03\" , \"C\" , \"GGAL\" , 451.32]"
      ]
    },
    {
      "cell_type": "code",
      "execution_count": null,
      "metadata": {
        "id": "NcgXriz9TNjD"
      },
      "outputs": [],
      "source": []
    },
    {
      "cell_type": "code",
      "execution_count": null,
      "metadata": {
        "id": "Gy6aoD3fTNw7"
      },
      "outputs": [],
      "source": []
    },
    {
      "cell_type": "markdown",
      "metadata": {
        "id": "oZ9vyWEWTOCb"
      },
      "source": [
        "### c)\n",
        "En base a la lista dada, imprimir en formato \"en fecha X se ha operado: una C/V del papel Y a un precio de P \"."
      ]
    },
    {
      "cell_type": "code",
      "execution_count": null,
      "metadata": {
        "id": "E-xk_XMyTRC0"
      },
      "outputs": [],
      "source": [
        "fechas_c = [[\"2023-05-01\", [\"C\"] , [\"BMA\"] , [220]] ,\n",
        "          [\"2023-05-02\" , [\"V\"] , [\"COME\"] , [3.00]],\n",
        "          [\"2023-05-03\" , [\"C\"] , [\"GGAL\"] , [451.32]]]"
      ]
    },
    {
      "cell_type": "code",
      "execution_count": null,
      "metadata": {
        "id": "sS35fRHVTdE1"
      },
      "outputs": [],
      "source": []
    },
    {
      "cell_type": "code",
      "execution_count": null,
      "metadata": {
        "id": "RM1g5W7XTdI9"
      },
      "outputs": [],
      "source": []
    },
    {
      "cell_type": "markdown",
      "metadata": {
        "id": "imNBybQ9TdYl"
      },
      "source": [
        "### d)\n",
        "\n",
        "En base a la lista dada, imprimir en formato \"en fecha X se ha operado: una C/V del papel Y a un precio de P \"."
      ]
    },
    {
      "cell_type": "code",
      "execution_count": null,
      "metadata": {
        "id": "2IJu0zGzTgGM"
      },
      "outputs": [],
      "source": [
        "fechas_d = [[\"2023-05-01\", [\"C\" , \"C\" , \"V\"] , [\"BMA\" ,\"BMA\" , \"BMA\"] , [220 , 219.22 , 221.5]] ,\n",
        "          [\"2023-05-02\" , [\"V\" , \"C\" , \"V\"] , [\"COME\" ,\"GGAL\" , \"BMA\"] , [3.00 , 190.95 , 220.25]] ]"
      ]
    },
    {
      "cell_type": "code",
      "execution_count": null,
      "metadata": {
        "id": "5XLuJzVLTzCR"
      },
      "outputs": [],
      "source": []
    },
    {
      "cell_type": "code",
      "execution_count": null,
      "metadata": {
        "id": "N2Tb_rBNTzm5"
      },
      "outputs": [],
      "source": []
    },
    {
      "cell_type": "markdown",
      "metadata": {
        "id": "tyauG_zlTzu5"
      },
      "source": [
        "### 14)\n",
        "generar un array de 25 numeros entre 1 y 100. Eliminar el 3er elemento del array , y reemplazar por 0 al numero que se encuentre en la posicion 21. Imprimir numero por numero, junto a su cuadrado , de forma ordenada de mayor a menor."
      ]
    },
    {
      "cell_type": "code",
      "execution_count": null,
      "metadata": {
        "id": "JA-9_VKmT8La"
      },
      "outputs": [],
      "source": []
    },
    {
      "cell_type": "code",
      "execution_count": null,
      "metadata": {
        "id": "b1c6HI1-T8QK"
      },
      "outputs": [],
      "source": []
    },
    {
      "cell_type": "markdown",
      "metadata": {
        "id": "IaJSiGaxT8aC"
      },
      "source": [
        "### 15)\n",
        "Generar 350 numeros aleatorios(menores a mil) y guardarlos en una lista.\n",
        "Calcular media, moda y mediana. Calcular desvio , varianza y deciles utilizando metodos de librerias de calculo."
      ]
    },
    {
      "cell_type": "code",
      "source": [],
      "metadata": {
        "id": "JA1mJjzS96Kn"
      },
      "execution_count": null,
      "outputs": []
    },
    {
      "cell_type": "code",
      "source": [],
      "metadata": {
        "id": "FKo0yuBE96gF"
      },
      "execution_count": null,
      "outputs": []
    }
  ],
  "metadata": {
    "colab": {
      "provenance": [],
      "include_colab_link": true
    },
    "kernelspec": {
      "display_name": "Python 3 (ipykernel)",
      "language": "python",
      "name": "python3"
    },
    "language_info": {
      "codemirror_mode": {
        "name": "ipython",
        "version": 3
      },
      "file_extension": ".py",
      "mimetype": "text/x-python",
      "name": "python",
      "nbconvert_exporter": "python",
      "pygments_lexer": "ipython3",
      "version": "3.12.4"
    }
  },
  "nbformat": 4,
  "nbformat_minor": 0
}