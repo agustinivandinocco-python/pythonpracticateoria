{
  "cells": [
    {
      "cell_type": "markdown",
      "metadata": {
        "id": "view-in-github",
        "colab_type": "text"
      },
      "source": [
        "<a href=\"https://colab.research.google.com/github/agustinivandinocco-python/pythonpracticateoria/blob/main/Colab/Intro_funciones.ipynb\" target=\"_parent\"><img src=\"https://colab.research.google.com/assets/colab-badge.svg\" alt=\"Open In Colab\"/></a>"
      ]
    },
    {
      "cell_type": "markdown",
      "id": "f0853856",
      "metadata": {
        "id": "f0853856"
      },
      "source": [
        "# Teoría sobre funciones en Python\n",
        "\n",
        "En Python, una función es un bloque de código que realiza una tarea específica. Las funciones se definen usando la palabra clave `def` seguida del nombre de la función y paréntesis `()`.\n",
        "\n",
        "Las funciones pueden tomar argumentos (valores de entrada) y pueden devolver un resultado utilizando la palabra clave `return`.\n",
        "\n",
        "Aquí hay un ejemplo de una función simple que suma dos números:\n",
        "\n",
        "```python\n",
        "def suma(a, b):\n",
        "    resultado = a + b\n",
        "    return resultado\n"
      ]
    },
    {
      "cell_type": "code",
      "execution_count": null,
      "id": "e6252dfe",
      "metadata": {
        "id": "e6252dfe"
      },
      "outputs": [],
      "source": []
    },
    {
      "cell_type": "code",
      "execution_count": null,
      "id": "56c1cc8e",
      "metadata": {
        "id": "56c1cc8e"
      },
      "outputs": [],
      "source": [
        "def sumar(a=5, b=2):\n",
        "  \"\"\"esta funcion suma los dos parametros a y b que se le pasen como argumentos.\n",
        "  a: float\n",
        "  b: float\n",
        "\n",
        "  return float\"\"\"\n",
        "\n",
        "  resultado = a + b # x + y  = 1 + 2\n",
        "  return resultado\n"
      ]
    },
    {
      "cell_type": "code",
      "source": [
        "sumar()"
      ],
      "metadata": {
        "id": "M6JgijCxdZMX"
      },
      "id": "M6JgijCxdZMX",
      "execution_count": null,
      "outputs": []
    },
    {
      "cell_type": "code",
      "source": [
        "x = 1\n",
        "y = 2"
      ],
      "metadata": {
        "id": "zbR4SEw6c4RO"
      },
      "id": "zbR4SEw6c4RO",
      "execution_count": null,
      "outputs": []
    },
    {
      "cell_type": "code",
      "source": [
        "a = x\n",
        "b = y"
      ],
      "metadata": {
        "id": "GFhLA7RkdO2H"
      },
      "id": "GFhLA7RkdO2H",
      "execution_count": null,
      "outputs": []
    },
    {
      "cell_type": "code",
      "source": [
        "sumar(a=x , b=y )"
      ],
      "metadata": {
        "colab": {
          "base_uri": "https://localhost:8080/"
        },
        "id": "bi7meOPAc6lf",
        "outputId": "9ee67e7a-6637-4ce8-e83c-46eede99daf9"
      },
      "id": "bi7meOPAc6lf",
      "execution_count": null,
      "outputs": [
        {
          "output_type": "execute_result",
          "data": {
            "text/plain": [
              "3"
            ]
          },
          "metadata": {},
          "execution_count": 49
        }
      ]
    },
    {
      "cell_type": "code",
      "source": [
        "sumar()"
      ],
      "metadata": {
        "colab": {
          "base_uri": "https://localhost:8080/"
        },
        "id": "XK0kI50zWQF-",
        "outputId": "9dd637e7-1d84-4267-c5fb-73c5aed417db"
      },
      "id": "XK0kI50zWQF-",
      "execution_count": null,
      "outputs": [
        {
          "output_type": "execute_result",
          "data": {
            "text/plain": [
              "7"
            ]
          },
          "metadata": {},
          "execution_count": 13
        }
      ]
    },
    {
      "cell_type": "code",
      "source": [
        "sumar(3 , 3)"
      ],
      "metadata": {
        "colab": {
          "base_uri": "https://localhost:8080/"
        },
        "id": "hVzhs29qS35_",
        "outputId": "ba53b7f9-2c6c-4092-a161-91c46a01f5e3"
      },
      "id": "hVzhs29qS35_",
      "execution_count": null,
      "outputs": [
        {
          "output_type": "execute_result",
          "data": {
            "text/plain": [
              "6"
            ]
          },
          "metadata": {},
          "execution_count": 3
        }
      ]
    },
    {
      "cell_type": "code",
      "source": [
        "resultado = sumar(3,-1) #guardo el return dentro de una variable"
      ],
      "metadata": {
        "id": "zqjZfGKCS3u3"
      },
      "id": "zqjZfGKCS3u3",
      "execution_count": null,
      "outputs": []
    },
    {
      "cell_type": "code",
      "source": [
        "resultado"
      ],
      "metadata": {
        "colab": {
          "base_uri": "https://localhost:8080/"
        },
        "id": "6LWbvl_ZVq_m",
        "outputId": "84bafa31-ac7c-4f62-cc10-32df88c40ca6"
      },
      "id": "6LWbvl_ZVq_m",
      "execution_count": null,
      "outputs": [
        {
          "output_type": "execute_result",
          "data": {
            "text/plain": [
              "2"
            ]
          },
          "metadata": {},
          "execution_count": 6
        }
      ]
    },
    {
      "cell_type": "code",
      "source": [
        "#argumentos por palabra clave:\n",
        "\n",
        "sumar(b=3, a=2)"
      ],
      "metadata": {
        "id": "N6PBzQEuWkS3"
      },
      "id": "N6PBzQEuWkS3",
      "execution_count": null,
      "outputs": []
    },
    {
      "cell_type": "code",
      "source": [
        "sumar(a=3)"
      ],
      "metadata": {
        "colab": {
          "base_uri": "https://localhost:8080/"
        },
        "id": "gPzS9155XDjf",
        "outputId": "c0ac18d8-d2f8-46ab-d5f4-eac6345f5956"
      },
      "id": "gPzS9155XDjf",
      "execution_count": null,
      "outputs": [
        {
          "output_type": "execute_result",
          "data": {
            "text/plain": [
              "5"
            ]
          },
          "metadata": {},
          "execution_count": 11
        }
      ]
    },
    {
      "cell_type": "code",
      "source": [
        "def dividir(x , y ):\n",
        "  resultado = x / y\n",
        "\n",
        "  return resultado"
      ],
      "metadata": {
        "id": "KHeh0x4iWwGm"
      },
      "id": "KHeh0x4iWwGm",
      "execution_count": null,
      "outputs": []
    },
    {
      "cell_type": "code",
      "source": [
        "dividir(y=2 , x=10)"
      ],
      "metadata": {
        "colab": {
          "base_uri": "https://localhost:8080/"
        },
        "id": "qNs7uDmuW2vf",
        "outputId": "a07ba4f5-452a-4433-8863-633ec288d3c1"
      },
      "id": "qNs7uDmuW2vf",
      "execution_count": null,
      "outputs": [
        {
          "output_type": "execute_result",
          "data": {
            "text/plain": [
              "5.0"
            ]
          },
          "metadata": {},
          "execution_count": 10
        }
      ]
    },
    {
      "cell_type": "markdown",
      "id": "9e0a9c18",
      "metadata": {
        "id": "9e0a9c18"
      },
      "source": [
        "# Argumentos en funciones en Python\n",
        "\n",
        "En Python, los argumentos son valores que se pasan a una función para que los utilice durante su ejecución. Los argumentos permiten que una función sea más flexible y reutilizable al permitirle trabajar con diferentes valores en diferentes momentos.\n",
        "\n",
        "Existen diferentes tipos de argumentos en Python:\n",
        "\n",
        "1. **Argumentos posicionales**: Son los argumentos que se pasan a una función en el orden en que están definidos en la firma de la función. Estos argumentos se corresponden con los parámetros definidos en la función.\n",
        "\n",
        "2. **Argumentos por palabra clave**: Son los argumentos que se pasan a una función utilizando la sintaxis `nombre=valor`. Estos argumentos permiten especificar los valores para parámetros específicos, sin importar el orden en que se definieron en la función.\n",
        "\n",
        "3. **Argumentos por defecto**: Son argumentos que tienen un valor predeterminado especificado en la definición de la función. Estos argumentos son opcionales y pueden omitirse al llamar a la función. Si no se proporciona un valor para un argumento por defecto, se utilizará el valor predeterminado.\n",
        "\n"
      ]
    },
    {
      "cell_type": "code",
      "execution_count": null,
      "id": "804162b2",
      "metadata": {
        "id": "804162b2"
      },
      "outputs": [],
      "source": []
    },
    {
      "cell_type": "markdown",
      "id": "9ba01bc8",
      "metadata": {
        "id": "9ba01bc8"
      },
      "source": [
        "### 1)\n",
        "Escribir una función llamada __encontrar_maximo__ que reciba una lista de números como argumento y devuelva el número más grande de la lista. La función debe verificar que el argumento sea una lista no vacía."
      ]
    },
    {
      "cell_type": "code",
      "execution_count": null,
      "id": "c1861939",
      "metadata": {
        "id": "c1861939"
      },
      "outputs": [],
      "source": [
        "def encontrar_maximo(lista):\n",
        "  print(lista)\n",
        "  if len(lista) == 0:\n",
        "      print(\"la lista esta vacia.\")\n",
        "      resultado = None\n",
        "      #return resultado\n",
        "  else:\n",
        "      resultado = max(lista)\n",
        "\n",
        "  print(\"aca termina el script\")\n",
        "  return resultado\n"
      ]
    },
    {
      "cell_type": "code",
      "execution_count": null,
      "id": "7cfa7b20",
      "metadata": {
        "id": "7cfa7b20"
      },
      "outputs": [],
      "source": [
        "lista = [2,3,4,4]\n"
      ]
    },
    {
      "cell_type": "code",
      "source": [
        "encontrar_maximo(lista)"
      ],
      "metadata": {
        "colab": {
          "base_uri": "https://localhost:8080/"
        },
        "id": "FufinnWvZQbe",
        "outputId": "948f51a7-5c4b-4af5-dce3-e5992faa9dcb"
      },
      "id": "FufinnWvZQbe",
      "execution_count": null,
      "outputs": [
        {
          "output_type": "stream",
          "name": "stdout",
          "text": [
            "[2, 3, 4, 4]\n",
            "aca termina el script\n"
          ]
        },
        {
          "output_type": "execute_result",
          "data": {
            "text/plain": [
              "4"
            ]
          },
          "metadata": {},
          "execution_count": 63
        }
      ]
    },
    {
      "cell_type": "code",
      "source": [
        "numeros_telefono = [112233 , 1112234 , 1223123 ,123123]"
      ],
      "metadata": {
        "id": "1cCpJdbqeWkO"
      },
      "id": "1cCpJdbqeWkO",
      "execution_count": null,
      "outputs": []
    },
    {
      "cell_type": "code",
      "source": [
        "def encontrar_maximo(numeros):\n",
        "  print(numeros)\n",
        "  if len(numeros) == 0:\n",
        "      print(\"la lista esta vacia.\")\n",
        "      resultado = None\n",
        "      #return resultado\n",
        "  else:\n",
        "      resultado = max(numeros)\n",
        "\n",
        "  print(\"aca termina el script\")\n",
        "  return resultado"
      ],
      "metadata": {
        "id": "CKC-Ou8PZQSG"
      },
      "id": "CKC-Ou8PZQSG",
      "execution_count": null,
      "outputs": []
    },
    {
      "cell_type": "code",
      "source": [
        "encontrar_maximo(numeros = [23,4,5])"
      ],
      "metadata": {
        "colab": {
          "base_uri": "https://localhost:8080/"
        },
        "id": "Cdcm38j0YX5u",
        "outputId": "e36bb29a-3adf-4acd-bb95-57b11e4920d8"
      },
      "id": "Cdcm38j0YX5u",
      "execution_count": null,
      "outputs": [
        {
          "output_type": "stream",
          "name": "stdout",
          "text": [
            "[23, 4, 5]\n",
            "aca termina el script\n"
          ]
        },
        {
          "output_type": "execute_result",
          "data": {
            "text/plain": [
              "23"
            ]
          },
          "metadata": {},
          "execution_count": 68
        }
      ]
    },
    {
      "cell_type": "code",
      "source": [
        "encontrar_maximo()"
      ],
      "metadata": {
        "id": "L26cTR1wefrW"
      },
      "id": "L26cTR1wefrW",
      "execution_count": null,
      "outputs": []
    },
    {
      "cell_type": "markdown",
      "id": "6095bc34",
      "metadata": {
        "id": "6095bc34"
      },
      "source": [
        "### 2)\n",
        "\n",
        "Escribir una función llamada __filtrar_nombres__ que reciba una lista de nombres como argumento y devuelva una lista con los nombres que comienzan con una letra específica (tambien pasada por parametro y que por default sea la letra __a__). La función debe validar que la lista no este vacia."
      ]
    },
    {
      "cell_type": "code",
      "execution_count": null,
      "id": "37190efd",
      "metadata": {
        "id": "37190efd"
      },
      "outputs": [],
      "source": [
        "hola=[\"MARIA\" , \"JUAN\" , \"analia\" , \"Ana\" , \"Agostina\"]"
      ]
    },
    {
      "cell_type": "code",
      "execution_count": null,
      "id": "405bcd9e",
      "metadata": {
        "id": "405bcd9e"
      },
      "outputs": [],
      "source": [
        "#el nombre del argumento de la funcion NO debe ser confundido con la variable que viene desde fuera de la funcion.\n",
        "\n",
        "def filtrar_nombres(lista , letra=\"a\"): #siempre un argumento sin valor por default debe ir antes que uno con default.\n",
        "\n",
        "  lista_a_retornar = []\n",
        "\n",
        "  if len (lista) != 0:\n",
        "    for nombre in lista:\n",
        "      if nombre[0] == letra:\n",
        "        lista_a_retornar.append(nombre)\n",
        "  else:\n",
        "    lista_a_retornar = None\n",
        "\n",
        "  return lista_a_retornar\n",
        "\n",
        "\n"
      ]
    },
    {
      "cell_type": "code",
      "execution_count": null,
      "id": "1d614cdf",
      "metadata": {
        "colab": {
          "base_uri": "https://localhost:8080/"
        },
        "id": "1d614cdf",
        "outputId": "14bd5173-cc24-41a9-ae98-23951ba601c9"
      },
      "outputs": [
        {
          "output_type": "execute_result",
          "data": {
            "text/plain": [
              "['analia']"
            ]
          },
          "metadata": {},
          "execution_count": 45
        }
      ],
      "source": [
        "filtrar_nombres(lista=hola)"
      ]
    },
    {
      "cell_type": "code",
      "source": [
        "for i in [1,2]:\n",
        "  i.capitalize()"
      ],
      "metadata": {
        "id": "qHB6F0EccNa_"
      },
      "id": "qHB6F0EccNa_",
      "execution_count": null,
      "outputs": []
    },
    {
      "cell_type": "markdown",
      "id": "be5b70db",
      "metadata": {
        "id": "be5b70db"
      },
      "source": [
        "### 3)\n",
        "Escribir una función llamada __contar_palabras__ que reciba una cadena de texto como argumento y devuelva un diccionario con la frecuencia de cada palabra en la cadena.\n",
        "\n",
        "La función debe permitir al usuario decidir si quiere hacer una diferencia entre mayusculas y minusculas a la hora de contar. (__ayuda__ flag booleano)"
      ]
    },
    {
      "cell_type": "code",
      "source": [
        "!pip install unidecode"
      ],
      "metadata": {
        "id": "0Godt_XrkWyb"
      },
      "id": "0Godt_XrkWyb",
      "execution_count": null,
      "outputs": []
    },
    {
      "cell_type": "code",
      "execution_count": null,
      "id": "591aff75",
      "metadata": {
        "id": "591aff75"
      },
      "outputs": [],
      "source": [
        "from unidecode import unidecode\n",
        "\n",
        "texto = \"\"\"\n",
        "Los bonos del Tesoro estadounidense registraron una caída en sus precios, lo que provocó un aumento en los rendimientos.\n",
        "Esta reacción se produjo luego de que el último informe de inflación mostrara cifras superiores a las esperadas,\n",
        "lo que refuerza la expectativa de que la Reserva Federal mantendrá las tasas de interés elevadas por más tiempo.\n",
        "\n",
        "Los inversores analizan cuidadosamente los datos macroeconómicos y sus implicancias sobre la política monetaria.\n",
        "La persistencia de una inflación alta complica los planes del banco central, que debe equilibrar el crecimiento económico\n",
        "con la estabilidad de precios. La palabra inflación ha sido central en las últimas decisiones de política.\n",
        "\n",
        "En el mercado accionario, los índices principales operaron con volatilidad. Algunos sectores mostraron resiliencia,\n",
        "mientras que otros retrocedieron ante la posibilidad de que las tasas sigan en niveles restrictivos.\n",
        "Los inversores se refugian en activos considerados más seguros, como los bonos del Tesoro, frente a la incertidumbre económica.\n",
        "\n",
        "El fortalecimiento del dólar frente a otras monedas también refleja la percepción de que las tasas de interés\n",
        "en Estados Unidos seguirán siendo más atractivas que en otras economías desarrolladas.\n",
        "En resumen, bonos, inflación, tasas y mercado son las variables que dominan el sentimiento de los inversores esta semana.\n",
        "\"\"\"\n",
        "\n",
        "\n",
        "t = unidecode(texto) #sacamos los acentos.\n"
      ]
    },
    {
      "cell_type": "code",
      "source": [],
      "metadata": {
        "id": "jQI23pFpoWX7"
      },
      "id": "jQI23pFpoWX7",
      "execution_count": null,
      "outputs": []
    }
  ],
  "metadata": {
    "kernelspec": {
      "display_name": "Python 3 (ipykernel)",
      "language": "python",
      "name": "python3"
    },
    "language_info": {
      "codemirror_mode": {
        "name": "ipython",
        "version": 3
      },
      "file_extension": ".py",
      "mimetype": "text/x-python",
      "name": "python",
      "nbconvert_exporter": "python",
      "pygments_lexer": "ipython3",
      "version": "3.10.9"
    },
    "colab": {
      "provenance": [],
      "include_colab_link": true
    }
  },
  "nbformat": 4,
  "nbformat_minor": 5
}