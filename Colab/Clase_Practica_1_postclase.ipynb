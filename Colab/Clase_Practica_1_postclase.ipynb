{
  "cells": [
    {
      "cell_type": "markdown",
      "metadata": {
        "id": "view-in-github",
        "colab_type": "text"
      },
      "source": [
        "<a href=\"https://colab.research.google.com/github/agustinivandinocco-python/pythonpracticateoria/blob/main/Colab/Clase_Practica_1_postclase.ipynb\" target=\"_parent\"><img src=\"https://colab.research.google.com/assets/colab-badge.svg\" alt=\"Open In Colab\"/></a>"
      ]
    },
    {
      "cell_type": "markdown",
      "metadata": {
        "id": "NNUxXCX5bTY9"
      },
      "source": [
        "# Python Para finanzas 2025\n",
        "\n",
        "EJERCICIOS CLASE TEORICA 1"
      ]
    },
    {
      "cell_type": "markdown",
      "metadata": {
        "id": "UE0F4f3Obil8"
      },
      "source": [
        "1)\n",
        "\n",
        "pedir al usuario su nombre y edad. Imprimir en pantalla un saludo a este usuario, recordandole la edad que tiene.\n",
        "imprimir de forma concatenada  y tambien utlizando fstring!\n",
        "\n",
        "imprimir la edad del hijo del usuario, que asumimos que tiene un tercio de la edad de este."
      ]
    },
    {
      "cell_type": "code",
      "source": [
        "nombre = input(\"escribí tu nombre: \")\n",
        "#edad = float(input(\"escribí tu edad: \"))\n",
        "edad = input(\"escribí tu edad: \")"
      ],
      "metadata": {
        "colab": {
          "base_uri": "https://localhost:8080/"
        },
        "id": "8zWiNVN6Pjbh",
        "outputId": "47c1c034-d36f-4c16-bc00-79a7adcd4745"
      },
      "execution_count": null,
      "outputs": [
        {
          "name": "stdout",
          "output_type": "stream",
          "text": [
            "escribí tu nombre: juan\n",
            "escribí tu edad: 20\n"
          ]
        }
      ]
    },
    {
      "cell_type": "code",
      "source": [
        "edad = float(edad)"
      ],
      "metadata": {
        "id": "SC-wiQsgckr7"
      },
      "execution_count": null,
      "outputs": []
    },
    {
      "cell_type": "code",
      "source": [
        "type(nombre)"
      ],
      "metadata": {
        "colab": {
          "base_uri": "https://localhost:8080/"
        },
        "id": "-LVHs_wJcQzM",
        "outputId": "bdcbc8cb-8b3a-4fed-df69-8f2fd77cc6f4"
      },
      "execution_count": null,
      "outputs": [
        {
          "output_type": "execute_result",
          "data": {
            "text/plain": [
              "str"
            ]
          },
          "metadata": {},
          "execution_count": 24
        }
      ]
    },
    {
      "cell_type": "code",
      "source": [
        "print(\"Buen día \" + nombre +  \" como estas? tu edad es \" + str(edad)  )\n",
        "print(\"Buen día\" , nombre , \"como estas? tu edad es\" , edad )\n",
        "print(f\"Buen dia {nombre} como estas? tu edad es {edad}\") #esta es la que mas van a encontrar en distintos codigos.\n",
        "print(\"Buen dia {} como estas? tu edad es {}\".format(nombre , edad))"
      ],
      "metadata": {
        "colab": {
          "base_uri": "https://localhost:8080/"
        },
        "id": "Q3fsELLtaZqb",
        "outputId": "318d3b9f-a2f6-4e66-b936-e68c7b68b168"
      },
      "execution_count": null,
      "outputs": [
        {
          "output_type": "stream",
          "name": "stdout",
          "text": [
            "Buen día juan como estas? tu edad es 20.0\n",
            "Buen día juan como estas? tu edad es 20.0\n",
            "Buen dia juan como estas? tu edad es 20.0\n",
            "Buen dia juan como estas? tu edad es 20.0\n"
          ]
        }
      ]
    },
    {
      "cell_type": "code",
      "source": [
        "edad_hijo = edad/3"
      ],
      "metadata": {
        "id": "IKzrmefxda7E"
      },
      "execution_count": null,
      "outputs": []
    },
    {
      "cell_type": "code",
      "source": [
        "edad_hijo"
      ],
      "metadata": {
        "colab": {
          "base_uri": "https://localhost:8080/"
        },
        "id": "TLGo71KrfXxc",
        "outputId": "39392d70-62fc-4d28-da53-f5578e929fb7"
      },
      "execution_count": null,
      "outputs": [
        {
          "output_type": "execute_result",
          "data": {
            "text/plain": [
              "6.666666666666667"
            ]
          },
          "metadata": {},
          "execution_count": 42
        }
      ]
    },
    {
      "cell_type": "markdown",
      "metadata": {
        "id": "cFPZDFdPcQ8Z"
      },
      "source": [
        "2)\n",
        "\n",
        "pedir al usuario su apellido, guardarlo en variable \"last_name\", asegurar que el mismo se encuentre con mayuscula en su letra inicial.\n",
        "\n",
        "como me aseguro cumplir con las mayusculas si tengo un apellido con mas de una palabra (compuesto)?\n",
        "\n"
      ]
    },
    {
      "cell_type": "code",
      "execution_count": null,
      "metadata": {
        "colab": {
          "base_uri": "https://localhost:8080/"
        },
        "id": "SmBN84dhA7po",
        "outputId": "c682b4e6-3a87-4eb8-d77c-89a63fe1f9e3"
      },
      "outputs": [
        {
          "name": "stdout",
          "output_type": "stream",
          "text": [
            "escriba su apellido: garcia perez\n"
          ]
        }
      ],
      "source": [
        "last_name = input(\"escriba su apellido: \").capitalize()"
      ]
    },
    {
      "cell_type": "code",
      "source": [],
      "metadata": {
        "colab": {
          "base_uri": "https://localhost:8080/"
        },
        "id": "_7RlB6OVg4Fl",
        "outputId": "9cc70a3b-91dc-4561-e237-71b6ef7f6ff7"
      },
      "execution_count": null,
      "outputs": [
        {
          "output_type": "execute_result",
          "data": {
            "text/plain": [
              "False"
            ]
          },
          "metadata": {},
          "execution_count": 51
        }
      ]
    },
    {
      "cell_type": "code",
      "source": [
        "last_name.title()"
      ],
      "metadata": {
        "colab": {
          "base_uri": "https://localhost:8080/",
          "height": 36
        },
        "id": "CJ3zvmiwgpLd",
        "outputId": "46de3a8d-43be-442e-8257-353d79ff8e34"
      },
      "execution_count": null,
      "outputs": [
        {
          "output_type": "execute_result",
          "data": {
            "text/plain": [
              "'Garcia Perez'"
            ],
            "application/vnd.google.colaboratory.intrinsic+json": {
              "type": "string"
            }
          },
          "metadata": {},
          "execution_count": 50
        }
      ]
    },
    {
      "cell_type": "code",
      "source": [],
      "metadata": {
        "colab": {
          "base_uri": "https://localhost:8080/",
          "height": 36
        },
        "id": "foQ98y04hUtV",
        "outputId": "62470e81-bdc6-43a3-f014-f92f4e08c0dd"
      },
      "execution_count": null,
      "outputs": [
        {
          "output_type": "execute_result",
          "data": {
            "text/plain": [
              "'Garcia perez'"
            ],
            "application/vnd.google.colaboratory.intrinsic+json": {
              "type": "string"
            }
          },
          "metadata": {},
          "execution_count": 52
        }
      ]
    },
    {
      "cell_type": "code",
      "source": [
        "last_name = last_name.capitalize()"
      ],
      "metadata": {
        "colab": {
          "base_uri": "https://localhost:8080/",
          "height": 36
        },
        "id": "J_GEm41GPkly",
        "outputId": "f22a4e9e-3cca-413f-88f4-317f3cc871c4"
      },
      "execution_count": null,
      "outputs": [
        {
          "output_type": "execute_result",
          "data": {
            "text/plain": [
              "'Fiumara'"
            ],
            "application/vnd.google.colaboratory.intrinsic+json": {
              "type": "string"
            }
          },
          "metadata": {},
          "execution_count": 45
        }
      ]
    },
    {
      "cell_type": "markdown",
      "metadata": {
        "id": "M0YRNBIOcVvS"
      },
      "source": [
        "3) practiquemos algunas operaciones matematicas para refrescar!!\n",
        "\n",
        "  defina cada variable y responda las siguientes preguntas:  \n",
        "  * a = 3\n",
        "  * b = 5\n",
        "  * c = 4\n",
        "\n",
        "  3.1) el resultado de la suma de a y c\n",
        "\n",
        "  3.2) el resultado de A menos B\n",
        "\n",
        "  3.3) la multiplicacion de A y C\n",
        "\n",
        "  3.4) cual es el cuadrado de B ?\n",
        "\n",
        "  3.5) dividir B en C veces es igual a.. ? y si la division es entera? cual es el resto?\n",
        "\n",
        "  3.6) cual es la raiz cuadrada de C ?\n",
        "\n",
        "  3.7) es A par? y C ?"
      ]
    },
    {
      "cell_type": "code",
      "source": [
        "a = 3\n",
        "b = 5\n",
        "c = 4"
      ],
      "metadata": {
        "id": "BJaki_9bPmUy"
      },
      "execution_count": null,
      "outputs": []
    },
    {
      "cell_type": "code",
      "source": [
        "#3.1\n",
        "a+b"
      ],
      "metadata": {
        "colab": {
          "base_uri": "https://localhost:8080/"
        },
        "id": "mKWyeIpjPmGZ",
        "outputId": "dd1d0a3a-07bf-4ede-e111-47fc4b207155"
      },
      "execution_count": null,
      "outputs": [
        {
          "output_type": "execute_result",
          "data": {
            "text/plain": [
              "8"
            ]
          },
          "metadata": {},
          "execution_count": 54
        }
      ]
    },
    {
      "cell_type": "code",
      "source": [
        "#3.2\n",
        "a-b"
      ],
      "metadata": {
        "colab": {
          "base_uri": "https://localhost:8080/"
        },
        "id": "YRQfyeC0hmsW",
        "outputId": "3b9a073a-7dc2-4f5d-e115-573a8a367738"
      },
      "execution_count": null,
      "outputs": [
        {
          "output_type": "execute_result",
          "data": {
            "text/plain": [
              "-2"
            ]
          },
          "metadata": {},
          "execution_count": 55
        }
      ]
    },
    {
      "cell_type": "code",
      "source": [
        "#3.3\n",
        "a*c\n"
      ],
      "metadata": {
        "colab": {
          "base_uri": "https://localhost:8080/"
        },
        "id": "cypDauN_hpp9",
        "outputId": "91da9625-b73c-4bda-b532-ba295df2564a"
      },
      "execution_count": null,
      "outputs": [
        {
          "output_type": "execute_result",
          "data": {
            "text/plain": [
              "12"
            ]
          },
          "metadata": {},
          "execution_count": 56
        }
      ]
    },
    {
      "cell_type": "code",
      "source": [
        "#3.4\n",
        "b ** 2"
      ],
      "metadata": {
        "colab": {
          "base_uri": "https://localhost:8080/"
        },
        "id": "Fw2VgXOGhpfN",
        "outputId": "137b871b-3599-4855-c818-e5114798172d"
      },
      "execution_count": null,
      "outputs": [
        {
          "output_type": "execute_result",
          "data": {
            "text/plain": [
              "25"
            ]
          },
          "metadata": {},
          "execution_count": 59
        }
      ]
    },
    {
      "cell_type": "code",
      "source": [
        "#3.5.1\n",
        "b/c\n",
        "#3.5.2\n",
        "b//c\n",
        "#3.5.3\n",
        "b%c"
      ],
      "metadata": {
        "colab": {
          "base_uri": "https://localhost:8080/"
        },
        "id": "Xasq-UcvhpU9",
        "outputId": "8a00fbc5-cd2b-4b69-bcd1-8bc4548e1c8a"
      },
      "execution_count": null,
      "outputs": [
        {
          "output_type": "execute_result",
          "data": {
            "text/plain": [
              "1"
            ]
          },
          "metadata": {},
          "execution_count": 62
        }
      ]
    },
    {
      "cell_type": "code",
      "source": [
        "import math"
      ],
      "metadata": {
        "id": "QWQ2gnJ6iklN"
      },
      "execution_count": null,
      "outputs": []
    },
    {
      "cell_type": "code",
      "source": [],
      "metadata": {
        "colab": {
          "base_uri": "https://localhost:8080/"
        },
        "id": "HjUCugvgivtt",
        "outputId": "d9e6d66d-df10-47ee-c542-ae3e49a094e6"
      },
      "execution_count": null,
      "outputs": [
        {
          "output_type": "execute_result",
          "data": {
            "text/plain": [
              "2.0"
            ]
          },
          "metadata": {},
          "execution_count": 67
        }
      ]
    },
    {
      "cell_type": "code",
      "source": [
        "#3.6\n",
        "c**0.5\n",
        "math.sqrt(c)"
      ],
      "metadata": {
        "colab": {
          "base_uri": "https://localhost:8080/",
          "height": 176
        },
        "id": "exV9oLEAhosd",
        "outputId": "1485550c-89c6-4534-b93b-3856264dea09"
      },
      "execution_count": null,
      "outputs": [
        {
          "output_type": "error",
          "ename": "NameError",
          "evalue": "name 'sqrt' is not defined",
          "traceback": [
            "\u001b[0;31m---------------------------------------------------------------------------\u001b[0m",
            "\u001b[0;31mNameError\u001b[0m                                 Traceback (most recent call last)",
            "\u001b[0;32m<ipython-input-65-a5d775a41ebf>\u001b[0m in \u001b[0;36m<cell line: 0>\u001b[0;34m()\u001b[0m\n\u001b[1;32m      1\u001b[0m \u001b[0;31m#3.6\u001b[0m\u001b[0;34m\u001b[0m\u001b[0;34m\u001b[0m\u001b[0m\n\u001b[1;32m      2\u001b[0m \u001b[0mc\u001b[0m\u001b[0;34m**\u001b[0m\u001b[0;36m0.5\u001b[0m\u001b[0;34m\u001b[0m\u001b[0;34m\u001b[0m\u001b[0m\n\u001b[0;32m----> 3\u001b[0;31m \u001b[0msqrt\u001b[0m\u001b[0;34m\u001b[0m\u001b[0;34m\u001b[0m\u001b[0m\n\u001b[0m",
            "\u001b[0;31mNameError\u001b[0m: name 'sqrt' is not defined"
          ]
        }
      ]
    },
    {
      "cell_type": "code",
      "source": [
        "#3.7.1\n",
        "es_a_par = a%2 == 0\n",
        "#3.7.2\n",
        "c%2 == 0"
      ],
      "metadata": {
        "colab": {
          "base_uri": "https://localhost:8080/"
        },
        "id": "rkrQWZu4j2OV",
        "outputId": "0051422c-cf9b-4d3a-ee53-abf571fa1a1f"
      },
      "execution_count": null,
      "outputs": [
        {
          "output_type": "execute_result",
          "data": {
            "text/plain": [
              "True"
            ]
          },
          "metadata": {},
          "execution_count": 70
        }
      ]
    },
    {
      "cell_type": "code",
      "source": [
        "es_a_par"
      ],
      "metadata": {
        "colab": {
          "base_uri": "https://localhost:8080/"
        },
        "id": "xsM4XTR3kVol",
        "outputId": "8ecb47b0-7595-4c1b-fb16-7d5d75f1a00c"
      },
      "execution_count": null,
      "outputs": [
        {
          "output_type": "execute_result",
          "data": {
            "text/plain": [
              "False"
            ]
          },
          "metadata": {},
          "execution_count": 73
        }
      ]
    },
    {
      "cell_type": "markdown",
      "metadata": {
        "id": "jIOKS6j7cl-m"
      },
      "source": [
        "4)\n",
        "\n",
        "pedir al usuario el precio de cierre de GGAL y guardarla en variable \"ggal_price\". Si tengo la certeza que mañana no subira ni bajara mas de un X% (ingresar por consola tambien),entre que posibles precios se podra encontrar mañana? guardar los rangos minimos y maximos en dos variables."
      ]
    },
    {
      "cell_type": "code",
      "execution_count": null,
      "metadata": {
        "colab": {
          "base_uri": "https://localhost:8080/"
        },
        "id": "EbPz_ytqgJXN",
        "outputId": "54f026a7-fc3e-4c97-936b-29f5e77c9ae4"
      },
      "outputs": [
        {
          "name": "stdout",
          "output_type": "stream",
          "text": [
            "pasame el precio de cierre de GGAL: 7500\n",
            "pasame tambien la variacion porcentual (%) certera del papel para mañana: 1\n"
          ]
        }
      ],
      "source": [
        "ggal_price = input(\"pasame el precio de cierre de GGAL: \")\n",
        "variacion_certeza = input(\"pasame tambien la variacion porcentual (%) certera del papel para mañana: \")"
      ]
    },
    {
      "cell_type": "code",
      "source": [
        "min_ggal_price = float(ggal_price) * (1 - float(variacion_certeza) / 100)\n",
        "max_ggal_price = float(ggal_price) * (1 + float(variacion_certeza)/ 100 )"
      ],
      "metadata": {
        "id": "_hvURO1cPpE6"
      },
      "execution_count": null,
      "outputs": []
    },
    {
      "cell_type": "code",
      "source": [
        "min_ggal_price , max_ggal_price"
      ],
      "metadata": {
        "colab": {
          "base_uri": "https://localhost:8080/"
        },
        "id": "_PF30tRwmEgv",
        "outputId": "e82a350f-1eab-4df8-9e14-27508b151e56"
      },
      "execution_count": null,
      "outputs": [
        {
          "output_type": "execute_result",
          "data": {
            "text/plain": [
              "(7425.0, 7575.0)"
            ]
          },
          "metadata": {},
          "execution_count": 100
        }
      ]
    },
    {
      "cell_type": "markdown",
      "metadata": {
        "id": "zVZ67HyKgJ_U"
      },
      "source": [
        "### Formateos:\n",
        "Separador de miles ->       {precio: , }\n",
        "\n",
        "Decimales ->                {precio: .xf}\n",
        "\n",
        "Completar numero ->         {precio:0>4}"
      ]
    },
    {
      "cell_type": "code",
      "source": [
        "print(f\"el precio minimo de GGAL para mañana es de {min_ggal_price:,}\") #separador de miles\n",
        "print(f\"el precio minimo de GGAL para mañana es de {max_ggal_price:.2f}\") #formatear x decimales\n",
        "print(f\"el precio minimo de GGAL para mañana es de {min_ggal_price:0>9}\") # chequear y pasar por grupo de wpp"
      ],
      "metadata": {
        "colab": {
          "base_uri": "https://localhost:8080/"
        },
        "id": "zZqVU1-SmqOe",
        "outputId": "84051e1d-cc6b-4d9f-b8f6-4371d015cd9f"
      },
      "execution_count": null,
      "outputs": [
        {
          "output_type": "stream",
          "name": "stdout",
          "text": [
            "el precio minimo de GGAL para mañana es de 7,425.0\n",
            "el precio minimo de GGAL para mañana es de 7575.00\n",
            "el precio minimo de GGAL para mañana es de 7425.0000\n"
          ]
        }
      ]
    },
    {
      "cell_type": "markdown",
      "metadata": {
        "id": "A5_v-cvwt8wy"
      },
      "source": [
        "##¿Qué son los Slicings en Python?\n",
        "es una técnica para extraer subcadenas de una **cadena de texto** o elementos de una lista o secuencia.\n",
        "\n",
        "\n",
        "Syntaxis:   \n",
        "\n",
        "            string [posicion]\n",
        "\n",
        "            string[start:end(exc)]\n",
        "\n",
        "            string [ start : end (exc) : step(opc)]\n",
        "            \n",
        "\n",
        "Si uso valores negativos, puedo invertir el string.\n",
        "\n",
        "\n"
      ]
    },
    {
      "cell_type": "code",
      "source": [
        "nombre = \"julian\""
      ],
      "metadata": {
        "id": "wah6OIPdo-lW"
      },
      "execution_count": null,
      "outputs": []
    },
    {
      "cell_type": "code",
      "source": [
        "#posicion\n",
        "nombre[2]"
      ],
      "metadata": {
        "colab": {
          "base_uri": "https://localhost:8080/",
          "height": 36
        },
        "id": "IUZEM2DQpBa3",
        "outputId": "8999e8e1-e317-481e-852f-adf12ba9e6b8"
      },
      "execution_count": null,
      "outputs": [
        {
          "output_type": "execute_result",
          "data": {
            "text/plain": [
              "'l'"
            ],
            "application/vnd.google.colaboratory.intrinsic+json": {
              "type": "string"
            }
          },
          "metadata": {},
          "execution_count": 110
        }
      ]
    },
    {
      "cell_type": "code",
      "source": [
        "#start - end\n",
        "nombre[0:4] #me esta capturando del caracter 0 al 3"
      ],
      "metadata": {
        "colab": {
          "base_uri": "https://localhost:8080/",
          "height": 36
        },
        "id": "eaAhPFmOpBIX",
        "outputId": "7ecb6a1c-a433-42e9-97af-0747a01ba8f5"
      },
      "execution_count": null,
      "outputs": [
        {
          "output_type": "execute_result",
          "data": {
            "text/plain": [
              "'juli'"
            ],
            "application/vnd.google.colaboratory.intrinsic+json": {
              "type": "string"
            }
          },
          "metadata": {},
          "execution_count": 115
        }
      ]
    },
    {
      "cell_type": "code",
      "source": [
        "#start - end -step\n",
        "nombre[0:4 : 2]"
      ],
      "metadata": {
        "colab": {
          "base_uri": "https://localhost:8080/",
          "height": 36
        },
        "id": "Oc2ZX0zAqSNY",
        "outputId": "d82b2678-630f-4cd9-b1cd-5a54d2a04980"
      },
      "execution_count": null,
      "outputs": [
        {
          "output_type": "execute_result",
          "data": {
            "text/plain": [
              "'jl'"
            ],
            "application/vnd.google.colaboratory.intrinsic+json": {
              "type": "string"
            }
          },
          "metadata": {},
          "execution_count": 117
        }
      ]
    },
    {
      "cell_type": "markdown",
      "metadata": {
        "id": "uHf5h9bZ103Z"
      },
      "source": [
        "5)\n",
        "\n",
        "Cuantas palabras tiene la variable?\n",
        "\n",
        "Cual es el sexto caracter? y el doceavo? cual es la septima letra?\n",
        "\n",
        "Cual es la primer palabra?"
      ]
    },
    {
      "cell_type": "code",
      "execution_count": null,
      "metadata": {
        "id": "Ym-BZ7R20APq"
      },
      "outputs": [],
      "source": [
        "programa = \"Python para Finanzas \"\n",
        "programa = programa.strip()"
      ]
    },
    {
      "cell_type": "code",
      "source": [
        "solucion = programa.count(\" \") + 1"
      ],
      "metadata": {
        "id": "-ol1q8mmrwyX"
      },
      "execution_count": null,
      "outputs": []
    },
    {
      "cell_type": "code",
      "source": [
        "solucion"
      ],
      "metadata": {
        "colab": {
          "base_uri": "https://localhost:8080/"
        },
        "id": "w0yVo_XasDH4",
        "outputId": "cb948f99-0a1c-4aae-dde8-336f03f9bc27"
      },
      "execution_count": null,
      "outputs": [
        {
          "output_type": "execute_result",
          "data": {
            "text/plain": [
              "3"
            ]
          },
          "metadata": {},
          "execution_count": 133
        }
      ]
    },
    {
      "cell_type": "code",
      "source": [
        "programa[5]"
      ],
      "metadata": {
        "colab": {
          "base_uri": "https://localhost:8080/",
          "height": 36
        },
        "id": "kZ93hBd5sRQo",
        "outputId": "5ced9e25-2b80-4ca0-f866-e50c83c1ac22"
      },
      "execution_count": null,
      "outputs": [
        {
          "output_type": "execute_result",
          "data": {
            "text/plain": [
              "'n'"
            ],
            "application/vnd.google.colaboratory.intrinsic+json": {
              "type": "string"
            }
          },
          "metadata": {},
          "execution_count": 134
        }
      ]
    },
    {
      "cell_type": "code",
      "source": [
        "programa[11]"
      ],
      "metadata": {
        "colab": {
          "base_uri": "https://localhost:8080/",
          "height": 36
        },
        "id": "u2htfUgTsRBA",
        "outputId": "3bc1b284-d421-4e08-bd06-1adbe7f47709"
      },
      "execution_count": null,
      "outputs": [
        {
          "output_type": "execute_result",
          "data": {
            "text/plain": [
              "' '"
            ],
            "application/vnd.google.colaboratory.intrinsic+json": {
              "type": "string"
            }
          },
          "metadata": {},
          "execution_count": 135
        }
      ]
    },
    {
      "cell_type": "code",
      "source": [
        "programa.replace(\" \" , \"\")[6]"
      ],
      "metadata": {
        "colab": {
          "base_uri": "https://localhost:8080/",
          "height": 36
        },
        "id": "_4cIFMmmsoFw",
        "outputId": "65970056-618d-473a-d2be-c2d014747290"
      },
      "execution_count": null,
      "outputs": [
        {
          "output_type": "execute_result",
          "data": {
            "text/plain": [
              "'p'"
            ],
            "application/vnd.google.colaboratory.intrinsic+json": {
              "type": "string"
            }
          },
          "metadata": {},
          "execution_count": 137
        }
      ]
    },
    {
      "cell_type": "code",
      "source": [],
      "metadata": {
        "colab": {
          "base_uri": "https://localhost:8080/"
        },
        "id": "KLski_Dmt2QI",
        "outputId": "d32d309b-2822-4827-cfcb-4cd0602a4089"
      },
      "execution_count": null,
      "outputs": [
        {
          "output_type": "execute_result",
          "data": {
            "text/plain": [
              "6"
            ]
          },
          "metadata": {},
          "execution_count": 139
        }
      ]
    },
    {
      "cell_type": "code",
      "source": [
        "primer_palabra = programa[0:programa.find(' ')] #solucion claudio!"
      ],
      "metadata": {
        "id": "O5JU4oQ0tlX5"
      },
      "execution_count": null,
      "outputs": []
    },
    {
      "cell_type": "code",
      "source": [
        "primer_palabra"
      ],
      "metadata": {
        "colab": {
          "base_uri": "https://localhost:8080/",
          "height": 36
        },
        "id": "NTaqPz-4uFeo",
        "outputId": "8c86f7ac-dbc1-4080-a80c-cec053121e4b"
      },
      "execution_count": null,
      "outputs": [
        {
          "output_type": "execute_result",
          "data": {
            "text/plain": [
              "'Python'"
            ],
            "application/vnd.google.colaboratory.intrinsic+json": {
              "type": "string"
            }
          },
          "metadata": {},
          "execution_count": 141
        }
      ]
    },
    {
      "cell_type": "markdown",
      "metadata": {
        "id": "3uIzew57c4H6"
      },
      "source": [
        "6) juguemos un rato con los slicing en strings!!\n",
        "* utilizando metodos de strings , capturar en una variable la frase \"es la mas alta de los ultimos años.\"\n",
        "* cual es la ultima palabra de la oración?"
      ]
    },
    {
      "cell_type": "code",
      "execution_count": null,
      "metadata": {
        "id": "oxjlHPWOdcW8"
      },
      "outputs": [],
      "source": [
        "oracion = \"\"\"    La inflación de EE.UU. es la más alta de los últimos años. ¿No sabés qué hacer para que tus dólares no pierdan valor?\n",
        "Te compartimos tres carteras de ONs y sus rendimientos anuales esperados para que puedas proteger tu capital    \"\"\"\n"
      ]
    },
    {
      "cell_type": "code",
      "source": [
        "posicion_primer_punto = oracion.find(\".\")\n",
        "oracion_primer_recorte = oracion[posicion_primer_punto : ]\n",
        "#oracion_primer_recorte #aca como seguirlo.....\n"
      ],
      "metadata": {
        "colab": {
          "base_uri": "https://localhost:8080/",
          "height": 53
        },
        "id": "xdLJsC0euKlQ",
        "outputId": "47eef794-c581-42f2-9eed-9fdfbf317d6a"
      },
      "execution_count": null,
      "outputs": [
        {
          "output_type": "execute_result",
          "data": {
            "text/plain": [
              "'.UU. es la más alta de los últimos años. ¿No sabés qué hacer para que tus dólares no pierdan valor?\\nTe compartimos tres carteras de ONs y sus rendimientos anuales esperados para que puedas proteger tu capital    '"
            ],
            "application/vnd.google.colaboratory.intrinsic+json": {
              "type": "string"
            }
          },
          "metadata": {},
          "execution_count": 143
        }
      ]
    },
    {
      "cell_type": "code",
      "source": [
        "oracion_reversa = oracion[::-1].strip()\n",
        "oracion_reversa_primer_espacio = oracion_reversa.find(\" \")\n",
        "palabra_final_reversa = oracion_reversa[:oracion_reversa_primer_espacio]"
      ],
      "metadata": {
        "id": "0Uo-IZuvvZqB"
      },
      "execution_count": null,
      "outputs": []
    },
    {
      "cell_type": "code",
      "source": [
        "palabra_final_reversa[::-1]"
      ],
      "metadata": {
        "colab": {
          "base_uri": "https://localhost:8080/",
          "height": 36
        },
        "id": "-AlZwqGjvaKZ",
        "outputId": "c43ade95-233e-4418-d9f5-bcfcee232c21"
      },
      "execution_count": null,
      "outputs": [
        {
          "output_type": "execute_result",
          "data": {
            "text/plain": [
              "'capital'"
            ],
            "application/vnd.google.colaboratory.intrinsic+json": {
              "type": "string"
            }
          },
          "metadata": {},
          "execution_count": 155
        }
      ]
    },
    {
      "cell_type": "code",
      "source": [],
      "metadata": {
        "id": "p7exGCn5wgha"
      },
      "execution_count": null,
      "outputs": []
    },
    {
      "cell_type": "markdown",
      "metadata": {
        "id": "2RSJTFv9eQz8"
      },
      "source": [
        "7) pedir por consola al usuario un email y guardarlo en variable \"email\". Imprimir si cumple con alguna de las terminaciones existentes\n",
        " (supongamos que solo existen las terminaciones __@gmail.com__ y __@yahoo.com__ )\n",
        "\n",
        "\n",
        " imprimir de la forma  -->       \"es X que el mail termina en Z , y es Y que el mail termina en K\""
      ]
    },
    {
      "cell_type": "code",
      "execution_count": null,
      "metadata": {
        "colab": {
          "base_uri": "https://localhost:8080/"
        },
        "id": "uKwZTbXzNGG1",
        "outputId": "ea6b63b2-d151-442a-a9cd-2914bda2764b"
      },
      "outputs": [
        {
          "name": "stdout",
          "output_type": "stream",
          "text": [
            "escribe tu email: @gmail.com\n"
          ]
        }
      ],
      "source": [
        "email = input(\"escribe tu email: \")\n",
        "gmail = \"@gmail.com\"\n",
        "yahoo = \"@yahoo.com\"\n",
        "\n",
        "condicion_gmail = email[email.find(\"@\"): ] == gmail\n",
        "condicion_yahoo = email[email.find(\"@\"): ] == yahoo"
      ]
    },
    {
      "cell_type": "code",
      "source": [
        "print(f\"es {condicion_gmail} que el mail termina en {gmail}, y es {condicion_yahoo} que el email termina en {yahoo}\" )"
      ],
      "metadata": {
        "colab": {
          "base_uri": "https://localhost:8080/"
        },
        "id": "GZOOAr5GRI76",
        "outputId": "b16b2ee6-eb79-41ba-a657-e4867203248d"
      },
      "execution_count": null,
      "outputs": [
        {
          "output_type": "stream",
          "name": "stdout",
          "text": [
            "es True que el mail termina en @gmail.com, y es False que el email termina en @yahoo.com\n"
          ]
        }
      ]
    },
    {
      "cell_type": "code",
      "source": [
        "email.endswith(gmail)"
      ],
      "metadata": {
        "colab": {
          "base_uri": "https://localhost:8080/"
        },
        "id": "4--VS5n1ydTp",
        "outputId": "1ab643f5-fd98-4dae-bf0b-8c92675dfbb8"
      },
      "execution_count": null,
      "outputs": [
        {
          "output_type": "execute_result",
          "data": {
            "text/plain": [
              "True"
            ]
          },
          "metadata": {},
          "execution_count": 162
        }
      ]
    },
    {
      "cell_type": "markdown",
      "metadata": {
        "id": "XnAJYR76eSVk"
      },
      "source": [
        "8)\n",
        "\n",
        "* Limpiar el string de cotizaciones lo maximo posible.\n",
        "\n",
        "* La ultima cotizacion tuvo un error de tipeo, es imposible que COME supere los $3. Como puedo modificar su valor a 2.99 sin usar replace?"
      ]
    },
    {
      "cell_type": "code",
      "execution_count": null,
      "metadata": {
        "id": "MSpSLnZse975"
      },
      "outputs": [],
      "source": [
        "cotizaciones = \"\"\" BMA C $220,00\n",
        "BMA C $219,22\n",
        "BMA V $221,50\n",
        "CoME V $3,00\n",
        "GGAL c $190,95\n",
        "BMA V $220,25\n",
        "GGAL  v $187,20\n",
        "TS V $40,30\n",
        "TS C $45,20\n",
        "TS V $40,20\n",
        "COME C $3,01\"\"\"\n",
        "\n"
      ]
    },
    {
      "cell_type": "code",
      "execution_count": null,
      "metadata": {
        "id": "2XVDIagAPm8x"
      },
      "outputs": [],
      "source": []
    },
    {
      "cell_type": "markdown",
      "metadata": {
        "id": "PThtifvDfYuO"
      },
      "source": [
        "10) verificar si el contenido de las variables dadas son un palindromo  e imprimir todas las respuestas  utilizando UNA sola vez la funcion \"print\" asegurando que entre cada respuesta haya un salto de linea.\n",
        "\n",
        "imprimir en un formato similar al punto 1.\n",
        "\n",
        "a la variable __cuatro__ formatear con metodos para intentar asegurar no tener fallas a la hora de resolver."
      ]
    },
    {
      "cell_type": "code",
      "execution_count": null,
      "metadata": {
        "id": "vbnYhEinfi55"
      },
      "outputs": [],
      "source": [
        "uno = \"Python\"\n",
        "dos = \"Amor a Roma\"\n",
        "tres = \"Yo hago yoga hoy\"\n",
        "#cuatro = dejamos al usuario que"
      ]
    },
    {
      "cell_type": "markdown",
      "metadata": {
        "id": "Y0LUas2imZLq"
      },
      "source": [
        "11) Pida al usuario una frase, e informe cuantas vocales contiene. Al hacerlo, centre la respuesta en 10 caracteres."
      ]
    },
    {
      "cell_type": "code",
      "source": [],
      "metadata": {
        "id": "5FIxQu-fRfbb"
      },
      "execution_count": null,
      "outputs": []
    },
    {
      "cell_type": "code",
      "source": [],
      "metadata": {
        "id": "Jx6aJz-VRhMJ"
      },
      "execution_count": null,
      "outputs": []
    }
  ],
  "metadata": {
    "colab": {
      "provenance": [],
      "include_colab_link": true
    },
    "kernelspec": {
      "display_name": "Python 3 (ipykernel)",
      "language": "python",
      "name": "python3"
    },
    "language_info": {
      "codemirror_mode": {
        "name": "ipython",
        "version": 3
      },
      "file_extension": ".py",
      "mimetype": "text/x-python",
      "name": "python",
      "nbconvert_exporter": "python",
      "pygments_lexer": "ipython3",
      "version": "3.12.4"
    }
  },
  "nbformat": 4,
  "nbformat_minor": 0
}