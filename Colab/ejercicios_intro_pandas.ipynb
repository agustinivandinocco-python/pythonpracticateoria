{
  "cells": [
    {
      "cell_type": "markdown",
      "metadata": {
        "id": "view-in-github",
        "colab_type": "text"
      },
      "source": [
        "<a href=\"https://colab.research.google.com/github/agustinivandinocco-python/pythonpracticateoria/blob/main/Colab/ejercicios_intro_pandas.ipynb\" target=\"_parent\"><img src=\"https://colab.research.google.com/assets/colab-badge.svg\" alt=\"Open In Colab\"/></a>"
      ]
    },
    {
      "cell_type": "markdown",
      "id": "a868de2f",
      "metadata": {
        "id": "a868de2f"
      },
      "source": [
        "#  Ejercicios introductorios a Pandas"
      ]
    },
    {
      "cell_type": "code",
      "execution_count": null,
      "id": "842feb7a",
      "metadata": {
        "id": "842feb7a"
      },
      "outputs": [],
      "source": [
        "solicitudes = {\n",
        "    \"Pepe\": [200000 , \"bajo\"],\n",
        "    \"Juan\": [3000000 , \"medio\"],\n",
        "    \"Victoria\": [600000 , \"medio\"],\n",
        "    \"Agostina\" : [1500000 , \"alto\"],\n",
        "    \"Julian\" : [300000 , \"alto\"],\n",
        "    \"Francisco\": [500000 , \"alto\"],\n",
        "    \"Pilar\": [3000000 , \"bajo\"],\n",
        "    \"Raul\": [3000000 , \"medio\"]\n",
        "}"
      ]
    },
    {
      "cell_type": "markdown",
      "id": "0d129d19",
      "metadata": {
        "id": "0d129d19"
      },
      "source": [
        "### 1)\n",
        "crear un dataframe a partir del diccionario \"solicitudes\""
      ]
    },
    {
      "cell_type": "code",
      "execution_count": null,
      "id": "bba28483",
      "metadata": {
        "id": "bba28483"
      },
      "outputs": [],
      "source": []
    },
    {
      "cell_type": "code",
      "execution_count": null,
      "id": "d8f89023",
      "metadata": {
        "id": "d8f89023"
      },
      "outputs": [],
      "source": []
    },
    {
      "cell_type": "markdown",
      "id": "85975f98",
      "metadata": {
        "id": "85975f98"
      },
      "source": [
        "### 2)\n",
        "imprimir cuantas filas y columnas tiene el dataframe. De que tipo son los datos?"
      ]
    },
    {
      "cell_type": "code",
      "execution_count": null,
      "id": "35abeaa4",
      "metadata": {
        "id": "35abeaa4"
      },
      "outputs": [],
      "source": []
    },
    {
      "cell_type": "code",
      "execution_count": null,
      "id": "f1c1867a",
      "metadata": {
        "id": "f1c1867a"
      },
      "outputs": [],
      "source": []
    },
    {
      "cell_type": "markdown",
      "id": "bc4fd2ee",
      "metadata": {
        "id": "bc4fd2ee"
      },
      "source": [
        "###  2)\n",
        "\n",
        "De cuanto fue el prestamo de mayor monto solicitado? Que perfil de riesgo tenia ese cliente? Cual es su nombre?\n",
        "\n",
        "y el menor monto? de cuantos pesos ha sido?"
      ]
    },
    {
      "cell_type": "code",
      "execution_count": null,
      "id": "4b56cfe8",
      "metadata": {
        "id": "4b56cfe8"
      },
      "outputs": [],
      "source": []
    },
    {
      "cell_type": "code",
      "execution_count": null,
      "id": "cd39b372",
      "metadata": {
        "id": "cd39b372"
      },
      "outputs": [],
      "source": []
    },
    {
      "cell_type": "markdown",
      "id": "68a9439c",
      "metadata": {
        "id": "68a9439c"
      },
      "source": [
        "### 3)\n",
        "\n",
        "Suponiendo que todos los prestamos han sido aprobados, que porcentaje de la cartera ocupa cada uno?\n",
        "\n",
        "Agregar dichas ponderaciones en una nueva columna \"porcentaje\"."
      ]
    },
    {
      "cell_type": "code",
      "execution_count": null,
      "id": "8bba45cf",
      "metadata": {
        "id": "8bba45cf"
      },
      "outputs": [],
      "source": []
    },
    {
      "cell_type": "code",
      "execution_count": null,
      "id": "7cdb03c4",
      "metadata": {
        "id": "7cdb03c4"
      },
      "outputs": [],
      "source": []
    },
    {
      "cell_type": "markdown",
      "id": "eb9ad78d",
      "metadata": {
        "id": "eb9ad78d"
      },
      "source": [
        "###  4)\n",
        "\n",
        "Encontrar el top 3 de mayor ponderacion. agregar una columna de rankings que refiera a lo solicitado."
      ]
    },
    {
      "cell_type": "code",
      "execution_count": null,
      "id": "d90e1f89",
      "metadata": {
        "id": "d90e1f89"
      },
      "outputs": [],
      "source": []
    },
    {
      "cell_type": "code",
      "execution_count": null,
      "id": "06cf9189",
      "metadata": {
        "id": "06cf9189"
      },
      "outputs": [],
      "source": []
    },
    {
      "cell_type": "markdown",
      "id": "0a3d3a71",
      "metadata": {
        "id": "0a3d3a71"
      },
      "source": [
        "### 5)\n",
        "\n",
        "Descargar data de GGAL de yfinance"
      ]
    },
    {
      "cell_type": "code",
      "execution_count": null,
      "id": "5878eab5",
      "metadata": {
        "id": "5878eab5"
      },
      "outputs": [],
      "source": []
    },
    {
      "cell_type": "code",
      "execution_count": null,
      "id": "cd6c1d52",
      "metadata": {
        "id": "cd6c1d52"
      },
      "outputs": [],
      "source": []
    },
    {
      "cell_type": "markdown",
      "id": "a45caa6c",
      "metadata": {
        "id": "a45caa6c"
      },
      "source": [
        "###  6)\n",
        "imprimir la cantidad de filas y columnas,el index , los nombres de columnas, la informacion de nuestro dataframe, y tambien algunas estadisticas descriptivas."
      ]
    },
    {
      "cell_type": "code",
      "execution_count": null,
      "id": "af085a6a",
      "metadata": {
        "id": "af085a6a"
      },
      "outputs": [],
      "source": []
    },
    {
      "cell_type": "code",
      "execution_count": null,
      "id": "5010f6fe",
      "metadata": {
        "id": "5010f6fe"
      },
      "outputs": [],
      "source": []
    },
    {
      "cell_type": "markdown",
      "id": "8c5f1913",
      "metadata": {
        "id": "8c5f1913"
      },
      "source": [
        "###  7)\n",
        "\n",
        "guardar en otra variable un dataframe que tenga solo la columna 'Adj Close' y \"Volume\"."
      ]
    },
    {
      "cell_type": "code",
      "execution_count": null,
      "id": "a6bf0f4f",
      "metadata": {
        "id": "a6bf0f4f"
      },
      "outputs": [],
      "source": []
    },
    {
      "cell_type": "code",
      "execution_count": null,
      "id": "71661774",
      "metadata": {
        "id": "71661774"
      },
      "outputs": [],
      "source": []
    },
    {
      "cell_type": "markdown",
      "id": "91286a13",
      "metadata": {
        "id": "91286a13"
      },
      "source": [
        "### 8)\n",
        "Cual es el volumen promedio del dataframe? y de las ultimas 100 ruedas?"
      ]
    },
    {
      "cell_type": "code",
      "execution_count": null,
      "id": "05a7b69b",
      "metadata": {
        "id": "05a7b69b"
      },
      "outputs": [],
      "source": []
    },
    {
      "cell_type": "code",
      "execution_count": null,
      "id": "c415415a",
      "metadata": {
        "id": "c415415a"
      },
      "outputs": [],
      "source": []
    },
    {
      "cell_type": "code",
      "execution_count": null,
      "id": "94a183aa",
      "metadata": {
        "id": "94a183aa"
      },
      "outputs": [],
      "source": []
    }
  ],
  "metadata": {
    "kernelspec": {
      "display_name": "Python 3 (ipykernel)",
      "language": "python",
      "name": "python3"
    },
    "language_info": {
      "codemirror_mode": {
        "name": "ipython",
        "version": 3
      },
      "file_extension": ".py",
      "mimetype": "text/x-python",
      "name": "python",
      "nbconvert_exporter": "python",
      "pygments_lexer": "ipython3",
      "version": "3.10.9"
    },
    "colab": {
      "provenance": [],
      "include_colab_link": true
    }
  },
  "nbformat": 4,
  "nbformat_minor": 5
}